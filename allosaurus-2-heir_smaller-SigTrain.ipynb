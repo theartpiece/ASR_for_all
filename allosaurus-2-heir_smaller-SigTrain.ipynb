{
 "cells": [
  {
   "cell_type": "markdown",
   "metadata": {
    "tags": []
   },
   "source": [
    "# Imports"
   ]
  },
  {
   "cell_type": "code",
   "execution_count": 2,
   "metadata": {},
   "outputs": [],
   "source": [
    "import os\n",
    "# import os\n",
    "os.environ['TRANSFORMERS_CACHE'] = '/data/cg46773/transformer'\n",
    "os.environ[\"CUDA_DEVICE_ORDER\"]=\"PCI_BUS_ID\"   # see issue #152\n",
    "os.environ[\"CUDA_VISIBLE_DEVICES\"]=\"4\" \n",
    "from tqdm.notebook import tqdm\n"
   ]
  },
  {
   "cell_type": "code",
   "execution_count": 3,
   "metadata": {},
   "outputs": [],
   "source": [
    "from itertools import groupby\n",
    "import editdistance\n"
   ]
  },
  {
   "cell_type": "code",
   "execution_count": 4,
   "metadata": {},
   "outputs": [
    {
     "name": "stderr",
     "output_type": "stream",
     "text": [
      "/data/cg46773/miniconda3/envs/base3.7/lib/python3.7/site-packages/torchaudio/_internal/module_utils.py:87: UserWarning: Failed to import soundfile. 'soundfile' backend is not available.\n",
      "  warnings.warn(\"Failed to import soundfile. 'soundfile' backend is not available.\")\n"
     ]
    }
   ],
   "source": [
    "# import os\n",
    "import pandas as pd\n",
    "from torch.utils.data import Dataset, DataLoader\n",
    "import torchaudio\n",
    "import torchaudio.transforms as transforms\n",
    "import argparse\n",
    "import torch\n",
    "from torch import nn, optim\n",
    "from torch.nn import functional as F\n",
    "from torch.nn.utils.rnn import pad_sequence, pack_padded_sequence, pad_packed_sequence\n",
    "from torch.utils.data.sampler import Sampler, BatchSampler, SubsetRandomSampler\n",
    "import pickle\n",
    "import numpy as np\n",
    "import python_speech_features \n",
    "import scipy.io.wavfile as wav\n"
   ]
  },
  {
   "cell_type": "code",
   "execution_count": 5,
   "metadata": {},
   "outputs": [],
   "source": [
    "import math"
   ]
  },
  {
   "cell_type": "code",
   "execution_count": 6,
   "metadata": {},
   "outputs": [],
   "source": [
    "from ast import literal_eval"
   ]
  },
  {
   "cell_type": "code",
   "execution_count": 7,
   "metadata": {},
   "outputs": [],
   "source": [
    "parser = argparse.ArgumentParser()\n",
    "parser.add_argument('--batch-size', type=int, default=1, metavar='N',\n",
    "                    help='input batch size for training (default: 10)')\n",
    "parser.add_argument('--epochs', type=int, default=10, metavar='N',\n",
    "                    help='number of epochs to train (default: 10)')\n",
    "parser.add_argument('--no-cuda', action='store_true', default=False,\n",
    "                    help='disables CUDA training')\n",
    "parser.add_argument('--no-mps', action='store_true', default=False,\n",
    "                    help='disables macOS GPU training')\n",
    "parser.add_argument('--seed', type=int, default=1, metavar='S',\n",
    "                    help='random seed (default: 1)')\n",
    "parser.add_argument('--log-interval', type=int, default=300, metavar='N',\n",
    "                    help='how many batches to wait before logging training status')\n",
    "parser.add_argument('--silence', type=int, default=1, choices=[0,1],metavar='N',\n",
    "                    help='If silence==1 then _ char is put in begin/end of phm_seq, if ')\n",
    "parser.add_argument('--hidden_size', type=int, default=10, metavar='N',\n",
    "                    help='hidden size of the LSTM')\n",
    "parser.add_argument('--num_layers', type=int, default=1, metavar='N',\n",
    "                    help='num layers of  LSTM')\n",
    "parser.add_argument('--lr', type=float, default=1e-3,\n",
    "                    help='learning rate')\n",
    "args = parser.parse_args(args=[])\n",
    "args.cuda = not args.no_cuda and torch.cuda.is_available()\n",
    "# args.mps = not args.no_mps and torch.backends.mps.is_available()\n",
    "\n",
    "if args.cuda:\n",
    "    device = torch.device(\"cuda\")\n",
    "elif args.mps:\n",
    "    device = torch.device(\"mps\")\n",
    "else:\n",
    "    device = torch.device(\"cpu\")\n"
   ]
  },
  {
   "cell_type": "code",
   "execution_count": 8,
   "metadata": {},
   "outputs": [
    {
     "data": {
      "text/plain": [
       "(1, 1)"
      ]
     },
     "execution_count": 8,
     "metadata": {},
     "output_type": "execute_result"
    }
   ],
   "source": [
    "args.num_layers,args.silence"
   ]
  },
  {
   "cell_type": "markdown",
   "metadata": {},
   "source": [
    "# Initialize Locale, Phone, Phoneme, Mapping"
   ]
  },
  {
   "cell_type": "code",
   "execution_count": 9,
   "metadata": {},
   "outputs": [],
   "source": [
    "allophone_data = pickle.load(\n",
    "    open(\"allophone_mappings_new_new.pkl\",\"rb\"))\n",
    "\n",
    "locale_to_id={locale:idx for idx,locale in enumerate(allophone_data['language_locale to (language-local)id to phoneme'].keys())}\n",
    "id_to_locale={idx:locale for locale,idx in locale_to_id.items()}\n",
    "# maps locale to len of phonemes\n",
    "locale_to_num_phonemes={locale:len(allophone_data['language_locale to (language-local)id to phoneme'][locale]) for locale in locale_to_id}\n",
    "lang_to_phoneme_to_id = allophone_data['language_locale to phoneme to (language-local)id']\n",
    "universalPhoneme_to_id=allophone_data['universal_phoneme to id']"
   ]
  },
  {
   "cell_type": "code",
   "execution_count": 10,
   "metadata": {},
   "outputs": [
    {
     "data": {
      "text/plain": [
       "['id to universal_phone',\n",
       " 'universal_phone to id',\n",
       " 'id to universal_phoneme',\n",
       " 'universal_phoneme to id',\n",
       " 'language_locale to (language-local)id to phoneme',\n",
       " 'language_locale to phoneme to (language-local)id',\n",
       " '(Allophone mappings) language_locale to (language-local)id to universal_phone_ids',\n",
       " 'language_locale to (language-local)id to phone',\n",
       " 'language_locale to phone to (language-local)id',\n",
       " 'language_locale to phone attributes array',\n",
       " '(Allophone mappings) language_locale to (language-local)id to (language-local)ids',\n",
       " 'language_locale to (language-local)phoneme-id to (universal)phoneme-id']"
      ]
     },
     "execution_count": 10,
     "metadata": {},
     "output_type": "execute_result"
    }
   ],
   "source": [
    "list(allophone_data.keys())"
   ]
  },
  {
   "cell_type": "markdown",
   "metadata": {},
   "source": [
    "# Initialize Dataset"
   ]
  },
  {
   "cell_type": "code",
   "execution_count": 11,
   "metadata": {},
   "outputs": [],
   "source": [
    "#https://pytorch.org/audio/stable/generated/torchaudio.transforms.MFCC.html#torchaudio.transforms.MFCC\n",
    "# def MFCC(filename=\"sample.wav\"):\n",
    "def MFCC(filename=\"output1.wav\"):\n",
    "    waveform, sample_rate = torchaudio.load(filename, normalize=True)\n",
    "    transform = transforms.MFCC(\n",
    "        sample_rate=sample_rate,\n",
    "        n_mfcc=40,\n",
    "        #https://pytorch.org/audio/stable/generated/torchaudio.transforms.MelSpectrogram.html#torchaudio.transforms.MelSpectrogram\n",
    "        melkwargs={\"n_fft\": 400, #\"hop_length\": 160,\n",
    "                   \"n_mels\": 40, \"center\": False}\n",
    "                  # \"win_length\": 0.025},\n",
    "    )\n",
    "    mfcc = transform(waveform)\n",
    "    return mfcc"
   ]
  },
  {
   "cell_type": "code",
   "execution_count": 12,
   "metadata": {},
   "outputs": [],
   "source": [
    "import scipy.signal"
   ]
  },
  {
   "cell_type": "code",
   "execution_count": 13,
   "metadata": {},
   "outputs": [],
   "source": [
    "(rate,sig) = wav.read('data/hin/audio/hin-008-001.wav')\n",
    "# mfcc = torch.Tensor(\n",
    "# print(len(sig))\n",
    "signal_resampled=scipy.signal.resample(sig,(len(sig)*16000)//rate)\n",
    "# python_speech_features.mfcc(signal_resampled,16000,numcep=40, nfilt=80)\n",
    "# )\n"
   ]
  },
  {
   "cell_type": "code",
   "execution_count": 14,
   "metadata": {},
   "outputs": [
    {
     "data": {
      "text/plain": [
       "1"
      ]
     },
     "execution_count": 14,
     "metadata": {},
     "output_type": "execute_result"
    }
   ],
   "source": [
    "args.silence=1\n",
    "args.silence"
   ]
  },
  {
   "cell_type": "code",
   "execution_count": 15,
   "metadata": {},
   "outputs": [],
   "source": [
    "# args.model_name=\"Allosrs\"\n",
    "args.model_name=\"Heirarch\"\n",
    "# args.model_name=\"Shared-ours\"\n",
    "# args.model_name=\"Shared-theirs\"\n"
   ]
  },
  {
   "cell_type": "code",
   "execution_count": 16,
   "metadata": {},
   "outputs": [],
   "source": [
    "class MozillaDataset(Dataset):\n",
    "    def __init__(self, args, csv_file, type_,pt_file,audio_dir,langs_to_choose=None,silence=True):\n",
    "        data = pd.read_csv(csv_file,keep_default_na=False, na_values=[''])\n",
    "        if langs_to_choose is not None:\n",
    "            data=data[data[\"langcode\"].isin(langs_to_choose)].reset_index(drop=True)\n",
    "        data=data[data[\"type\"]==type_].reset_index(drop=True)\n",
    "        self.length = len(data)\n",
    "        audio_paths=audio_dir + '/' + data[\"path\"]\n",
    "        if not data[\"path\"].iloc[0].endswith(\".wav\"):\n",
    "            audio_paths=audio_paths + \".wav\"\n",
    "        self.x_mfcc = []\n",
    "        #JORDI-- torch-mfcc computation\\n\",\n",
    "        # for audio_path in audio_paths:\n",
    "        #     mfcc = MFCC(audio_path)\n",
    "        #     #so that the final dim is: 1 x time x n_mfcc\\n\",\n",
    "        #     mfcc = mfcc.permute(0,2,1)\n",
    "        #     mfcc = torch.squeeze(mfcc)\n",
    "        #     self.x_mfcc.append(mfcc)\n",
    "        \n",
    "        #Chitrank-- via python-speech-features\",\n",
    "        want_to_load_from_pt_file=True\n",
    "        # want_to_load_from_pt_file=False\n",
    "        if want_to_load_from_pt_file==True:\n",
    "            self.x_mfcc=torch.load(pt_file)\n",
    "        else:    \n",
    "            for audio_path in tqdm(audio_paths):\n",
    "                (rate,sig) = wav.read(audio_path)\n",
    "                if rate>16000:\n",
    "                    sig=scipy.signal.resample(sig,(len(sig)*16000)//rate)\n",
    "                    rate=16000\n",
    "                mfcc = torch.Tensor(python_speech_features.mfcc(sig,rate,numcep=40, nfilt=80))\n",
    "                # mfcc size is already T x F(=40)\n",
    "                self.x_mfcc.append(mfcc)\n",
    "            torch.save(self.x_mfcc,f=pt_file)\n",
    "        \n",
    "\n",
    "        self.lang = [locale_to_id[i] for i in data[\"langcode\"].values]\n",
    "        self.start_pos_data = [0]\n",
    "        for idx in range(1,len(self.lang)):\n",
    "            if self.lang[idx] != self.lang[idx-1]:\n",
    "                # append when the language changes \n",
    "                self.start_pos_data.append(idx)\n",
    "\n",
    "        if args.silence==1:\n",
    "            if silence:\n",
    "                phm_seq_raw = [['<SIL>']+literal_eval(i)+['<SIL>'] for i in data[\"phoneme_sequence\"].values]\n",
    "            else:\n",
    "                phm_seq_raw = [literal_eval(i) for i in data[\"phoneme_sequence\"].values]\n",
    "        else:\n",
    "            phm_seq_raw = [literal_eval(i) for i in data[\"phoneme_sequence\"].values]\n",
    "        if args.model_name==\"Shared-theirs\":\n",
    "            self.shared_theirs=True\n",
    "            phm_seq_raw= [ torch.Tensor([universalPhoneme_to_id[phm] if phm in universalPhoneme_to_id else universalPhoneme_to_id[\"a\"] for phm in phm_seq ])\n",
    "                          for idx,phm_seq in enumerate(phm_seq_raw)]\n",
    "        else:\n",
    "            phm_seq_raw= [ torch.Tensor([lang_to_phoneme_to_id[id_to_locale[self.lang[idx]]][phm] for phm in phm_seq])\n",
    "                          for idx,phm_seq in enumerate(phm_seq_raw)]\n",
    "        # self.raw = phm_seq_raw\n",
    "\n",
    "        self.phm_seq=phm_seq_raw\n",
    "#         for i in range(self.length):\n",
    "#             sequence_ = []\n",
    "#             lang_ = self.lang[i]\n",
    "#\n",
    "#             # some phonemes occupies two character space, we have to account for that\n",
    "#             j = 0\n",
    "#             special_phm = [\"ɕ\"]\n",
    "#             while j < len(phm_seq_raw[i]):\n",
    "#                 phm = phm_seq_raw[i][j]\n",
    "#                 if phm == \"ɕ\" and lang_ == \"ru\":\n",
    "#                     sequence_.append(lang_to_phoneme_to_id[lang_][\"ɕː\"])\n",
    "#                     j += 2\n",
    "#                 elif j < len(phm_seq_raw[i]) - 1 and phm_seq_raw[i][j+1] not in lang_to_phoneme_to_id[lang_] and phm_seq_raw[i][j+1] not in special_phm:\n",
    "#                     next_phm = phm_seq_raw[i][j+1]\n",
    "#                     new_phm = phm + next_phm\n",
    "#                     sequence_.append(lang_to_phoneme_to_id[lang_][new_phm])\n",
    "#                     j += 2\n",
    "#                 else:\n",
    "#                     sequence_.append(lang_to_phoneme_to_id[lang_][phm])\n",
    "#                     j += 1\n",
    "#             self.phm_seq.append(torch.Tensor(sequence_))\n",
    "        #self.phm_seq = torch.Tensor(self.phm_seq)\n",
    "\n",
    "    def __len__(self):\n",
    "        return self.length\n",
    "\n",
    "    def __getitem__(self, idx):\n",
    "        return {\"x_mfcc\": self.x_mfcc[idx], \"lang\": self.lang[idx], \"phm_seq\": self.phm_seq[idx],}\n",
    "                # \"raw\":self.raw[idx]}\n",
    "\n",
    "# mozilla_dataset_train = MozillaDataset(args,csv_file='validated_1000.csv',\n",
    "mozilla_dataset_train = MozillaDataset(args,csv_file='validated_100.csv',\n",
    "                                       type_=\"train\",\n",
    "                                       # pt_file=\"train_x_mfcc_1000.pt\",\n",
    "                                       pt_file=\"train_x_mfcc_100.pt\",\n",
    "                                       audio_dir='mozilla/wav_1000_100_1000/')\n",
    "# mozilla_dataset_dev = MozillaDataset(args,csv_file='validated_1000.csv',\n",
    "mozilla_dataset_dev = MozillaDataset(args,csv_file='validated_100.csv',\n",
    "                                     type_=\"dev\",\n",
    "                                     # pt_file=\"dev_x_mfcc_1000.pt\",\n",
    "                                     pt_file=\"dev_x_mfcc_100.pt\",\n",
    "                                     audio_dir='mozilla/wav_1000_100_1000/')\n",
    "training_languages=set({\"vi\":\"vie\",\"tr\":\"tur\",\"en\":\"eng\",\n",
    "                        \"de\":\"deu\",\"es\":\"spa\",\"it\":\"ita\",\n",
    "                        \"ja\":\"jpn\",\"ru\":\"rus\",\"zh-CN\":\"cmn\"}.values())\n",
    "non_trainining_languages=set(locale_to_id.keys())-training_languages\n",
    "# mozilla_dataset_test = MozillaDataset(args,csv_file='validated_1000.csv',\n",
    "mozilla_dataset_test_trainingLangs = MozillaDataset(args,csv_file='validated_100_test1000.csv',\n",
    "                                      type_=\"test\",\n",
    "                                      # pt_file=\"test_trainingLang_x_mfcc_1000.pt\",\n",
    "                                      pt_file=\"test_trainingLang_x_mfcc_100.pt\",\n",
    "                                      audio_dir='mozilla/wav_1000_100_1000/',\n",
    "                                     langs_to_choose=training_languages)\n",
    "# mozilla_dataset_test = MozillaDataset(args,csv_file='validated_1000.csv',\n",
    "mozilla_dataset_test_nonTrainingLangs = MozillaDataset(args,csv_file='validated_100_test1000.csv',\n",
    "                                      type_=\"test\",\n",
    "                                      # pt_file=\"test_nonTrainingLang_x_mfcc_1000.pt\",\n",
    "                                      pt_file=\"test_nonTrainingLang_x_mfcc_100.pt\",\n",
    "                                      audio_dir='mozilla/wav_1000_100_1000/',\n",
    "                                     langs_to_choose=non_trainining_languages)\n",
    "ucla_dataset_test = MozillaDataset(args,csv_file='ucla_utterances.csv',\n",
    "                                      type_=\"test\",\n",
    "                                      pt_file=\"ucla_test_x_mfcc.pt\",\n",
    "                                      audio_dir='data/',\n",
    "                                   silence=False,)\n",
    "# print(\"length of dataset: \", len(mozilla_dataset))"
   ]
  },
  {
   "cell_type": "code",
   "execution_count": 17,
   "metadata": {},
   "outputs": [
    {
     "data": {
      "text/plain": [
       "10000"
      ]
     },
     "execution_count": 17,
     "metadata": {},
     "output_type": "execute_result"
    }
   ],
   "source": [
    "len(mozilla_dataset_test_nonTrainingLangs)"
   ]
  },
  {
   "cell_type": "code",
   "execution_count": 18,
   "metadata": {},
   "outputs": [],
   "source": [
    "def collate_fn(batch):\n",
    "    # print(\"printing all the raw phonemes in every batch: \")\n",
    "    # for d in batch:\n",
    "    #     print(d[\"raw\"])\n",
    "    x_mfcc_list = [d['x_mfcc'] for d in batch]\n",
    "    # print(\"shape of first in x_mfcc_list\", x_mfcc_list[0].shape)\n",
    "    # print(\"shape of first in x_mfcc_list\", x_mfcc_list[1].shape)\n",
    "    # print(\"shape of first in x_mfcc_list\", x_mfcc_list[2].shape)\n",
    "    # print(\"shape of first in x_mfcc_list\", x_mfcc_list[3].shape)\n",
    "    x_mfcc_tensor = pad_sequence(x_mfcc_list, batch_first=True, padding_value=0)\n",
    "    #x_mfcc_lengths = sorted([len(x) for x in x_mfcc_list], reverse=True)\n",
    "    x_mfcc_lengths = [len(x) for x in x_mfcc_list]\n",
    "    #print(\"x_mfcc_lengths: \", x_mfcc_lengths)\n",
    "    x_mfcc_tensor = pack_padded_sequence(x_mfcc_tensor, lengths= x_mfcc_lengths, batch_first=True, enforce_sorted = False)\n",
    "    lang_list = [d['lang'] for d in batch]\n",
    "    #lang_list = torch.tensor(lang_list)\n",
    "    phm_seq_list = [d['phm_seq'] for d in batch]\n",
    "    #print(\"phm_seq_list\", phm_seq_list)\n",
    "    phm_seq_tensor = pad_sequence(phm_seq_list, batch_first=True, padding_value=0).to(int)\n",
    "    phm_seq_lengths = [len(x) for x in phm_seq_list]\n",
    "    # print(\"phm_seq_lengths: \", phm_seq_lengths)\n",
    "    #phm_seq_pack_padded_sequence = pack_padded_sequence(phm_seq_tensor, lengths= phm_seq_lengths, batch_first=True, enforce_sorted = False)\n",
    "    # print(\"packed padded sequence: \", x_mfcc_tensor)\n",
    "    return {\n",
    "        \"x_mfcc\": x_mfcc_tensor, # packed padded tensor\n",
    "        \"lang\": lang_list, # python list\n",
    "        \"phm_seq\": phm_seq_tensor, # padded tensor\n",
    "        \"x_mfcc_lengths\": torch.Tensor(x_mfcc_lengths).to(int), # sorted in decreasing order\n",
    "        \"phm_seq_lengths\": torch.Tensor(phm_seq_lengths).to(int) # sorted in decreasing order\n",
    "    }"
   ]
  },
  {
   "cell_type": "code",
   "execution_count": 19,
   "metadata": {},
   "outputs": [],
   "source": [
    "class BucketSampler(Sampler):\n",
    "    '''\n",
    "        creates a bucket sampler where we sample randomly from the same language without replacement\n",
    "    '''\n",
    "    def __init__(self, dataset, batch_size, generator=None) -> None:\n",
    "        self.dataset = dataset\n",
    "        self.batch_size = batch_size\n",
    "        self.generator = generator\n",
    "        start_pos_data = self.dataset.start_pos_data\n",
    "        start_end_indices = []\n",
    "        for i in range(len(start_pos_data) - 1):\n",
    "            start_end_indices.append((start_pos_data[i], start_pos_data[i+1]))\n",
    "        start_end_indices.append((start_pos_data[-1], len(self.dataset)))\n",
    "        ranges  = [range(start, end) for start, end in start_end_indices]\n",
    "        subset_samplers = [SubsetRandomSampler(range_, generator=generator) for range_ in ranges]\n",
    "        self.samplers = [\n",
    "            BatchSampler(subset_sampler, batch_size, drop_last=False) for subset_sampler in subset_samplers\n",
    "        ]\n",
    "        self._len = 0\n",
    "        for sampler in self.samplers:\n",
    "            self._len += len(sampler)\n",
    "        \n",
    "    def __iter__(self):\n",
    "        iterators = [iter(sampler) for sampler in self.samplers]\n",
    "        while iterators:\n",
    "            randint = torch.randint(0, len(iterators),size=(1,), generator=self.generator)[0]\n",
    "            try:\n",
    "                yield next(iterators[randint])\n",
    "            except StopIteration:\n",
    "                iterators.pop(randint)\n",
    "    def __len__(self):\n",
    "        return self._len\n",
    "bucketSampler = BucketSampler(mozilla_dataset_train, batch_size = 4)\n",
    "dataloader = DataLoader(mozilla_dataset_train, batch_sampler = bucketSampler, collate_fn=collate_fn)#, num_workers=4)\n",
    "for i in dataloader:\n",
    "    # print(\"mfcc: \", i[\"x_mfcc\"].data.shape)\n",
    "    # print(\"language: \",i[\"lang\"])\n",
    "    # print(\"phm_seq: \", i[\"phm_seq\"])\n",
    "    break"
   ]
  },
  {
   "cell_type": "markdown",
   "metadata": {},
   "source": [
    "# Allosaurus / Heirarchical"
   ]
  },
  {
   "cell_type": "code",
   "execution_count": 20,
   "metadata": {},
   "outputs": [
    {
     "data": {
      "text/plain": [
       "(device(type='cuda'), 10)"
      ]
     },
     "execution_count": 20,
     "metadata": {},
     "output_type": "execute_result"
    }
   ],
   "source": [
    "device,args.hidden_size"
   ]
  },
  {
   "cell_type": "code",
   "execution_count": 21,
   "metadata": {},
   "outputs": [],
   "source": [
    "'''\n",
    "    This cell initializes the signature matrix\n",
    "'''\n",
    "if args.model_name==\"Allosrs\":\n",
    "    num_universal_phones=len(allophone_data[\"universal_phone to id\"])\n",
    "    locale_to_allophone_mappings_id = allophone_data['(Allophone mappings) language_locale to (language-local)id to universal_phone_ids']\n",
    "    #locale_to_allophone_mappings_array = {loc:np.zeros((locale_to_num_phonemes[loc], num_universal_phones)) for loc in locale_to_id}\n",
    "    signature_matrix = {loc:np.zeros((locale_to_num_phonemes[loc], num_universal_phones)) for loc in locale_to_id}\n",
    "\n",
    "    for lang in signature_matrix:\n",
    "        # print(locale_to_allophone_mappings_id[lang])\n",
    "        for q, phones in locale_to_allophone_mappings_id[lang].items():\n",
    "            for p in phones:\n",
    "                # q (Phoneme) x P (phone)\n",
    "                signature_matrix[lang][q, p] = 1\n",
    "elif args.model_name==\"Heirarch\":\n",
    "    num_universal_phones=len(allophone_data[\"universal_phone to id\"])\n",
    "    lang_to_phone_to_ids=allophone_data['language_locale to phone to (language-local)id']\n",
    "    lang_to_ids_to_phone=allophone_data['language_locale to (language-local)id to phone']\n",
    "    lang_to_phoneId_to_attrib_array={locale_to_id[lang]:torch.nn.functional.normalize(torch.Tensor(v).to(device),p=1.0) for lang,v in allophone_data[\"language_locale to phone attributes array\"].items()}\n",
    "    num_attrs=lang_to_phoneId_to_attrib_array[locale_to_id[\"eng\"]].shape[1]\n",
    "    locale_to_allophone_mappings_localIds = allophone_data['(Allophone mappings) language_locale to (language-local)id to (language-local)ids']\n",
    "    \n",
    "    #locale_to_allophone_mappings_array = {loc:np.zeros((locale_to_num_phonemes[loc], num_universal_phones)) for loc in locale_to_id}\n",
    "    locale_to_num_phones={locale:len(allophone_data['language_locale to (language-local)id to phone'][locale]) for locale in locale_to_id}\n",
    "    signature_matrix = {loc:np.zeros((locale_to_num_phonemes[loc], locale_to_num_phones[loc])) for loc in locale_to_id}\n",
    "\n",
    "    for lang in signature_matrix:\n",
    "        # print(locale_to_allophone_mappings_id[lang])\n",
    "        for q, phones in locale_to_allophone_mappings_localIds[lang].items():\n",
    "            for p in phones:\n",
    "                # q (Phoneme) x P (phone)\n",
    "                signature_matrix[lang][q, p] = 1\n",
    "    \n",
    "elif args.model_name==\"Shared-ours\":\n",
    "    locale_to_phonemelocalIds_to_phonemeUniversalIDs = allophone_data['language_locale to (language-local)phoneme-id to (universal)phoneme-id']\n",
    "    num_universal_phonemes=len(allophone_data[\"universal_phoneme to id\"])\n",
    "    locale_to_num_phones={locale:len(allophone_data['language_locale to (language-local)id to phone'][locale]) for locale in locale_to_id}\n",
    "    signature_matrix = {loc:np.zeros((locale_to_num_phonemes[loc], num_universal_phonemes)) for loc in locale_to_id}\n",
    "\n",
    "    for lang in signature_matrix:\n",
    "        for phoneme_local, phoneme_universal in locale_to_phonemelocalIds_to_phonemeUniversalIDs[lang].items():\n",
    "            signature_matrix[lang][phoneme_local, phoneme_universal] = 1\n",
    "elif args.model_name==\"Shared-theirs\":\n",
    "    num_universal_phonemes=len(allophone_data[\"universal_phoneme to id\"])\n",
    "    signature_matrix = {loc:np.eye(num_universal_phonemes) for loc in locale_to_id}\n",
    "else:\n",
    "    print(\"!!!Model name INVALID!!!\")\n",
    "    assert 1==0"
   ]
  },
  {
   "cell_type": "code",
   "execution_count": 22,
   "metadata": {},
   "outputs": [
    {
     "data": {
      "text/plain": [
       "{'_': 0,\n",
       " '<SIL>': 1,\n",
       " 'b': 2,\n",
       " 'd̠ʒ': 3,\n",
       " 'd̻': 4,\n",
       " 'eː': 5,\n",
       " 'ẽː': 6,\n",
       " 'f': 7,\n",
       " 'iː': 8,\n",
       " 'ĩː': 9,\n",
       " 'j': 10,\n",
       " 'k': 11,\n",
       " 'kʰ': 12,\n",
       " 'l̻': 13,\n",
       " 'm': 14,\n",
       " 'n̻': 15,\n",
       " 'oː': 16,\n",
       " 'õː': 17,\n",
       " 'p': 18,\n",
       " 'pʰ': 19,\n",
       " 'r': 20,\n",
       " 's': 21,\n",
       " 't̠ʃ': 22,\n",
       " 't̠ʃʰ': 23,\n",
       " 't̻': 24,\n",
       " 'uː': 25,\n",
       " 'ũː': 26,\n",
       " 'z': 27,\n",
       " 'æ': 28,\n",
       " 'ɔː': 29,\n",
       " 'ɔ̃ː': 30,\n",
       " 'ɖ': 31,\n",
       " 'ə': 32,\n",
       " 'ə̃': 33,\n",
       " 'ɛː': 34,\n",
       " 'ɛ̃ː': 35,\n",
       " 'ɡ': 36,\n",
       " 'ɦ': 37,\n",
       " 'ɪ': 38,\n",
       " 'ɪ̃': 39,\n",
       " 'ɽ': 40,\n",
       " 'ʂ': 41,\n",
       " 'ʃ': 42,\n",
       " 'ʈ': 43,\n",
       " 'ʈʰ': 44,\n",
       " 'ʊ': 45,\n",
       " 'ʊ̃': 46,\n",
       " 'ʋ': 47}"
      ]
     },
     "execution_count": 22,
     "metadata": {},
     "output_type": "execute_result"
    }
   ],
   "source": [
    "# allophone_data[\"language_locale to (language-local)id to phone\"][\"eng\"]\n",
    "lang_to_phoneme_to_id[\"hin\"]"
   ]
  },
  {
   "cell_type": "code",
   "execution_count": 23,
   "metadata": {},
   "outputs": [
    {
     "data": {
      "text/plain": [
       "'Heirarch'"
      ]
     },
     "execution_count": 23,
     "metadata": {},
     "output_type": "execute_result"
    }
   ],
   "source": [
    "args.model_name"
   ]
  },
  {
   "cell_type": "code",
   "execution_count": 24,
   "metadata": {},
   "outputs": [],
   "source": [
    "def edit_distance(prediction, target_np_array, prediction_lengths, target_lengths):\n",
    "    '''\n",
    "    Computes the SUM of the PER per batch\n",
    "    '''\n",
    "    pe_list=[]\n",
    "    for i in range(len(target_lengths)):\n",
    "        # get all the trailing zeros out\n",
    "        target_list = target_np_array[i, :target_lengths[i]].tolist()\n",
    "        logit = prediction[i][:prediction_lengths[i]]\n",
    "        # get the corresponding phoneme with the highest probability\n",
    "        raw_token = [x[0] for x in groupby(np.argmax(logit, axis=1))]\n",
    "        # get rid of the empty token\n",
    "        decoded_token = list(filter(lambda a: a != 0, raw_token))\n",
    "\n",
    "        target_list = list(filter(lambda a: a != 0, target_list))\n",
    "        pe_list.append(editdistance.distance(target_list, decoded_token))\n",
    "        \n",
    "    return pe_list"
   ]
  },
  {
   "cell_type": "code",
   "execution_count": 25,
   "metadata": {},
   "outputs": [
    {
     "data": {
      "text/plain": [
       "<torch.autograd.anomaly_mode.set_detect_anomaly at 0x7fa8e9ae0438>"
      ]
     },
     "execution_count": 25,
     "metadata": {},
     "output_type": "execute_result"
    }
   ],
   "source": [
    "# scores=[]\n",
    "class Allosaurus(nn.Module):\n",
    "    def __init__(self, args):\n",
    "        '''\n",
    "            signature_matrix: {lang (str): Mi x N}; locale_to_allophone_mappings_array\n",
    "        '''\n",
    "        super().__init__()\n",
    "        self.name=args.model_name\n",
    "        self.train_sigmatrix=args.train_sigmatrix\n",
    "        self.alpha=args.alpha\n",
    "  \n",
    "        self.encoder=Encoder(n_layers=args.num_layers,hidden_dim=args.hidden_size,input_size=40) # In short lstm has (n_lay, h, #mfcc) \n",
    "        if self.name == \"Allosrs\":\n",
    "            self.num_universal_phones = num_universal_phones\n",
    "            self.phone_distribution_transf_matrix=nn.Linear(2 * args.hidden_size, self.num_universal_phones,bias=False) # It's a (h x N) transformation matrix \n",
    "        elif self.name == \"Heirarch\":\n",
    "            self.num_universal_phones = num_universal_phones\n",
    "            final_phone_emb_size=2*args.hidden_size\n",
    "            self.attr_embeds=torch.nn.Linear(num_attrs, final_phone_emb_size,bias=False) # It's a (A x 2*H) embeddings matrix \n",
    "        elif self.name==\"Shared-ours\" or self.name==\"Shared-theirs\":\n",
    "            self.num_universal_phonemes = num_universal_phonemes\n",
    "            self.get_phoneme_distribution = nn.Linear(2 * args.hidden_size, self.num_universal_phonemes)\n",
    "        else:\n",
    "            print(\"!!! Invald Model name\")\n",
    "            assert 1==0\n",
    "        \n",
    "        self.allosaurus_layer_matrix = torch.nn.ParameterList([None]*len(id_to_locale))\n",
    "        self.allosaurus_layer_matrix_orig = {}\n",
    "        for lang_id in id_to_locale:\n",
    "            # every such matrix is of shape (M_i x N)\n",
    "            locale_=id_to_locale[lang_id]\n",
    "            if self.name==\"Allosrs\" or self.name==\"Heirarch\":\n",
    "                self.allosaurus_layer_matrix[lang_id]=torch.nn.Parameter(torch.Tensor(signature_matrix[locale_]).to(device),requires_grad=self.train_sigmatrix)\n",
    "                self.allosaurus_layer_matrix_orig[lang_id]=torch.nn.Parameter(torch.Tensor(signature_matrix[locale_]).to(device),requires_grad=False)\n",
    "            else:\n",
    "                self.allosaurus_layer_matrix[lang_id]=torch.nn.Parameter(torch.Tensor(signature_matrix[locale_]).to(device),requires_grad=False)\n",
    "        self.dropout=torch.nn.Dropout(p=0.33)\n",
    "        self.relu=torch.nn.ReLU()\n",
    "        self.unique_values=[5]*10\n",
    "        self.curr_idx=0\n",
    "        self.loss_fn = torch.nn.CTCLoss(blank = 0, reduction='mean', zero_infinity=True)\n",
    "    def compute_phoneme_distribution(self, phone_distrib,lang_id):\n",
    "        # phone_distrib-- ( B x T x N), \n",
    "        # lang-- language index\n",
    "        # retrieve sign_matrix-- (M_i x N)\n",
    "        # global scores\n",
    "        temp=self.allosaurus_layer_matrix[lang_id]*(phone_distrib.unsqueeze(2))\n",
    "        phoneme_phone_distrib = torch.amax(temp,dim=-1)\n",
    "        # scores.append(temp[0,170:200,:].detach().cpu())\n",
    "        # print(\"Final phoneme_phone_distrib matrix(B x T x phonemes):\", phoneme_phone_distrib.shape)\n",
    "        return torch.nn.functional.log_softmax(phoneme_phone_distrib, dim=-1)\n",
    "    \n",
    "    def forward(self, X_mfcc, lang_id,phone_attrs=None):\n",
    "        '''\n",
    "            frames is (B x T x F) matrix where \n",
    "            B --- batch_size\n",
    "            T --- time_dimension \n",
    "            F --- numFeatures in every unit time (=40) \n",
    "            Langs ---(B) matrix that tell us which lang_index does each batch_elemnet corresponds to.\n",
    "            phone_attrs --- (Phm x A)             \n",
    "        '''\n",
    "        packed_padded_sequence_output, (h_n, c_n) = self.encoder(X_mfcc) # returns (B x T x h)\n",
    "        seq_unpacked, lens_unpacked = pad_packed_sequence(packed_padded_sequence_output, batch_first=True)\n",
    "        # the hidden space is times 2 because it is bidirectional\n",
    "        # print(\"shape of padded sequence in hidden space (Batch x Time x (hidden x2 because bi directional)): \", seq_unpacked.shape, flush=True)\n",
    "        # print(\"lens_unpacked: \", lens_unpacked, flush=True)\n",
    "        # returns (B x T x N)\n",
    "        if self.name==\"Allosrs\":\n",
    "            # phone_distribution = self.dropout(self.phone_distribution_transf_matrix(seq_unpacked))  \n",
    "            phone_distribution = self.phone_distribution_transf_matrix(seq_unpacked)\n",
    "            # print(\"shape of phone_distribution (Batch x Time x num_universal_phones): \",phone_distribution.shape ,flush=True)\n",
    "        elif self.name==\"Heirarch\":\n",
    "            phone_embeds = self.attr_embeds(lang_to_phoneId_to_attrib_array[lang_id])  # output-- (Phm x 2*H)\n",
    "            # print(\"shape of phone_distribution (Batch x Time x num_universal_phones): \",phone_distribution.shape ,flush=True)\n",
    "            phone_distribution = seq_unpacked@(phone_embeds.T)\n",
    "        elif self.name==\"Shared-ours\" or self.name==\"Shared-theirs\":\n",
    "            # Shared-ours -- improved baseline; Shared-theirs -- dummy baseline\n",
    "            # the below is actually a phoneme distribution\n",
    "            phone_distribution = self.get_phoneme_distribution(seq_unpacked)\n",
    "        # phone_distribution[:,:,0]=-10\n",
    "        phone_distribution[:,:,0]=0.0\n",
    "        phone_distribution=self.relu(phone_distribution)\n",
    "        # print(\"PHONE\",torch.argmax(phone_distribution[0,170:200,:],dim=-1))\n",
    "\n",
    "        phoneme_distribution = self.compute_phoneme_distribution(phone_distribution, lang_id)\n",
    "        # print(\"PHONEME\",torch.argmax(phoneme_distribution[0,170:200,:],dim=-1))\n",
    "        self.unique_values[self.curr_idx]=len(torch.unique(torch.argmax(phoneme_distribution.detach(),dim=-1), sorted=False, return_inverse=False))\n",
    "        self.curr_idx=(self.curr_idx+1)%10\n",
    "        if max(self.unique_values)<3: \n",
    "            stop_training=False\n",
    "        else:\n",
    "            stop_training=False\n",
    "            \n",
    "        # print(\"shape of phoneme after amax (Batch x Time x ?): \",phoneme_distrib.shape ,flush=True)\n",
    "        #[compute_phoneme_distribution(allosaurus_layer_matrix[i],langs[i])\n",
    "         #                for i in range(len(langs))] # (return )\n",
    "            \n",
    "        return phoneme_distribution,stop_training\n",
    "             \n",
    "        \n",
    "    def loss(self, y_ref, y_scores, src_length, tgt_length, lang_id,mess=\"train\"):\n",
    "        # y_ref is of shape (B x T_o) where T_o= time_stamps in output space. \n",
    "        # y_predicted is of shape [T_inp x M_o_1, T_inp x M_o_2, ..., T_inp x M_o_B] where B is the Batch_size\n",
    "        #   where T_i= time_stamps in input space. Note T_o!=T_i \n",
    "\n",
    "        # ctc_loss= torch.mean([self.loss_fn(y_scores[i], y_ref[i]) for i in range(len(y_ref))])\n",
    "        ctc_loss= torch.mean(self.loss_fn(y_scores.transpose(0,1), y_ref, src_length, tgt_length))\n",
    "        # return ctc_loss+alpha*torch.mean([torc.norm((allosaurus_layer_matrix[i]-signature_matrix[i])) \n",
    "        #                    for i in range(len(languages_in_current_batch))])\n",
    "        # print(src_length[:5],tgt_length[:5])\n",
    "        if self.name==\"Allosrs\" or self.name==\"Heirarch\":\n",
    "            weights = self.allosaurus_layer_matrix[lang_id]\n",
    "            weights_orig = self.allosaurus_layer_matrix_orig[lang_id]\n",
    "            b=self.alpha * torch.square(torch.linalg.matrix_norm((weights-weights_orig)+1e-8))\n",
    "        else:\n",
    "            b=0\n",
    "        if mess==\"test\":\n",
    "            y_scores_np_array = y_scores.cpu().detach().numpy()\n",
    "            y_ref_np_array = y_ref.cpu().detach().numpy()\n",
    "            src_length_np_array = src_length.cpu().detach().numpy()\n",
    "            tgt_length_np_array = tgt_length.cpu().detach().numpy()\n",
    "            phoneme_error_list = edit_distance(y_scores_np_array, y_ref_np_array, src_length_np_array, tgt_length_np_array)\n",
    "            # phoneme_count = sum(tgt_length)\n",
    "            return ctc_loss,b,phoneme_error_list\n",
    "        else:\n",
    "            # print(\"ctc_loss\",ctc_loss)\n",
    "            return ctc_loss,b, None\n",
    "        \n",
    "class Encoder(nn.Module):\n",
    "    # def __init__(self, n_layers=6,hidden_dim=1024,input_size=40):\n",
    "    def __init__(self, n_layers=1,hidden_dim=10,input_size=40):\n",
    "        super().__init__()\n",
    "\n",
    "        self.bi_LSTM=torch.nn.LSTM(input_size=input_size,num_layers=n_layers,\n",
    "                         hidden_size=hidden_dim,batch_first=True,\n",
    "                            bidirectional=True)\n",
    "    def forward(self, x):\n",
    "        # x is (B x T x F=40), output (B x T x lstm_hidden_size)\n",
    "        return self.bi_LSTM(x)\n",
    "args.batch_size=64\n",
    "\n",
    "args.num_layers=6\n",
    "# args.num_layers=4\n",
    "# args.num_layers=2\n",
    "\n",
    "# args.hidden_size=512\n",
    "# args.hidden_size=256\n",
    "args.hidden_size=64\n",
    "\n",
    "args.alpha=10\n",
    "# args.alpha=1\n",
    "# args.alpha=0.1\n",
    "\n",
    "args.lr=1e-3\n",
    "\n",
    "args.train_sigmatrix=True\n",
    "\n",
    "universal_phone_num = len(allophone_data['id to universal_phone'])\n",
    "model = Allosaurus(args).to(device)\n",
    "optimizer = optim.AdamW(model.parameters(), lr=args.lr)\n",
    "# optimizer = optim.SGD(model.parameters(), lr=args.lr)\n",
    "torch.autograd.set_detect_anomaly(True)"
   ]
  },
  {
   "cell_type": "code",
   "execution_count": 26,
   "metadata": {},
   "outputs": [],
   "source": [
    "# for k in model.named_parameters():\n",
    "    # print(k[0])"
   ]
  },
  {
   "cell_type": "code",
   "execution_count": 27,
   "metadata": {},
   "outputs": [
    {
     "data": {
      "text/plain": [
       "tensor([2, 3, 1])"
      ]
     },
     "execution_count": 27,
     "metadata": {},
     "output_type": "execute_result"
    }
   ],
   "source": [
    "torch.unique(torch.tensor([[1, 3], [2, 3]], dtype=torch.long), sorted=False, return_inverse=False)"
   ]
  },
  {
   "cell_type": "code",
   "execution_count": 28,
   "metadata": {},
   "outputs": [
    {
     "data": {
      "text/plain": [
       "tensor([[1., 4.],\n",
       "        [2., 5.],\n",
       "        [3., 6.]])"
      ]
     },
     "execution_count": 28,
     "metadata": {},
     "output_type": "execute_result"
    }
   ],
   "source": [
    "torch.Tensor([[1,2,3],[4,5,6]]).T"
   ]
  },
  {
   "cell_type": "code",
   "execution_count": 29,
   "metadata": {},
   "outputs": [
    {
     "data": {
      "text/plain": [
       "(6, 64)"
      ]
     },
     "execution_count": 29,
     "metadata": {},
     "output_type": "execute_result"
    }
   ],
   "source": [
    "model.encoder.bi_LSTM.num_layers,model.encoder.bi_LSTM.hidden_size"
   ]
  },
  {
   "cell_type": "code",
   "execution_count": 30,
   "metadata": {},
   "outputs": [
    {
     "data": {
      "text/plain": [
       "'Heirarch'"
      ]
     },
     "execution_count": 30,
     "metadata": {},
     "output_type": "execute_result"
    }
   ],
   "source": [
    "model.name"
   ]
  },
  {
   "cell_type": "code",
   "execution_count": 31,
   "metadata": {},
   "outputs": [],
   "source": [
    "class bcolors:\n",
    "    HEADER = '\\033[95m'\n",
    "    OKBLUE = '\\033[94m'\n",
    "    OKCYAN = '\\033[96m'\n",
    "    OKGREEN = '\\033[92m'\n",
    "    WARNING = '\\033[93m'\n",
    "    FAIL = '\\033[91m'\n",
    "    ENDC = '\\033[0m'\n",
    "    BOLD = '\\033[1m'\n",
    "    UNDERLINE = '\\033[4m'\n",
    "\n",
    "class EarlyStopping:\n",
    "    \"\"\"Early stops the training if validation loss doesn't improve after a given patience.\"\"\"\n",
    "    def __init__(self, log_file,patience=7, verbose=False, delta=0, path='allosrs/model/checkpoint.pt', trace_func=print):\n",
    "        \"\"\"\n",
    "        Args:\n",
    "            patience (int): How long to wait after last time validation loss improved.\n",
    "                            Default: 7\n",
    "            verbose (bool): If True, prints a message for each validation loss improvement. \n",
    "                            Default: False\n",
    "            delta (float): Minimum change in the monitored quantity to qualify as an improvement.\n",
    "                            Default: 0\n",
    "            path (str): Path for the checkpoint to be saved to.\n",
    "                            Default: 'checkpoint.pt'\n",
    "            trace_func (function): trace print function.\n",
    "                            Default: print            \n",
    "        \"\"\"\n",
    "        self.patience = patience\n",
    "        self.verbose = verbose\n",
    "        self.counter = 0\n",
    "        self.best_score = None\n",
    "        self.early_stop = False\n",
    "        self.val_loss_min = np.Inf\n",
    "        self.delta = delta\n",
    "        self.path = path\n",
    "        self.trace_func = trace_func\n",
    "        self.log_file=log_file\n",
    "    def __call__(self, val_loss, model):\n",
    "\n",
    "        score = -val_loss\n",
    "\n",
    "        if self.best_score is None:\n",
    "            self.best_score = score\n",
    "            self.save_checkpoint(val_loss, model)\n",
    "        elif score < self.best_score + self.delta:\n",
    "            self.counter += 1\n",
    "            with open(self.log_file,mode=\"a\") as wfile:\n",
    "                print(f'EarlyStopping counter: {self.counter} out of {self.patience}\\n',file=wfile)\n",
    "            self.trace_func(f'{bcolors.FAIL}EarlyStopping counter: {self.counter} out of {self.patience}{bcolors.ENDC}\\n')\n",
    "            if self.counter >= self.patience:\n",
    "                self.early_stop = True\n",
    "        else:\n",
    "            self.best_score = score\n",
    "            self.save_checkpoint(val_loss, model)\n",
    "            self.counter = 0\n",
    "\n",
    "    def save_checkpoint(self, val_loss, model):\n",
    "        '''Saves model when validation loss decrease.'''\n",
    "        if self.verbose:\n",
    "            with open(self.log_file,mode=\"a\") as wfile:\n",
    "                print(f'Validation loss decreased ({self.val_loss_min:.6f} --> {val_loss:.6f}).  Saving model ...\\n',file=wfile)\n",
    "            \n",
    "            self.trace_func(f'{bcolors.OKGREEN}Validation loss decreased ({self.val_loss_min:.6f} --> {val_loss:.6f}).  Saving model ...{bcolors.ENDC}\\n')\n",
    "        torch.save(model.state_dict(), self.path)\n",
    "        self.val_loss_min = val_loss\n"
   ]
  },
  {
   "cell_type": "code",
   "execution_count": 32,
   "metadata": {},
   "outputs": [],
   "source": [
    "#TODO: 1. write the validation loss loop while using the new data csv file -- change locale to language\n",
    "#TODO: 2. early stopping\n",
    "#TODO: 3. Phoneme error "
   ]
  },
  {
   "cell_type": "code",
   "execution_count": 33,
   "metadata": {},
   "outputs": [],
   "source": [
    "def train(epoch,dl,log_file):\n",
    "# training loop\n",
    "    model.train()\n",
    "    train_loss = 0\n",
    "    # \"x_mfcc\": x_mfcc_tensor, # packed padded sequence\n",
    "    # \"lang\": lang_list, # python list\n",
    "    # \"phm_seq\": phm_seq_tensor, # packed padded tensor\n",
    "    # \"x_mfcc_lengths\": x_mfcc_lengths, # sorted in decreasing order\n",
    "    # \"phm_seq_lengths\": phm_seq_lengths # sorted in decreasing order\n",
    "    batch_idx=0\n",
    "    predictions=[]\n",
    "    for data in tqdm(dl):\n",
    "        # break\n",
    "        batch_idx+=1\n",
    "        #X_mfcc = data[\"x_mfcc\"].to(device)\n",
    "        X_mfcc = data[\"x_mfcc\"]\n",
    "        lang = data[\"lang\"]\n",
    "        if model.name == \"shared\":\n",
    "            phm_seq = data[\"phm_seq_universal\"]\n",
    "        else:\n",
    "            phm_seq = data[\"phm_seq\"]\n",
    "        # phm_seq = data[\"phm_seq\"]\n",
    "        x_mfcc_lengths = data[\"x_mfcc_lengths\"]\n",
    "        phm_seq_lengths = data[\"phm_seq_lengths\"]\n",
    "        batch_size=len(lang)\n",
    "\n",
    "        optimizer.zero_grad()\n",
    "        # print(\"the language of this batch is: \", lang[0], flush=True)\n",
    "        # print(\"batch_idx\", batch_idx, flush=True)\n",
    "        # we are assuming one language per batch here\n",
    "        y_predicted,signal = model(X_mfcc.to(device), lang[0])\n",
    "        if signal==True: \n",
    "            return 0,True\n",
    "        loss_a,loss_b,_ = model.loss(phm_seq.to(device), y_predicted, x_mfcc_lengths.to(device), phm_seq_lengths.to(device), lang[0])\n",
    "        loss=loss_a+loss_b\n",
    "        loss.backward()\n",
    "        optimizer.step()\n",
    "        train_loss += batch_size*loss_a.detach().cpu().item()\n",
    "        if batch_idx % args.log_interval == 0:\n",
    "            # print('Train Epoch: {} [{}/{} ({:.0f}%)]\\tLoss: {:.6f}'.format(\n",
    "            #     epoch, batch_idx * len(lang), len(train_loader.dataset),\n",
    "            #     100. * batch_idx / len(train_loader),\n",
    "            #     loss.item() / len(data)))\n",
    "            print('\\t\\tTrain Epoch: {} iter:{} \\t CTC Loss: {:.6f}'.format(\n",
    "                epoch, batch_idx,loss_a.item() / len(data)))\n",
    "            with open(log_file,mode=\"a\") as wfile:\n",
    "                print('\\t\\tTrain Epoch: {} iter:{} \\t CTC Loss: {:.6f}'.format(\n",
    "                    epoch, batch_idx,loss_a.item() / len(data)),file=wfile)\n",
    "    if epoch%1==0:\n",
    "        print('Train Epoch: {} ====> Average CTC loss: {:.4f}'.format(\n",
    "          epoch, train_loss / len(dl.dataset)))\n",
    "        with open(log_file,mode=\"a\") as wfile:\n",
    "            print('Train Epoch: {} ====> Average CTC loss: {:.4f}'.format(\n",
    "              epoch, train_loss / len(dl.dataset)),file=wfile)\n",
    "            \n",
    "    return train_loss,False"
   ]
  },
  {
   "cell_type": "code",
   "execution_count": 34,
   "metadata": {},
   "outputs": [
    {
     "data": {
      "text/plain": [
       "3.0000000000000004e-08"
      ]
     },
     "execution_count": 34,
     "metadata": {},
     "output_type": "execute_result"
    }
   ],
   "source": [
    "1e-8*3"
   ]
  },
  {
   "cell_type": "code",
   "execution_count": 35,
   "metadata": {},
   "outputs": [],
   "source": [
    "# test_loader = DataLoader(mozilla_dataset, batch_sampler = bucketSampler, collate_fn=collate_fn)\n",
    "def evaluate(epoch,dl,log_file,mess=\"val\"):\n",
    "    model.eval()\n",
    "    test_loss = 0\n",
    "    phoneme_error_info = {}\n",
    "    phoneme_count_info = {}\n",
    "    overall_per=0\n",
    "    overall_size=0\n",
    "    with torch.no_grad():\n",
    "        for data in tqdm(dl):\n",
    "            # break\n",
    "            X_mfcc = data[\"x_mfcc\"]\n",
    "            # print(X_mfcc.data.shape)\n",
    "            lang = data[\"lang\"]\n",
    "            if model.name == \"shared\":\n",
    "                phm_seq = data[\"phm_seq_universal\"]\n",
    "            else:\n",
    "                phm_seq = data[\"phm_seq\"]\n",
    "            # phm_seq = data[\"phm_seq\"]\n",
    "            x_mfcc_lengths = data[\"x_mfcc_lengths\"]\n",
    "            phm_seq_lengths = data[\"phm_seq_lengths\"]\n",
    "            batch_size=len(lang)\n",
    "            y_predicted,_ = model(X_mfcc.to(device), lang[0])\n",
    "            loss_a,loss_b, pe_list = model.loss(phm_seq.to(device), y_predicted, \n",
    "                                                x_mfcc_lengths.to(device), \n",
    "                                                phm_seq_lengths.to(device), \n",
    "                                                lang[0],\n",
    "                                                mess=mess)\n",
    "            if mess==\"test\":\n",
    "                # print(\"doing PER comp\")\n",
    "                langcode=id_to_locale[lang[0]]\n",
    "                if args.silence==1:\n",
    "                    temp=phm_seq_lengths-2\n",
    "                else: \n",
    "                    temp=phm_seq_lengths\n",
    "                len_normalized_pe_list=torch.Tensor(pe_list)/temp\n",
    "                overall_per+=sum(pe_list)\n",
    "                overall_size+=len(pe_list)\n",
    "                if langcode not in phoneme_error_info: \n",
    "                    phoneme_error_info[langcode]={}\n",
    "                    phoneme_count_info[langcode]={}\n",
    "                for idx,len_ in enumerate(temp.tolist()):\n",
    "                    if len_ not in phoneme_error_info[langcode]: \n",
    "                        phoneme_error_info[langcode][len_]=0\n",
    "                        phoneme_count_info[langcode][len_]=0\n",
    "                    phoneme_error_info[langcode][len_]+=len_normalized_pe_list[idx]\n",
    "                    phoneme_count_info[langcode][len_]+=1\n",
    "            test_loss += batch_size*loss_a.detach().cpu().item()\n",
    "    test_loss /= len(dl.dataset)\n",
    "    with open(log_file,mode=\"a\") as wfile:\n",
    "        print('Validation/Test Epoch {}====> average CTC loss: {:.4f}'.format(epoch,test_loss),file=wfile)\n",
    "    print('Validation/Test Epoch {}====> average CTC loss: {:.4f}'.format(epoch,test_loss))\n",
    "    if mess==\"test\":\n",
    "        for lang in phoneme_error_info:\n",
    "            for len_ in phoneme_error_info[lang]:\n",
    "                phoneme_error_info[lang][len_]=phoneme_error_info[lang][len_]/phoneme_count_info[lang][len_]\n",
    "        overall_per=overall_per/overall_size\n",
    "        with open(log_file,mode=\"a\") as wfile:\n",
    "            print('Test Epoch {}====> PER : {:.4f}'.format(epoch,overall_per),file=wfile)\n",
    "        print('Test Epoch {}====> PER : {:.4f}'.format(epoch,overall_per))\n",
    "    return test_loss,phoneme_error_info,overall_per"
   ]
  },
  {
   "cell_type": "code",
   "execution_count": 36,
   "metadata": {},
   "outputs": [
    {
     "data": {
      "text/plain": [
       "torch.Size([40, 49])"
      ]
     },
     "execution_count": 36,
     "metadata": {},
     "output_type": "execute_result"
    }
   ],
   "source": [
    "model.allosaurus_layer_matrix[locale_to_id[\"eng\"]].shape"
   ]
  },
  {
   "cell_type": "code",
   "execution_count": 37,
   "metadata": {},
   "outputs": [
    {
     "data": {
      "text/plain": [
       "tensor([-1.3133, -0.3133])"
      ]
     },
     "execution_count": 37,
     "metadata": {},
     "output_type": "execute_result"
    }
   ],
   "source": [
    "torch.nn.functional.log_softmax(torch.Tensor([1,2]),dim=0)"
   ]
  },
  {
   "cell_type": "code",
   "execution_count": null,
   "metadata": {
    "tags": []
   },
   "outputs": [
    {
     "name": "stdout",
     "output_type": "stream",
     "text": [
      "MODEL SAVE NAME--- newnew_relu_adamw_Heirarch_nl6_hd64_lr0.001_bs16_trainSigTrue\n"
     ]
    },
    {
     "data": {
      "application/vnd.jupyter.widget-view+json": {
       "model_id": "8d120ee5672e446d9ac74e6fb0ce12c9",
       "version_major": 2,
       "version_minor": 0
      },
      "text/plain": [
       "  0%|          | 0/45 [00:00<?, ?it/s]"
      ]
     },
     "metadata": {},
     "output_type": "display_data"
    },
    {
     "name": "stdout",
     "output_type": "stream",
     "text": [
      "Validation/Test Epoch 0====> average CTC loss: 46.6374\n",
      "Test Epoch 0====> PER : 37.7867\n",
      "dev [3, 5, 3, 3, 3, 4, 5, 3, 4, 5]\n",
      "\u001b[92mValidation loss decreased (inf --> 37.786667).  Saving model ...\u001b[0m\n",
      "\n"
     ]
    },
    {
     "data": {
      "application/vnd.jupyter.widget-view+json": {
       "model_id": "85a900840ebf4c029a5d866d6501bd0b",
       "version_major": 2,
       "version_minor": 0
      },
      "text/plain": [
       "  0%|          | 0/63 [00:00<?, ?it/s]"
      ]
     },
     "metadata": {},
     "output_type": "display_data"
    },
    {
     "name": "stdout",
     "output_type": "stream",
     "text": [
      "Train Epoch: 1 ====> Average CTC loss: 14.2562\n",
      "train [2, 2, 2, 2, 2, 2, 2, 2, 2, 2]\n"
     ]
    },
    {
     "data": {
      "application/vnd.jupyter.widget-view+json": {
       "model_id": "798eec3e23984b14b0c96ab76881daa7",
       "version_major": 2,
       "version_minor": 0
      },
      "text/plain": [
       "  0%|          | 0/45 [00:00<?, ?it/s]"
      ]
     },
     "metadata": {},
     "output_type": "display_data"
    },
    {
     "name": "stdout",
     "output_type": "stream",
     "text": [
      "Validation/Test Epoch 1====> average CTC loss: 6.7414\n",
      "Test Epoch 1====> PER : 39.1289\n",
      "dev [2, 2, 2, 2, 2, 2, 2, 2, 2, 2]\n",
      "\u001b[91mEarlyStopping counter: 1 out of 7\u001b[0m\n",
      "\n"
     ]
    },
    {
     "data": {
      "application/vnd.jupyter.widget-view+json": {
       "model_id": "4a331fcde4d34b88a8134e208e81816a",
       "version_major": 2,
       "version_minor": 0
      },
      "text/plain": [
       "  0%|          | 0/63 [00:00<?, ?it/s]"
      ]
     },
     "metadata": {},
     "output_type": "display_data"
    },
    {
     "name": "stdout",
     "output_type": "stream",
     "text": [
      "Train Epoch: 2 ====> Average CTC loss: 6.7096\n",
      "train [2, 2, 2, 2, 2, 2, 2, 2, 2, 2]\n"
     ]
    },
    {
     "data": {
      "application/vnd.jupyter.widget-view+json": {
       "model_id": "8fe46b9cbb16492da5ed3c75380fcfaf",
       "version_major": 2,
       "version_minor": 0
      },
      "text/plain": [
       "  0%|          | 0/45 [00:00<?, ?it/s]"
      ]
     },
     "metadata": {},
     "output_type": "display_data"
    },
    {
     "name": "stdout",
     "output_type": "stream",
     "text": [
      "Validation/Test Epoch 2====> average CTC loss: 6.7145\n",
      "Test Epoch 2====> PER : 39.1289\n",
      "dev [2, 2, 2, 2, 2, 2, 2, 2, 2, 2]\n",
      "\u001b[91mEarlyStopping counter: 2 out of 7\u001b[0m\n",
      "\n"
     ]
    },
    {
     "data": {
      "application/vnd.jupyter.widget-view+json": {
       "model_id": "d96fab114dd243399795c7120dd72e3f",
       "version_major": 2,
       "version_minor": 0
      },
      "text/plain": [
       "  0%|          | 0/63 [00:00<?, ?it/s]"
      ]
     },
     "metadata": {},
     "output_type": "display_data"
    },
    {
     "name": "stdout",
     "output_type": "stream",
     "text": [
      "Train Epoch: 3 ====> Average CTC loss: 6.6848\n",
      "train [2, 2, 2, 2, 2, 2, 2, 2, 2, 2]\n"
     ]
    },
    {
     "data": {
      "application/vnd.jupyter.widget-view+json": {
       "model_id": "896b9d96f0a640c89593abb4cc8f342d",
       "version_major": 2,
       "version_minor": 0
      },
      "text/plain": [
       "  0%|          | 0/45 [00:00<?, ?it/s]"
      ]
     },
     "metadata": {},
     "output_type": "display_data"
    },
    {
     "name": "stdout",
     "output_type": "stream",
     "text": [
      "Validation/Test Epoch 3====> average CTC loss: 6.7296\n",
      "Test Epoch 3====> PER : 39.1289\n",
      "dev [2, 2, 2, 2, 2, 2, 2, 2, 2, 2]\n",
      "\u001b[91mEarlyStopping counter: 3 out of 7\u001b[0m\n",
      "\n"
     ]
    },
    {
     "data": {
      "application/vnd.jupyter.widget-view+json": {
       "model_id": "489094c135714371ae656bf9e655ba6e",
       "version_major": 2,
       "version_minor": 0
      },
      "text/plain": [
       "  0%|          | 0/63 [00:00<?, ?it/s]"
      ]
     },
     "metadata": {},
     "output_type": "display_data"
    },
    {
     "name": "stdout",
     "output_type": "stream",
     "text": [
      "Train Epoch: 4 ====> Average CTC loss: 6.6827\n",
      "train [2, 2, 2, 2, 2, 2, 2, 2, 2, 2]\n"
     ]
    },
    {
     "data": {
      "application/vnd.jupyter.widget-view+json": {
       "model_id": "b73a54d75089464c858375688f9c27ca",
       "version_major": 2,
       "version_minor": 0
      },
      "text/plain": [
       "  0%|          | 0/45 [00:00<?, ?it/s]"
      ]
     },
     "metadata": {},
     "output_type": "display_data"
    },
    {
     "name": "stdout",
     "output_type": "stream",
     "text": [
      "Validation/Test Epoch 4====> average CTC loss: 6.6973\n",
      "Test Epoch 4====> PER : 39.1289\n",
      "dev [2, 2, 2, 2, 2, 2, 2, 2, 2, 2]\n",
      "\u001b[91mEarlyStopping counter: 4 out of 7\u001b[0m\n",
      "\n"
     ]
    },
    {
     "data": {
      "application/vnd.jupyter.widget-view+json": {
       "model_id": "a2934e93046b4b9c8ec91119a61834e5",
       "version_major": 2,
       "version_minor": 0
      },
      "text/plain": [
       "  0%|          | 0/63 [00:00<?, ?it/s]"
      ]
     },
     "metadata": {},
     "output_type": "display_data"
    },
    {
     "name": "stdout",
     "output_type": "stream",
     "text": [
      "Train Epoch: 5 ====> Average CTC loss: 6.6709\n",
      "train [2, 2, 2, 2, 2, 2, 2, 2, 2, 2]\n"
     ]
    },
    {
     "data": {
      "application/vnd.jupyter.widget-view+json": {
       "model_id": "83a229c720b8498bac5fbe73054b60cf",
       "version_major": 2,
       "version_minor": 0
      },
      "text/plain": [
       "  0%|          | 0/45 [00:00<?, ?it/s]"
      ]
     },
     "metadata": {},
     "output_type": "display_data"
    },
    {
     "name": "stdout",
     "output_type": "stream",
     "text": [
      "Validation/Test Epoch 5====> average CTC loss: 6.7026\n",
      "Test Epoch 5====> PER : 39.1289\n",
      "dev [2, 2, 2, 2, 2, 2, 2, 2, 2, 2]\n",
      "\u001b[91mEarlyStopping counter: 5 out of 7\u001b[0m\n",
      "\n"
     ]
    },
    {
     "data": {
      "application/vnd.jupyter.widget-view+json": {
       "model_id": "0fb2a07004584a69913d9a1a839ec0e6",
       "version_major": 2,
       "version_minor": 0
      },
      "text/plain": [
       "  0%|          | 0/63 [00:00<?, ?it/s]"
      ]
     },
     "metadata": {},
     "output_type": "display_data"
    },
    {
     "name": "stdout",
     "output_type": "stream",
     "text": [
      "Train Epoch: 6 ====> Average CTC loss: 6.6712\n",
      "train [2, 2, 2, 2, 2, 2, 2, 2, 2, 2]\n"
     ]
    },
    {
     "data": {
      "application/vnd.jupyter.widget-view+json": {
       "model_id": "f7535efc27614cf9bbc6617b21d47a14",
       "version_major": 2,
       "version_minor": 0
      },
      "text/plain": [
       "  0%|          | 0/45 [00:00<?, ?it/s]"
      ]
     },
     "metadata": {},
     "output_type": "display_data"
    },
    {
     "name": "stdout",
     "output_type": "stream",
     "text": [
      "Validation/Test Epoch 6====> average CTC loss: 6.7005\n",
      "Test Epoch 6====> PER : 39.1289\n",
      "dev [2, 2, 2, 2, 2, 2, 2, 2, 2, 2]\n",
      "\u001b[91mEarlyStopping counter: 6 out of 7\u001b[0m\n",
      "\n"
     ]
    },
    {
     "data": {
      "application/vnd.jupyter.widget-view+json": {
       "model_id": "4952bd3d8cf242629737374e44bd83a4",
       "version_major": 2,
       "version_minor": 0
      },
      "text/plain": [
       "  0%|          | 0/63 [00:00<?, ?it/s]"
      ]
     },
     "metadata": {},
     "output_type": "display_data"
    },
    {
     "name": "stdout",
     "output_type": "stream",
     "text": [
      "Train Epoch: 7 ====> Average CTC loss: 6.6692\n",
      "train [2, 2, 2, 2, 2, 2, 2, 2, 2, 2]\n"
     ]
    },
    {
     "data": {
      "application/vnd.jupyter.widget-view+json": {
       "model_id": "d844b2edc6344a7fa8aaef9c2cbf1766",
       "version_major": 2,
       "version_minor": 0
      },
      "text/plain": [
       "  0%|          | 0/45 [00:00<?, ?it/s]"
      ]
     },
     "metadata": {},
     "output_type": "display_data"
    },
    {
     "name": "stdout",
     "output_type": "stream",
     "text": [
      "Validation/Test Epoch 7====> average CTC loss: 6.6941\n",
      "Test Epoch 7====> PER : 39.1289\n",
      "dev [2, 2, 2, 2, 2, 2, 2, 2, 2, 2]\n",
      "\u001b[91mEarlyStopping counter: 7 out of 7\u001b[0m\n",
      "\n"
     ]
    },
    {
     "data": {
      "application/vnd.jupyter.widget-view+json": {
       "model_id": "4cfbffc1595c49d0b47ae64529589faa",
       "version_major": 2,
       "version_minor": 0
      },
      "text/plain": [
       "  0%|          | 0/63 [00:00<?, ?it/s]"
      ]
     },
     "metadata": {},
     "output_type": "display_data"
    },
    {
     "name": "stdout",
     "output_type": "stream",
     "text": [
      "Train Epoch: 8 ====> Average CTC loss: 6.6586\n",
      "train [2, 2, 2, 2, 2, 2, 2, 2, 2, 2]\n"
     ]
    },
    {
     "data": {
      "application/vnd.jupyter.widget-view+json": {
       "model_id": "885ef708b59c432485368ee543d4fd83",
       "version_major": 2,
       "version_minor": 0
      },
      "text/plain": [
       "  0%|          | 0/45 [00:00<?, ?it/s]"
      ]
     },
     "metadata": {},
     "output_type": "display_data"
    },
    {
     "name": "stdout",
     "output_type": "stream",
     "text": [
      "Validation/Test Epoch 8====> average CTC loss: 6.6739\n",
      "Test Epoch 8====> PER : 39.1289\n",
      "dev [2, 2, 2, 2, 2, 2, 2, 2, 2, 2]\n",
      "\u001b[91mEarlyStopping counter: 8 out of 7\u001b[0m\n",
      "\n"
     ]
    },
    {
     "data": {
      "application/vnd.jupyter.widget-view+json": {
       "model_id": "d563d17155864676a8a2469c3865c75f",
       "version_major": 2,
       "version_minor": 0
      },
      "text/plain": [
       "  0%|          | 0/63 [00:00<?, ?it/s]"
      ]
     },
     "metadata": {},
     "output_type": "display_data"
    },
    {
     "name": "stdout",
     "output_type": "stream",
     "text": [
      "Train Epoch: 9 ====> Average CTC loss: 6.5884\n",
      "train [2, 2, 2, 2, 2, 2, 2, 2, 2, 2]\n"
     ]
    },
    {
     "data": {
      "application/vnd.jupyter.widget-view+json": {
       "model_id": "7d92a55a7a854ea7bc07366a6f47d015",
       "version_major": 2,
       "version_minor": 0
      },
      "text/plain": [
       "  0%|          | 0/45 [00:00<?, ?it/s]"
      ]
     },
     "metadata": {},
     "output_type": "display_data"
    },
    {
     "name": "stdout",
     "output_type": "stream",
     "text": [
      "Validation/Test Epoch 9====> average CTC loss: 6.5232\n",
      "Test Epoch 9====> PER : 39.1289\n",
      "dev [2, 2, 2, 2, 2, 2, 2, 2, 2, 2]\n",
      "\u001b[91mEarlyStopping counter: 9 out of 7\u001b[0m\n",
      "\n"
     ]
    },
    {
     "data": {
      "application/vnd.jupyter.widget-view+json": {
       "model_id": "2ecdbf5514fb47cdb0287fe2e834811b",
       "version_major": 2,
       "version_minor": 0
      },
      "text/plain": [
       "  0%|          | 0/63 [00:00<?, ?it/s]"
      ]
     },
     "metadata": {},
     "output_type": "display_data"
    },
    {
     "name": "stdout",
     "output_type": "stream",
     "text": [
      "Train Epoch: 10 ====> Average CTC loss: 6.3189\n",
      "train [2, 2, 2, 2, 2, 2, 2, 2, 2, 2]\n"
     ]
    },
    {
     "data": {
      "application/vnd.jupyter.widget-view+json": {
       "model_id": "dc1a145aaf5d4bb78a3f6f9f9ab88ddc",
       "version_major": 2,
       "version_minor": 0
      },
      "text/plain": [
       "  0%|          | 0/45 [00:00<?, ?it/s]"
      ]
     },
     "metadata": {},
     "output_type": "display_data"
    },
    {
     "name": "stdout",
     "output_type": "stream",
     "text": [
      "Validation/Test Epoch 10====> average CTC loss: 6.2653\n",
      "Test Epoch 10====> PER : 39.1289\n",
      "dev [2, 2, 2, 2, 2, 2, 2, 2, 2, 2]\n",
      "\u001b[91mEarlyStopping counter: 10 out of 7\u001b[0m\n",
      "\n"
     ]
    },
    {
     "data": {
      "application/vnd.jupyter.widget-view+json": {
       "model_id": "3f751f605bd04df9bce6b74837c74554",
       "version_major": 2,
       "version_minor": 0
      },
      "text/plain": [
       "  0%|          | 0/63 [00:00<?, ?it/s]"
      ]
     },
     "metadata": {},
     "output_type": "display_data"
    },
    {
     "name": "stdout",
     "output_type": "stream",
     "text": [
      "Train Epoch: 11 ====> Average CTC loss: 6.1112\n",
      "train [2, 2, 2, 2, 2, 2, 2, 2, 2, 2]\n"
     ]
    },
    {
     "data": {
      "application/vnd.jupyter.widget-view+json": {
       "model_id": "06011c9c813a43f88c596a12eed9c868",
       "version_major": 2,
       "version_minor": 0
      },
      "text/plain": [
       "  0%|          | 0/45 [00:00<?, ?it/s]"
      ]
     },
     "metadata": {},
     "output_type": "display_data"
    },
    {
     "name": "stdout",
     "output_type": "stream",
     "text": [
      "Validation/Test Epoch 11====> average CTC loss: 6.1674\n",
      "Test Epoch 11====> PER : 39.1289\n",
      "dev [2, 2, 2, 2, 2, 2, 2, 2, 2, 2]\n",
      "\u001b[91mEarlyStopping counter: 11 out of 7\u001b[0m\n",
      "\n"
     ]
    },
    {
     "data": {
      "application/vnd.jupyter.widget-view+json": {
       "model_id": "0755a852affd49609f47466962c91818",
       "version_major": 2,
       "version_minor": 0
      },
      "text/plain": [
       "  0%|          | 0/63 [00:00<?, ?it/s]"
      ]
     },
     "metadata": {},
     "output_type": "display_data"
    },
    {
     "name": "stdout",
     "output_type": "stream",
     "text": [
      "Train Epoch: 12 ====> Average CTC loss: 6.0768\n",
      "train [2, 2, 2, 2, 2, 2, 2, 2, 2, 2]\n"
     ]
    },
    {
     "data": {
      "application/vnd.jupyter.widget-view+json": {
       "model_id": "81077ea461734c0da76c39555dde7110",
       "version_major": 2,
       "version_minor": 0
      },
      "text/plain": [
       "  0%|          | 0/45 [00:00<?, ?it/s]"
      ]
     },
     "metadata": {},
     "output_type": "display_data"
    },
    {
     "name": "stdout",
     "output_type": "stream",
     "text": [
      "Validation/Test Epoch 12====> average CTC loss: 6.1179\n",
      "Test Epoch 12====> PER : 39.1289\n",
      "dev [2, 2, 2, 2, 2, 2, 2, 2, 2, 2]\n",
      "\u001b[91mEarlyStopping counter: 12 out of 7\u001b[0m\n",
      "\n"
     ]
    },
    {
     "data": {
      "application/vnd.jupyter.widget-view+json": {
       "model_id": "ab8a0f0697ba4f76a3d53618ca072d8e",
       "version_major": 2,
       "version_minor": 0
      },
      "text/plain": [
       "  0%|          | 0/63 [00:00<?, ?it/s]"
      ]
     },
     "metadata": {},
     "output_type": "display_data"
    },
    {
     "name": "stdout",
     "output_type": "stream",
     "text": [
      "Train Epoch: 13 ====> Average CTC loss: 6.0448\n",
      "train [2, 2, 2, 2, 2, 2, 2, 2, 2, 2]\n"
     ]
    },
    {
     "data": {
      "application/vnd.jupyter.widget-view+json": {
       "model_id": "9238098b46d5434f9558a9c9d41c7dba",
       "version_major": 2,
       "version_minor": 0
      },
      "text/plain": [
       "  0%|          | 0/45 [00:00<?, ?it/s]"
      ]
     },
     "metadata": {},
     "output_type": "display_data"
    },
    {
     "name": "stdout",
     "output_type": "stream",
     "text": [
      "Validation/Test Epoch 13====> average CTC loss: 6.0809\n",
      "Test Epoch 13====> PER : 39.1289\n",
      "dev [2, 2, 2, 2, 2, 2, 2, 2, 2, 2]\n",
      "\u001b[91mEarlyStopping counter: 13 out of 7\u001b[0m\n",
      "\n"
     ]
    },
    {
     "data": {
      "application/vnd.jupyter.widget-view+json": {
       "model_id": "fd47469a21d04ffc881f4467fc74225d",
       "version_major": 2,
       "version_minor": 0
      },
      "text/plain": [
       "  0%|          | 0/63 [00:00<?, ?it/s]"
      ]
     },
     "metadata": {},
     "output_type": "display_data"
    },
    {
     "name": "stdout",
     "output_type": "stream",
     "text": [
      "Train Epoch: 14 ====> Average CTC loss: 6.0308\n",
      "train [2, 2, 2, 2, 2, 2, 2, 2, 2, 2]\n"
     ]
    },
    {
     "data": {
      "application/vnd.jupyter.widget-view+json": {
       "model_id": "75b1b81845eb468e8b2c591182a3ccd0",
       "version_major": 2,
       "version_minor": 0
      },
      "text/plain": [
       "  0%|          | 0/45 [00:00<?, ?it/s]"
      ]
     },
     "metadata": {},
     "output_type": "display_data"
    },
    {
     "name": "stdout",
     "output_type": "stream",
     "text": [
      "Validation/Test Epoch 14====> average CTC loss: 6.2026\n",
      "Test Epoch 14====> PER : 39.1289\n",
      "dev [2, 2, 2, 2, 2, 2, 2, 2, 2, 2]\n",
      "\u001b[91mEarlyStopping counter: 14 out of 7\u001b[0m\n",
      "\n"
     ]
    },
    {
     "data": {
      "application/vnd.jupyter.widget-view+json": {
       "model_id": "9ed6f9722cd941cbb64cef0235c619b2",
       "version_major": 2,
       "version_minor": 0
      },
      "text/plain": [
       "  0%|          | 0/63 [00:00<?, ?it/s]"
      ]
     },
     "metadata": {},
     "output_type": "display_data"
    },
    {
     "name": "stdout",
     "output_type": "stream",
     "text": [
      "Train Epoch: 15 ====> Average CTC loss: 5.9698\n",
      "train [2, 2, 2, 2, 2, 2, 2, 2, 2, 2]\n"
     ]
    },
    {
     "data": {
      "application/vnd.jupyter.widget-view+json": {
       "model_id": "118db808a35c484eb931bd23bd415b65",
       "version_major": 2,
       "version_minor": 0
      },
      "text/plain": [
       "  0%|          | 0/45 [00:00<?, ?it/s]"
      ]
     },
     "metadata": {},
     "output_type": "display_data"
    },
    {
     "name": "stdout",
     "output_type": "stream",
     "text": [
      "Validation/Test Epoch 15====> average CTC loss: 5.9015\n",
      "Test Epoch 15====> PER : 39.1289\n",
      "dev [2, 2, 2, 2, 2, 2, 2, 2, 2, 2]\n",
      "\u001b[91mEarlyStopping counter: 15 out of 7\u001b[0m\n",
      "\n"
     ]
    },
    {
     "data": {
      "application/vnd.jupyter.widget-view+json": {
       "model_id": "5f7430c9235e469a92b362e5fb145e2d",
       "version_major": 2,
       "version_minor": 0
      },
      "text/plain": [
       "  0%|          | 0/63 [00:00<?, ?it/s]"
      ]
     },
     "metadata": {},
     "output_type": "display_data"
    },
    {
     "name": "stdout",
     "output_type": "stream",
     "text": [
      "Train Epoch: 16 ====> Average CTC loss: 5.4159\n",
      "train [2, 2, 2, 2, 2, 2, 2, 2, 2, 2]\n"
     ]
    },
    {
     "data": {
      "application/vnd.jupyter.widget-view+json": {
       "model_id": "fcb726123d9e43d882453289835d841d",
       "version_major": 2,
       "version_minor": 0
      },
      "text/plain": [
       "  0%|          | 0/45 [00:00<?, ?it/s]"
      ]
     },
     "metadata": {},
     "output_type": "display_data"
    },
    {
     "name": "stdout",
     "output_type": "stream",
     "text": [
      "Validation/Test Epoch 16====> average CTC loss: 4.6023\n",
      "Test Epoch 16====> PER : 39.1289\n",
      "dev [2, 2, 2, 2, 2, 2, 2, 2, 2, 2]\n",
      "\u001b[91mEarlyStopping counter: 16 out of 7\u001b[0m\n",
      "\n"
     ]
    },
    {
     "data": {
      "application/vnd.jupyter.widget-view+json": {
       "model_id": "ffb080f11d5b4666b8a7b7e010bcf8b3",
       "version_major": 2,
       "version_minor": 0
      },
      "text/plain": [
       "  0%|          | 0/63 [00:00<?, ?it/s]"
      ]
     },
     "metadata": {},
     "output_type": "display_data"
    },
    {
     "name": "stdout",
     "output_type": "stream",
     "text": [
      "Train Epoch: 17 ====> Average CTC loss: 4.5487\n",
      "train [2, 2, 2, 2, 2, 2, 2, 2, 2, 2]\n"
     ]
    },
    {
     "data": {
      "application/vnd.jupyter.widget-view+json": {
       "model_id": "58e560b15f274a55a0a95e0a663f7fcb",
       "version_major": 2,
       "version_minor": 0
      },
      "text/plain": [
       "  0%|          | 0/45 [00:00<?, ?it/s]"
      ]
     },
     "metadata": {},
     "output_type": "display_data"
    },
    {
     "name": "stdout",
     "output_type": "stream",
     "text": [
      "Validation/Test Epoch 17====> average CTC loss: 4.6833\n",
      "Test Epoch 17====> PER : 39.1289\n",
      "dev [2, 2, 2, 2, 2, 2, 2, 2, 2, 2]\n",
      "\u001b[91mEarlyStopping counter: 17 out of 7\u001b[0m\n",
      "\n"
     ]
    },
    {
     "data": {
      "application/vnd.jupyter.widget-view+json": {
       "model_id": "36a6afba8bd04d6ca92ad91a73ae3af4",
       "version_major": 2,
       "version_minor": 0
      },
      "text/plain": [
       "  0%|          | 0/63 [00:00<?, ?it/s]"
      ]
     },
     "metadata": {},
     "output_type": "display_data"
    },
    {
     "name": "stdout",
     "output_type": "stream",
     "text": [
      "Train Epoch: 18 ====> Average CTC loss: 4.4117\n",
      "train [2, 2, 2, 2, 2, 2, 2, 2, 2, 2]\n"
     ]
    },
    {
     "data": {
      "application/vnd.jupyter.widget-view+json": {
       "model_id": "5cd7735809d74500b8fbfc142048030f",
       "version_major": 2,
       "version_minor": 0
      },
      "text/plain": [
       "  0%|          | 0/45 [00:00<?, ?it/s]"
      ]
     },
     "metadata": {},
     "output_type": "display_data"
    },
    {
     "name": "stdout",
     "output_type": "stream",
     "text": [
      "Validation/Test Epoch 18====> average CTC loss: 4.4356\n",
      "Test Epoch 18====> PER : 39.1289\n",
      "dev [2, 2, 2, 2, 2, 2, 2, 2, 2, 2]\n",
      "\u001b[91mEarlyStopping counter: 18 out of 7\u001b[0m\n",
      "\n"
     ]
    },
    {
     "data": {
      "application/vnd.jupyter.widget-view+json": {
       "model_id": "1dc5dfb8c9ca4cf49919b3b168855dce",
       "version_major": 2,
       "version_minor": 0
      },
      "text/plain": [
       "  0%|          | 0/63 [00:00<?, ?it/s]"
      ]
     },
     "metadata": {},
     "output_type": "display_data"
    },
    {
     "name": "stdout",
     "output_type": "stream",
     "text": [
      "Train Epoch: 19 ====> Average CTC loss: 4.2426\n",
      "train [2, 2, 2, 2, 2, 2, 2, 2, 2, 2]\n"
     ]
    },
    {
     "data": {
      "application/vnd.jupyter.widget-view+json": {
       "model_id": "5c4b041dd190413986a5b48612ec8f09",
       "version_major": 2,
       "version_minor": 0
      },
      "text/plain": [
       "  0%|          | 0/45 [00:00<?, ?it/s]"
      ]
     },
     "metadata": {},
     "output_type": "display_data"
    },
    {
     "name": "stdout",
     "output_type": "stream",
     "text": [
      "Validation/Test Epoch 19====> average CTC loss: 4.4957\n",
      "Test Epoch 19====> PER : 39.1289\n",
      "dev [2, 2, 2, 2, 2, 2, 2, 2, 2, 2]\n",
      "\u001b[91mEarlyStopping counter: 19 out of 7\u001b[0m\n",
      "\n"
     ]
    },
    {
     "data": {
      "application/vnd.jupyter.widget-view+json": {
       "model_id": "b0a108ae2cae4389b42d8467b1d599ae",
       "version_major": 2,
       "version_minor": 0
      },
      "text/plain": [
       "  0%|          | 0/63 [00:00<?, ?it/s]"
      ]
     },
     "metadata": {},
     "output_type": "display_data"
    },
    {
     "name": "stdout",
     "output_type": "stream",
     "text": [
      "Train Epoch: 20 ====> Average CTC loss: 4.2911\n",
      "train [2, 2, 2, 2, 2, 2, 2, 2, 2, 2]\n"
     ]
    },
    {
     "data": {
      "application/vnd.jupyter.widget-view+json": {
       "model_id": "e93cdd4e517443769e635a702cfa7b4c",
       "version_major": 2,
       "version_minor": 0
      },
      "text/plain": [
       "  0%|          | 0/45 [00:00<?, ?it/s]"
      ]
     },
     "metadata": {},
     "output_type": "display_data"
    },
    {
     "name": "stdout",
     "output_type": "stream",
     "text": [
      "Validation/Test Epoch 20====> average CTC loss: 4.2369\n",
      "Test Epoch 20====> PER : 39.1289\n",
      "dev [2, 2, 2, 2, 2, 2, 2, 2, 2, 2]\n",
      "\u001b[91mEarlyStopping counter: 20 out of 7\u001b[0m\n",
      "\n"
     ]
    },
    {
     "data": {
      "application/vnd.jupyter.widget-view+json": {
       "model_id": "d583350744b34a2fa15cd8d014b07da8",
       "version_major": 2,
       "version_minor": 0
      },
      "text/plain": [
       "  0%|          | 0/63 [00:00<?, ?it/s]"
      ]
     },
     "metadata": {},
     "output_type": "display_data"
    },
    {
     "name": "stdout",
     "output_type": "stream",
     "text": [
      "Train Epoch: 21 ====> Average CTC loss: 4.1570\n",
      "train [2, 2, 2, 2, 2, 2, 2, 2, 2, 2]\n"
     ]
    },
    {
     "data": {
      "application/vnd.jupyter.widget-view+json": {
       "model_id": "8c3bd318ec4b47e3b4f1a2ce441e1a63",
       "version_major": 2,
       "version_minor": 0
      },
      "text/plain": [
       "  0%|          | 0/45 [00:00<?, ?it/s]"
      ]
     },
     "metadata": {},
     "output_type": "display_data"
    },
    {
     "name": "stdout",
     "output_type": "stream",
     "text": [
      "Validation/Test Epoch 21====> average CTC loss: 4.2780\n",
      "Test Epoch 21====> PER : 38.6356\n",
      "dev [2, 2, 2, 2, 2, 2, 2, 2, 2, 2]\n",
      "\u001b[91mEarlyStopping counter: 21 out of 7\u001b[0m\n",
      "\n"
     ]
    },
    {
     "data": {
      "application/vnd.jupyter.widget-view+json": {
       "model_id": "b5b1c6c2baac48efb98c4616d4a856cb",
       "version_major": 2,
       "version_minor": 0
      },
      "text/plain": [
       "  0%|          | 0/63 [00:00<?, ?it/s]"
      ]
     },
     "metadata": {},
     "output_type": "display_data"
    },
    {
     "name": "stdout",
     "output_type": "stream",
     "text": [
      "Train Epoch: 22 ====> Average CTC loss: 4.1170\n",
      "train [2, 2, 2, 2, 2, 2, 2, 2, 2, 2]\n"
     ]
    },
    {
     "data": {
      "application/vnd.jupyter.widget-view+json": {
       "model_id": "02bc97199b5644ef88cc0069175d57bb",
       "version_major": 2,
       "version_minor": 0
      },
      "text/plain": [
       "  0%|          | 0/45 [00:00<?, ?it/s]"
      ]
     },
     "metadata": {},
     "output_type": "display_data"
    },
    {
     "name": "stdout",
     "output_type": "stream",
     "text": [
      "Validation/Test Epoch 22====> average CTC loss: 4.0989\n",
      "Test Epoch 22====> PER : 38.5767\n",
      "dev [2, 2, 2, 2, 2, 2, 2, 2, 2, 2]\n",
      "\u001b[91mEarlyStopping counter: 22 out of 7\u001b[0m\n",
      "\n"
     ]
    },
    {
     "data": {
      "application/vnd.jupyter.widget-view+json": {
       "model_id": "49652d3c98b34c1ea7e6b625a5195235",
       "version_major": 2,
       "version_minor": 0
      },
      "text/plain": [
       "  0%|          | 0/63 [00:00<?, ?it/s]"
      ]
     },
     "metadata": {},
     "output_type": "display_data"
    },
    {
     "name": "stdout",
     "output_type": "stream",
     "text": [
      "Train Epoch: 23 ====> Average CTC loss: 4.0626\n",
      "train [2, 2, 2, 2, 2, 2, 2, 2, 2, 2]\n"
     ]
    },
    {
     "data": {
      "application/vnd.jupyter.widget-view+json": {
       "model_id": "258f1e91520a4327b9503b7e53a01ba0",
       "version_major": 2,
       "version_minor": 0
      },
      "text/plain": [
       "  0%|          | 0/45 [00:00<?, ?it/s]"
      ]
     },
     "metadata": {},
     "output_type": "display_data"
    },
    {
     "name": "stdout",
     "output_type": "stream",
     "text": [
      "Validation/Test Epoch 23====> average CTC loss: 4.0338\n",
      "Test Epoch 23====> PER : 38.7144\n",
      "dev [2, 2, 2, 2, 2, 2, 2, 2, 2, 2]\n",
      "\u001b[91mEarlyStopping counter: 23 out of 7\u001b[0m\n",
      "\n"
     ]
    },
    {
     "data": {
      "application/vnd.jupyter.widget-view+json": {
       "model_id": "af45753f772549a68355077ac9b5a48b",
       "version_major": 2,
       "version_minor": 0
      },
      "text/plain": [
       "  0%|          | 0/63 [00:00<?, ?it/s]"
      ]
     },
     "metadata": {},
     "output_type": "display_data"
    },
    {
     "name": "stdout",
     "output_type": "stream",
     "text": [
      "Train Epoch: 24 ====> Average CTC loss: 4.0912\n",
      "train [2, 2, 2, 2, 2, 2, 2, 2, 2, 2]\n"
     ]
    },
    {
     "data": {
      "application/vnd.jupyter.widget-view+json": {
       "model_id": "696b6cbf36c447058eea75cf4df9c7fc",
       "version_major": 2,
       "version_minor": 0
      },
      "text/plain": [
       "  0%|          | 0/45 [00:00<?, ?it/s]"
      ]
     },
     "metadata": {},
     "output_type": "display_data"
    },
    {
     "name": "stdout",
     "output_type": "stream",
     "text": [
      "Validation/Test Epoch 24====> average CTC loss: 4.1019\n",
      "Test Epoch 24====> PER : 38.5100\n",
      "dev [2, 2, 2, 2, 2, 2, 2, 2, 2, 2]\n",
      "\u001b[91mEarlyStopping counter: 24 out of 7\u001b[0m\n",
      "\n"
     ]
    },
    {
     "data": {
      "application/vnd.jupyter.widget-view+json": {
       "model_id": "99a85f7b49e94d14acc23c94c3cdd8f8",
       "version_major": 2,
       "version_minor": 0
      },
      "text/plain": [
       "  0%|          | 0/63 [00:00<?, ?it/s]"
      ]
     },
     "metadata": {},
     "output_type": "display_data"
    },
    {
     "name": "stdout",
     "output_type": "stream",
     "text": [
      "Train Epoch: 25 ====> Average CTC loss: 4.0723\n",
      "train [2, 2, 2, 2, 2, 2, 2, 2, 2, 2]\n"
     ]
    },
    {
     "data": {
      "application/vnd.jupyter.widget-view+json": {
       "model_id": "a5112e1b929a4472b88818e126241330",
       "version_major": 2,
       "version_minor": 0
      },
      "text/plain": [
       "  0%|          | 0/45 [00:00<?, ?it/s]"
      ]
     },
     "metadata": {},
     "output_type": "display_data"
    },
    {
     "name": "stdout",
     "output_type": "stream",
     "text": [
      "Validation/Test Epoch 25====> average CTC loss: 4.0634\n",
      "Test Epoch 25====> PER : 38.8278\n",
      "dev [2, 2, 2, 2, 2, 2, 2, 2, 2, 2]\n",
      "\u001b[91mEarlyStopping counter: 25 out of 7\u001b[0m\n",
      "\n"
     ]
    },
    {
     "data": {
      "application/vnd.jupyter.widget-view+json": {
       "model_id": "4074edcb573e485484070816050bfeaf",
       "version_major": 2,
       "version_minor": 0
      },
      "text/plain": [
       "  0%|          | 0/63 [00:00<?, ?it/s]"
      ]
     },
     "metadata": {},
     "output_type": "display_data"
    },
    {
     "name": "stdout",
     "output_type": "stream",
     "text": [
      "Train Epoch: 26 ====> Average CTC loss: 4.0600\n",
      "train [2, 2, 2, 2, 2, 2, 2, 2, 2, 2]\n"
     ]
    },
    {
     "data": {
      "application/vnd.jupyter.widget-view+json": {
       "model_id": "1a1977d3ba7f4e41b2a0f9fc45cc5265",
       "version_major": 2,
       "version_minor": 0
      },
      "text/plain": [
       "  0%|          | 0/45 [00:00<?, ?it/s]"
      ]
     },
     "metadata": {},
     "output_type": "display_data"
    },
    {
     "name": "stdout",
     "output_type": "stream",
     "text": [
      "Validation/Test Epoch 26====> average CTC loss: 4.0333\n",
      "Test Epoch 26====> PER : 38.4644\n",
      "dev [2, 2, 2, 2, 2, 2, 2, 2, 2, 2]\n",
      "\u001b[91mEarlyStopping counter: 26 out of 7\u001b[0m\n",
      "\n"
     ]
    },
    {
     "data": {
      "application/vnd.jupyter.widget-view+json": {
       "model_id": "dc38220fa94943e48a6ab1345101ca7e",
       "version_major": 2,
       "version_minor": 0
      },
      "text/plain": [
       "  0%|          | 0/63 [00:00<?, ?it/s]"
      ]
     },
     "metadata": {},
     "output_type": "display_data"
    },
    {
     "name": "stdout",
     "output_type": "stream",
     "text": [
      "Train Epoch: 27 ====> Average CTC loss: 4.0711\n",
      "train [2, 2, 2, 2, 2, 2, 2, 2, 2, 2]\n"
     ]
    },
    {
     "data": {
      "application/vnd.jupyter.widget-view+json": {
       "model_id": "91942c8e865e489588a5f3ab195da946",
       "version_major": 2,
       "version_minor": 0
      },
      "text/plain": [
       "  0%|          | 0/45 [00:00<?, ?it/s]"
      ]
     },
     "metadata": {},
     "output_type": "display_data"
    },
    {
     "name": "stdout",
     "output_type": "stream",
     "text": [
      "Validation/Test Epoch 27====> average CTC loss: 4.4092\n",
      "Test Epoch 27====> PER : 38.3433\n",
      "dev [2, 2, 2, 2, 2, 2, 2, 2, 2, 2]\n",
      "\u001b[91mEarlyStopping counter: 27 out of 7\u001b[0m\n",
      "\n"
     ]
    },
    {
     "data": {
      "application/vnd.jupyter.widget-view+json": {
       "model_id": "cdc269d7ca3948d8a1ac70fed7750398",
       "version_major": 2,
       "version_minor": 0
      },
      "text/plain": [
       "  0%|          | 0/63 [00:00<?, ?it/s]"
      ]
     },
     "metadata": {},
     "output_type": "display_data"
    },
    {
     "name": "stdout",
     "output_type": "stream",
     "text": [
      "Train Epoch: 28 ====> Average CTC loss: 4.1941\n",
      "train [2, 2, 2, 2, 2, 2, 2, 2, 2, 2]\n"
     ]
    },
    {
     "data": {
      "application/vnd.jupyter.widget-view+json": {
       "model_id": "34df7b465383466a84fac01d16c30391",
       "version_major": 2,
       "version_minor": 0
      },
      "text/plain": [
       "  0%|          | 0/45 [00:00<?, ?it/s]"
      ]
     },
     "metadata": {},
     "output_type": "display_data"
    },
    {
     "name": "stdout",
     "output_type": "stream",
     "text": [
      "Validation/Test Epoch 28====> average CTC loss: 4.1036\n",
      "Test Epoch 28====> PER : 38.2833\n",
      "dev [2, 2, 2, 2, 2, 2, 2, 2, 2, 2]\n",
      "\u001b[91mEarlyStopping counter: 28 out of 7\u001b[0m\n",
      "\n"
     ]
    },
    {
     "data": {
      "application/vnd.jupyter.widget-view+json": {
       "model_id": "7cc23855e43848a7b2e9f99ac4f6bd06",
       "version_major": 2,
       "version_minor": 0
      },
      "text/plain": [
       "  0%|          | 0/63 [00:00<?, ?it/s]"
      ]
     },
     "metadata": {},
     "output_type": "display_data"
    },
    {
     "name": "stdout",
     "output_type": "stream",
     "text": [
      "Train Epoch: 29 ====> Average CTC loss: 4.0639\n",
      "train [2, 2, 2, 2, 2, 2, 2, 2, 2, 2]\n"
     ]
    },
    {
     "data": {
      "application/vnd.jupyter.widget-view+json": {
       "model_id": "de7d8fd7baa3478ca3255d42b3792f0f",
       "version_major": 2,
       "version_minor": 0
      },
      "text/plain": [
       "  0%|          | 0/45 [00:00<?, ?it/s]"
      ]
     },
     "metadata": {},
     "output_type": "display_data"
    },
    {
     "name": "stdout",
     "output_type": "stream",
     "text": [
      "Validation/Test Epoch 29====> average CTC loss: 4.0091\n",
      "Test Epoch 29====> PER : 38.5689\n",
      "dev [2, 2, 2, 2, 2, 2, 2, 2, 2, 2]\n",
      "\u001b[91mEarlyStopping counter: 29 out of 7\u001b[0m\n",
      "\n"
     ]
    },
    {
     "data": {
      "application/vnd.jupyter.widget-view+json": {
       "model_id": "105c32819b894bee9badebe4a0063399",
       "version_major": 2,
       "version_minor": 0
      },
      "text/plain": [
       "  0%|          | 0/63 [00:00<?, ?it/s]"
      ]
     },
     "metadata": {},
     "output_type": "display_data"
    },
    {
     "name": "stdout",
     "output_type": "stream",
     "text": [
      "Train Epoch: 30 ====> Average CTC loss: 4.0064\n",
      "train [2, 2, 2, 2, 2, 2, 2, 2, 2, 2]\n"
     ]
    },
    {
     "data": {
      "application/vnd.jupyter.widget-view+json": {
       "model_id": "9047d790de4f48608c1091a767c50cd2",
       "version_major": 2,
       "version_minor": 0
      },
      "text/plain": [
       "  0%|          | 0/45 [00:00<?, ?it/s]"
      ]
     },
     "metadata": {},
     "output_type": "display_data"
    },
    {
     "name": "stdout",
     "output_type": "stream",
     "text": [
      "Validation/Test Epoch 30====> average CTC loss: 3.9718\n",
      "Test Epoch 30====> PER : 38.4444\n",
      "dev [2, 2, 2, 2, 2, 2, 2, 2, 2, 2]\n",
      "\u001b[91mEarlyStopping counter: 30 out of 7\u001b[0m\n",
      "\n"
     ]
    },
    {
     "data": {
      "application/vnd.jupyter.widget-view+json": {
       "model_id": "7db4448f90644c0ab2e4f8287647f581",
       "version_major": 2,
       "version_minor": 0
      },
      "text/plain": [
       "  0%|          | 0/63 [00:00<?, ?it/s]"
      ]
     },
     "metadata": {},
     "output_type": "display_data"
    },
    {
     "name": "stdout",
     "output_type": "stream",
     "text": [
      "Train Epoch: 31 ====> Average CTC loss: 4.0325\n",
      "train [2, 2, 2, 2, 2, 2, 2, 2, 2, 2]\n"
     ]
    },
    {
     "data": {
      "application/vnd.jupyter.widget-view+json": {
       "model_id": "ef1915ec089247a38737bbdc5d989f61",
       "version_major": 2,
       "version_minor": 0
      },
      "text/plain": [
       "  0%|          | 0/45 [00:00<?, ?it/s]"
      ]
     },
     "metadata": {},
     "output_type": "display_data"
    },
    {
     "name": "stdout",
     "output_type": "stream",
     "text": [
      "Validation/Test Epoch 31====> average CTC loss: 4.0657\n",
      "Test Epoch 31====> PER : 38.6056\n",
      "dev [2, 2, 2, 2, 2, 2, 2, 2, 2, 2]\n",
      "\u001b[91mEarlyStopping counter: 31 out of 7\u001b[0m\n",
      "\n"
     ]
    },
    {
     "data": {
      "application/vnd.jupyter.widget-view+json": {
       "model_id": "3502c46d45a54e55a766846e58f41a65",
       "version_major": 2,
       "version_minor": 0
      },
      "text/plain": [
       "  0%|          | 0/63 [00:00<?, ?it/s]"
      ]
     },
     "metadata": {},
     "output_type": "display_data"
    },
    {
     "name": "stdout",
     "output_type": "stream",
     "text": [
      "Train Epoch: 32 ====> Average CTC loss: 4.0202\n",
      "train [2, 2, 2, 2, 2, 2, 2, 2, 2, 2]\n"
     ]
    },
    {
     "data": {
      "application/vnd.jupyter.widget-view+json": {
       "model_id": "593954e27074458c86246db69c6eb007",
       "version_major": 2,
       "version_minor": 0
      },
      "text/plain": [
       "  0%|          | 0/45 [00:00<?, ?it/s]"
      ]
     },
     "metadata": {},
     "output_type": "display_data"
    },
    {
     "name": "stdout",
     "output_type": "stream",
     "text": [
      "Validation/Test Epoch 32====> average CTC loss: 4.0101\n",
      "Test Epoch 32====> PER : 38.4100\n",
      "dev [2, 2, 2, 2, 2, 2, 2, 2, 2, 2]\n",
      "\u001b[91mEarlyStopping counter: 32 out of 7\u001b[0m\n",
      "\n"
     ]
    },
    {
     "data": {
      "application/vnd.jupyter.widget-view+json": {
       "model_id": "75d7fa0b677b4936baf87eb12a967af5",
       "version_major": 2,
       "version_minor": 0
      },
      "text/plain": [
       "  0%|          | 0/63 [00:00<?, ?it/s]"
      ]
     },
     "metadata": {},
     "output_type": "display_data"
    },
    {
     "name": "stdout",
     "output_type": "stream",
     "text": [
      "Train Epoch: 33 ====> Average CTC loss: 4.0385\n",
      "train [2, 2, 2, 2, 2, 2, 2, 2, 2, 2]\n"
     ]
    },
    {
     "data": {
      "application/vnd.jupyter.widget-view+json": {
       "model_id": "c41232b3950146e5950dbb4c00f90c7e",
       "version_major": 2,
       "version_minor": 0
      },
      "text/plain": [
       "  0%|          | 0/45 [00:00<?, ?it/s]"
      ]
     },
     "metadata": {},
     "output_type": "display_data"
    },
    {
     "name": "stdout",
     "output_type": "stream",
     "text": [
      "Validation/Test Epoch 33====> average CTC loss: 3.9992\n",
      "Test Epoch 33====> PER : 38.3189\n",
      "dev [2, 2, 2, 2, 2, 2, 2, 2, 2, 2]\n",
      "\u001b[91mEarlyStopping counter: 33 out of 7\u001b[0m\n",
      "\n"
     ]
    },
    {
     "data": {
      "application/vnd.jupyter.widget-view+json": {
       "model_id": "6fceb036b10642f4bfa562833ad8ebc6",
       "version_major": 2,
       "version_minor": 0
      },
      "text/plain": [
       "  0%|          | 0/63 [00:00<?, ?it/s]"
      ]
     },
     "metadata": {},
     "output_type": "display_data"
    },
    {
     "name": "stdout",
     "output_type": "stream",
     "text": [
      "Train Epoch: 34 ====> Average CTC loss: 4.0191\n",
      "train [2, 2, 2, 2, 2, 2, 2, 2, 2, 2]\n"
     ]
    },
    {
     "data": {
      "application/vnd.jupyter.widget-view+json": {
       "model_id": "2aa3b88da18f4856a064d8b32fb3c751",
       "version_major": 2,
       "version_minor": 0
      },
      "text/plain": [
       "  0%|          | 0/45 [00:00<?, ?it/s]"
      ]
     },
     "metadata": {},
     "output_type": "display_data"
    },
    {
     "name": "stdout",
     "output_type": "stream",
     "text": [
      "Validation/Test Epoch 34====> average CTC loss: 3.9883\n",
      "Test Epoch 34====> PER : 38.2800\n",
      "dev [2, 2, 2, 2, 2, 2, 2, 2, 2, 2]\n",
      "\u001b[91mEarlyStopping counter: 34 out of 7\u001b[0m\n",
      "\n"
     ]
    },
    {
     "data": {
      "application/vnd.jupyter.widget-view+json": {
       "model_id": "4048bf875dd24891a323f567bf0b9af8",
       "version_major": 2,
       "version_minor": 0
      },
      "text/plain": [
       "  0%|          | 0/63 [00:00<?, ?it/s]"
      ]
     },
     "metadata": {},
     "output_type": "display_data"
    },
    {
     "name": "stdout",
     "output_type": "stream",
     "text": [
      "Train Epoch: 35 ====> Average CTC loss: 4.0014\n",
      "train [2, 2, 2, 2, 2, 2, 2, 2, 2, 2]\n"
     ]
    },
    {
     "data": {
      "application/vnd.jupyter.widget-view+json": {
       "model_id": "e44cb9e0c4784b32822a47f1a0fb0e06",
       "version_major": 2,
       "version_minor": 0
      },
      "text/plain": [
       "  0%|          | 0/45 [00:00<?, ?it/s]"
      ]
     },
     "metadata": {},
     "output_type": "display_data"
    },
    {
     "name": "stdout",
     "output_type": "stream",
     "text": [
      "Validation/Test Epoch 35====> average CTC loss: 4.0878\n",
      "Test Epoch 35====> PER : 38.4222\n",
      "dev [2, 2, 2, 2, 2, 2, 2, 2, 2, 2]\n",
      "\u001b[91mEarlyStopping counter: 35 out of 7\u001b[0m\n",
      "\n"
     ]
    },
    {
     "data": {
      "application/vnd.jupyter.widget-view+json": {
       "model_id": "e9878ae464b744ec9dbe20fce3ad2f5b",
       "version_major": 2,
       "version_minor": 0
      },
      "text/plain": [
       "  0%|          | 0/63 [00:00<?, ?it/s]"
      ]
     },
     "metadata": {},
     "output_type": "display_data"
    },
    {
     "name": "stdout",
     "output_type": "stream",
     "text": [
      "Train Epoch: 36 ====> Average CTC loss: 4.0236\n",
      "train [2, 2, 2, 2, 2, 2, 2, 2, 2, 2]\n"
     ]
    },
    {
     "data": {
      "application/vnd.jupyter.widget-view+json": {
       "model_id": "4edeead5ce194e3cb1c89ada097dcdc8",
       "version_major": 2,
       "version_minor": 0
      },
      "text/plain": [
       "  0%|          | 0/45 [00:00<?, ?it/s]"
      ]
     },
     "metadata": {},
     "output_type": "display_data"
    },
    {
     "name": "stdout",
     "output_type": "stream",
     "text": [
      "Validation/Test Epoch 36====> average CTC loss: 3.9815\n",
      "Test Epoch 36====> PER : 38.2989\n",
      "dev [2, 2, 2, 2, 2, 2, 2, 2, 2, 2]\n",
      "\u001b[91mEarlyStopping counter: 36 out of 7\u001b[0m\n",
      "\n"
     ]
    },
    {
     "data": {
      "application/vnd.jupyter.widget-view+json": {
       "model_id": "126194bd70e14425ba2f35cdab8b9426",
       "version_major": 2,
       "version_minor": 0
      },
      "text/plain": [
       "  0%|          | 0/63 [00:00<?, ?it/s]"
      ]
     },
     "metadata": {},
     "output_type": "display_data"
    },
    {
     "name": "stdout",
     "output_type": "stream",
     "text": [
      "Train Epoch: 37 ====> Average CTC loss: 4.0072\n",
      "train [2, 2, 2, 2, 2, 2, 2, 2, 2, 2]\n"
     ]
    },
    {
     "data": {
      "application/vnd.jupyter.widget-view+json": {
       "model_id": "3d85d2aff3474074a55be2cc328561e2",
       "version_major": 2,
       "version_minor": 0
      },
      "text/plain": [
       "  0%|          | 0/45 [00:00<?, ?it/s]"
      ]
     },
     "metadata": {},
     "output_type": "display_data"
    },
    {
     "name": "stdout",
     "output_type": "stream",
     "text": [
      "Validation/Test Epoch 37====> average CTC loss: 4.0000\n",
      "Test Epoch 37====> PER : 38.3511\n",
      "dev [2, 2, 2, 2, 2, 2, 2, 2, 2, 2]\n",
      "\u001b[91mEarlyStopping counter: 37 out of 7\u001b[0m\n",
      "\n"
     ]
    },
    {
     "data": {
      "application/vnd.jupyter.widget-view+json": {
       "model_id": "79d6cf823ef146b68558b5349579f80c",
       "version_major": 2,
       "version_minor": 0
      },
      "text/plain": [
       "  0%|          | 0/63 [00:00<?, ?it/s]"
      ]
     },
     "metadata": {},
     "output_type": "display_data"
    },
    {
     "name": "stdout",
     "output_type": "stream",
     "text": [
      "Train Epoch: 38 ====> Average CTC loss: 4.0053\n",
      "train [2, 2, 2, 2, 2, 2, 2, 2, 2, 2]\n"
     ]
    },
    {
     "data": {
      "application/vnd.jupyter.widget-view+json": {
       "model_id": "7bfe636129c846b6b83f66d90573bdb6",
       "version_major": 2,
       "version_minor": 0
      },
      "text/plain": [
       "  0%|          | 0/45 [00:00<?, ?it/s]"
      ]
     },
     "metadata": {},
     "output_type": "display_data"
    },
    {
     "name": "stdout",
     "output_type": "stream",
     "text": [
      "Validation/Test Epoch 38====> average CTC loss: 4.1406\n",
      "Test Epoch 38====> PER : 38.2289\n",
      "dev [2, 2, 2, 2, 2, 2, 2, 2, 2, 2]\n",
      "\u001b[91mEarlyStopping counter: 38 out of 7\u001b[0m\n",
      "\n"
     ]
    },
    {
     "data": {
      "application/vnd.jupyter.widget-view+json": {
       "model_id": "b7ab09de4dfb4803a3546467a504a735",
       "version_major": 2,
       "version_minor": 0
      },
      "text/plain": [
       "  0%|          | 0/63 [00:00<?, ?it/s]"
      ]
     },
     "metadata": {},
     "output_type": "display_data"
    },
    {
     "name": "stdout",
     "output_type": "stream",
     "text": [
      "Train Epoch: 39 ====> Average CTC loss: 3.9712\n",
      "train [2, 2, 2, 2, 2, 2, 2, 2, 2, 2]\n"
     ]
    },
    {
     "data": {
      "application/vnd.jupyter.widget-view+json": {
       "model_id": "d42ce31782bc4c9b94f2ee748f5e30ad",
       "version_major": 2,
       "version_minor": 0
      },
      "text/plain": [
       "  0%|          | 0/45 [00:00<?, ?it/s]"
      ]
     },
     "metadata": {},
     "output_type": "display_data"
    },
    {
     "name": "stdout",
     "output_type": "stream",
     "text": [
      "Validation/Test Epoch 39====> average CTC loss: 3.9564\n",
      "Test Epoch 39====> PER : 38.4022\n",
      "dev [2, 2, 2, 2, 2, 2, 2, 2, 2, 2]\n",
      "\u001b[91mEarlyStopping counter: 39 out of 7\u001b[0m\n",
      "\n"
     ]
    },
    {
     "data": {
      "application/vnd.jupyter.widget-view+json": {
       "model_id": "5d775dc6ca8a48b8a0c1dcfbf57acd7b",
       "version_major": 2,
       "version_minor": 0
      },
      "text/plain": [
       "  0%|          | 0/63 [00:00<?, ?it/s]"
      ]
     },
     "metadata": {},
     "output_type": "display_data"
    },
    {
     "name": "stdout",
     "output_type": "stream",
     "text": [
      "Train Epoch: 40 ====> Average CTC loss: 4.0039\n",
      "train [2, 2, 2, 2, 2, 2, 2, 2, 2, 2]\n"
     ]
    },
    {
     "data": {
      "application/vnd.jupyter.widget-view+json": {
       "model_id": "eb8bab5db35242ca8bf861f25ffc7166",
       "version_major": 2,
       "version_minor": 0
      },
      "text/plain": [
       "  0%|          | 0/45 [00:00<?, ?it/s]"
      ]
     },
     "metadata": {},
     "output_type": "display_data"
    },
    {
     "name": "stdout",
     "output_type": "stream",
     "text": [
      "Validation/Test Epoch 40====> average CTC loss: 3.9761\n",
      "Test Epoch 40====> PER : 38.2578\n",
      "dev [2, 2, 2, 2, 2, 2, 2, 2, 2, 2]\n",
      "\u001b[91mEarlyStopping counter: 40 out of 7\u001b[0m\n",
      "\n"
     ]
    },
    {
     "data": {
      "application/vnd.jupyter.widget-view+json": {
       "model_id": "678b8a483de8453cbe6d0fdf05e3da63",
       "version_major": 2,
       "version_minor": 0
      },
      "text/plain": [
       "  0%|          | 0/63 [00:00<?, ?it/s]"
      ]
     },
     "metadata": {},
     "output_type": "display_data"
    },
    {
     "name": "stdout",
     "output_type": "stream",
     "text": [
      "Train Epoch: 41 ====> Average CTC loss: 4.0651\n",
      "train [2, 2, 2, 2, 2, 2, 2, 2, 2, 2]\n"
     ]
    },
    {
     "data": {
      "application/vnd.jupyter.widget-view+json": {
       "model_id": "493f6c00e3824a5399cd834a4cd9271d",
       "version_major": 2,
       "version_minor": 0
      },
      "text/plain": [
       "  0%|          | 0/45 [00:00<?, ?it/s]"
      ]
     },
     "metadata": {},
     "output_type": "display_data"
    },
    {
     "name": "stdout",
     "output_type": "stream",
     "text": [
      "Validation/Test Epoch 41====> average CTC loss: 4.0043\n",
      "Test Epoch 41====> PER : 38.3544\n",
      "dev [2, 2, 2, 2, 2, 2, 2, 2, 2, 2]\n",
      "\u001b[91mEarlyStopping counter: 41 out of 7\u001b[0m\n",
      "\n"
     ]
    },
    {
     "data": {
      "application/vnd.jupyter.widget-view+json": {
       "model_id": "31d91c7a3e5647fa964d2414a7e6c850",
       "version_major": 2,
       "version_minor": 0
      },
      "text/plain": [
       "  0%|          | 0/63 [00:00<?, ?it/s]"
      ]
     },
     "metadata": {},
     "output_type": "display_data"
    },
    {
     "name": "stdout",
     "output_type": "stream",
     "text": [
      "Train Epoch: 42 ====> Average CTC loss: 3.9803\n",
      "train [2, 2, 2, 2, 2, 2, 2, 2, 2, 2]\n"
     ]
    },
    {
     "data": {
      "application/vnd.jupyter.widget-view+json": {
       "model_id": "f7d82dfe6da249d58497190275273197",
       "version_major": 2,
       "version_minor": 0
      },
      "text/plain": [
       "  0%|          | 0/45 [00:00<?, ?it/s]"
      ]
     },
     "metadata": {},
     "output_type": "display_data"
    },
    {
     "name": "stdout",
     "output_type": "stream",
     "text": [
      "Validation/Test Epoch 42====> average CTC loss: 3.9697\n",
      "Test Epoch 42====> PER : 38.3411\n",
      "dev [2, 2, 2, 2, 2, 2, 2, 2, 2, 2]\n",
      "\u001b[91mEarlyStopping counter: 42 out of 7\u001b[0m\n",
      "\n"
     ]
    },
    {
     "data": {
      "application/vnd.jupyter.widget-view+json": {
       "model_id": "2087cd1c349544b68993b437d70159bb",
       "version_major": 2,
       "version_minor": 0
      },
      "text/plain": [
       "  0%|          | 0/63 [00:00<?, ?it/s]"
      ]
     },
     "metadata": {},
     "output_type": "display_data"
    },
    {
     "name": "stdout",
     "output_type": "stream",
     "text": [
      "Train Epoch: 43 ====> Average CTC loss: 4.0500\n",
      "train [2, 2, 2, 2, 2, 2, 2, 2, 2, 2]\n"
     ]
    },
    {
     "data": {
      "application/vnd.jupyter.widget-view+json": {
       "model_id": "d3f2867857764e1780df9c98ee8e435e",
       "version_major": 2,
       "version_minor": 0
      },
      "text/plain": [
       "  0%|          | 0/45 [00:00<?, ?it/s]"
      ]
     },
     "metadata": {},
     "output_type": "display_data"
    },
    {
     "name": "stdout",
     "output_type": "stream",
     "text": [
      "Validation/Test Epoch 43====> average CTC loss: 4.0012\n",
      "Test Epoch 43====> PER : 38.2756\n",
      "dev [2, 2, 2, 2, 2, 2, 2, 2, 2, 2]\n",
      "\u001b[91mEarlyStopping counter: 43 out of 7\u001b[0m\n",
      "\n"
     ]
    },
    {
     "data": {
      "application/vnd.jupyter.widget-view+json": {
       "model_id": "cd0c1c70fb734a178be0a3c5589265c8",
       "version_major": 2,
       "version_minor": 0
      },
      "text/plain": [
       "  0%|          | 0/63 [00:00<?, ?it/s]"
      ]
     },
     "metadata": {},
     "output_type": "display_data"
    },
    {
     "name": "stdout",
     "output_type": "stream",
     "text": [
      "Train Epoch: 44 ====> Average CTC loss: 3.9522\n",
      "train [2, 2, 2, 2, 2, 2, 2, 2, 2, 2]\n"
     ]
    },
    {
     "data": {
      "application/vnd.jupyter.widget-view+json": {
       "model_id": "b016c16b4f3746368d4eb0b998064e02",
       "version_major": 2,
       "version_minor": 0
      },
      "text/plain": [
       "  0%|          | 0/45 [00:00<?, ?it/s]"
      ]
     },
     "metadata": {},
     "output_type": "display_data"
    },
    {
     "name": "stdout",
     "output_type": "stream",
     "text": [
      "Validation/Test Epoch 44====> average CTC loss: 3.9387\n",
      "Test Epoch 44====> PER : 38.3378\n",
      "dev [2, 2, 2, 2, 2, 2, 2, 2, 2, 2]\n",
      "\u001b[91mEarlyStopping counter: 44 out of 7\u001b[0m\n",
      "\n"
     ]
    },
    {
     "data": {
      "application/vnd.jupyter.widget-view+json": {
       "model_id": "02359e8f3737438691fc32053f076eec",
       "version_major": 2,
       "version_minor": 0
      },
      "text/plain": [
       "  0%|          | 0/63 [00:00<?, ?it/s]"
      ]
     },
     "metadata": {},
     "output_type": "display_data"
    },
    {
     "name": "stdout",
     "output_type": "stream",
     "text": [
      "Train Epoch: 45 ====> Average CTC loss: 3.9971\n",
      "train [2, 2, 2, 2, 2, 2, 2, 2, 2, 2]\n"
     ]
    },
    {
     "data": {
      "application/vnd.jupyter.widget-view+json": {
       "model_id": "baf17a008a64439181d1db9d1fe2e9b0",
       "version_major": 2,
       "version_minor": 0
      },
      "text/plain": [
       "  0%|          | 0/45 [00:00<?, ?it/s]"
      ]
     },
     "metadata": {},
     "output_type": "display_data"
    },
    {
     "name": "stdout",
     "output_type": "stream",
     "text": [
      "Validation/Test Epoch 45====> average CTC loss: 3.9801\n",
      "Test Epoch 45====> PER : 38.2456\n",
      "dev [2, 2, 2, 2, 2, 2, 2, 2, 2, 2]\n",
      "\u001b[91mEarlyStopping counter: 45 out of 7\u001b[0m\n",
      "\n"
     ]
    },
    {
     "data": {
      "application/vnd.jupyter.widget-view+json": {
       "model_id": "cbec89d241a44391880b5c4a8e6e5500",
       "version_major": 2,
       "version_minor": 0
      },
      "text/plain": [
       "  0%|          | 0/63 [00:00<?, ?it/s]"
      ]
     },
     "metadata": {},
     "output_type": "display_data"
    },
    {
     "name": "stdout",
     "output_type": "stream",
     "text": [
      "Train Epoch: 46 ====> Average CTC loss: 3.9600\n",
      "train [2, 2, 2, 2, 2, 2, 2, 2, 2, 2]\n"
     ]
    },
    {
     "data": {
      "application/vnd.jupyter.widget-view+json": {
       "model_id": "a21bdf867ab34eca93917614651b9ec9",
       "version_major": 2,
       "version_minor": 0
      },
      "text/plain": [
       "  0%|          | 0/45 [00:00<?, ?it/s]"
      ]
     },
     "metadata": {},
     "output_type": "display_data"
    },
    {
     "name": "stdout",
     "output_type": "stream",
     "text": [
      "Validation/Test Epoch 46====> average CTC loss: 3.9447\n",
      "Test Epoch 46====> PER : 38.3500\n",
      "dev [2, 2, 2, 2, 2, 2, 2, 2, 2, 2]\n",
      "\u001b[91mEarlyStopping counter: 46 out of 7\u001b[0m\n",
      "\n"
     ]
    },
    {
     "data": {
      "application/vnd.jupyter.widget-view+json": {
       "model_id": "25a4913352e04a7ca645870c4b56a74d",
       "version_major": 2,
       "version_minor": 0
      },
      "text/plain": [
       "  0%|          | 0/63 [00:00<?, ?it/s]"
      ]
     },
     "metadata": {},
     "output_type": "display_data"
    },
    {
     "name": "stdout",
     "output_type": "stream",
     "text": [
      "Train Epoch: 47 ====> Average CTC loss: 4.0141\n",
      "train [2, 2, 2, 2, 2, 2, 2, 2, 2, 2]\n"
     ]
    },
    {
     "data": {
      "application/vnd.jupyter.widget-view+json": {
       "model_id": "accb6c840655417096e4bcff50f87278",
       "version_major": 2,
       "version_minor": 0
      },
      "text/plain": [
       "  0%|          | 0/45 [00:00<?, ?it/s]"
      ]
     },
     "metadata": {},
     "output_type": "display_data"
    },
    {
     "name": "stdout",
     "output_type": "stream",
     "text": [
      "Validation/Test Epoch 47====> average CTC loss: 3.9995\n",
      "Test Epoch 47====> PER : 38.2689\n",
      "dev [2, 2, 2, 2, 2, 2, 2, 2, 2, 2]\n",
      "\u001b[91mEarlyStopping counter: 47 out of 7\u001b[0m\n",
      "\n"
     ]
    },
    {
     "data": {
      "application/vnd.jupyter.widget-view+json": {
       "model_id": "13ea3a86742947f09f2f52e72228fc46",
       "version_major": 2,
       "version_minor": 0
      },
      "text/plain": [
       "  0%|          | 0/63 [00:00<?, ?it/s]"
      ]
     },
     "metadata": {},
     "output_type": "display_data"
    },
    {
     "name": "stdout",
     "output_type": "stream",
     "text": [
      "Train Epoch: 48 ====> Average CTC loss: 3.9802\n",
      "train [2, 2, 2, 2, 2, 2, 2, 2, 2, 2]\n"
     ]
    },
    {
     "data": {
      "application/vnd.jupyter.widget-view+json": {
       "model_id": "356a31fd662c4990914c0e4e90225a9d",
       "version_major": 2,
       "version_minor": 0
      },
      "text/plain": [
       "  0%|          | 0/45 [00:00<?, ?it/s]"
      ]
     },
     "metadata": {},
     "output_type": "display_data"
    },
    {
     "name": "stdout",
     "output_type": "stream",
     "text": [
      "Validation/Test Epoch 48====> average CTC loss: 4.0342\n",
      "Test Epoch 48====> PER : 38.2267\n",
      "dev [2, 2, 2, 2, 2, 2, 2, 2, 2, 2]\n",
      "\u001b[91mEarlyStopping counter: 48 out of 7\u001b[0m\n",
      "\n"
     ]
    },
    {
     "data": {
      "application/vnd.jupyter.widget-view+json": {
       "model_id": "4d5cbfff5e7b49a4a408ab34fb0c93cd",
       "version_major": 2,
       "version_minor": 0
      },
      "text/plain": [
       "  0%|          | 0/63 [00:00<?, ?it/s]"
      ]
     },
     "metadata": {},
     "output_type": "display_data"
    },
    {
     "name": "stdout",
     "output_type": "stream",
     "text": [
      "Train Epoch: 49 ====> Average CTC loss: 3.9674\n",
      "train [2, 2, 2, 2, 2, 2, 2, 2, 2, 2]\n"
     ]
    },
    {
     "data": {
      "application/vnd.jupyter.widget-view+json": {
       "model_id": "7ca2653520b648a595025120439cc394",
       "version_major": 2,
       "version_minor": 0
      },
      "text/plain": [
       "  0%|          | 0/45 [00:00<?, ?it/s]"
      ]
     },
     "metadata": {},
     "output_type": "display_data"
    },
    {
     "name": "stdout",
     "output_type": "stream",
     "text": [
      "Validation/Test Epoch 49====> average CTC loss: 3.9492\n",
      "Test Epoch 49====> PER : 38.1800\n",
      "dev [2, 2, 2, 2, 2, 2, 2, 2, 2, 2]\n",
      "\u001b[91mEarlyStopping counter: 49 out of 7\u001b[0m\n",
      "\n"
     ]
    },
    {
     "data": {
      "application/vnd.jupyter.widget-view+json": {
       "model_id": "690c5f40e903497e869898d9d147791a",
       "version_major": 2,
       "version_minor": 0
      },
      "text/plain": [
       "  0%|          | 0/63 [00:00<?, ?it/s]"
      ]
     },
     "metadata": {},
     "output_type": "display_data"
    },
    {
     "name": "stdout",
     "output_type": "stream",
     "text": [
      "Train Epoch: 50 ====> Average CTC loss: 3.9851\n",
      "train [2, 2, 2, 2, 2, 2, 2, 2, 2, 2]\n"
     ]
    },
    {
     "data": {
      "application/vnd.jupyter.widget-view+json": {
       "model_id": "94efff6ed69246d4949dba039d708a3b",
       "version_major": 2,
       "version_minor": 0
      },
      "text/plain": [
       "  0%|          | 0/45 [00:00<?, ?it/s]"
      ]
     },
     "metadata": {},
     "output_type": "display_data"
    },
    {
     "name": "stdout",
     "output_type": "stream",
     "text": [
      "Validation/Test Epoch 50====> average CTC loss: 3.9808\n",
      "Test Epoch 50====> PER : 38.1722\n",
      "dev [2, 2, 2, 2, 2, 2, 2, 2, 2, 2]\n",
      "\u001b[91mEarlyStopping counter: 50 out of 7\u001b[0m\n",
      "\n"
     ]
    },
    {
     "data": {
      "application/vnd.jupyter.widget-view+json": {
       "model_id": "2b24804514964e36bef7983046ad0201",
       "version_major": 2,
       "version_minor": 0
      },
      "text/plain": [
       "  0%|          | 0/63 [00:00<?, ?it/s]"
      ]
     },
     "metadata": {},
     "output_type": "display_data"
    },
    {
     "name": "stdout",
     "output_type": "stream",
     "text": [
      "Train Epoch: 51 ====> Average CTC loss: 3.9606\n",
      "train [2, 2, 2, 2, 2, 2, 2, 2, 2, 2]\n"
     ]
    },
    {
     "data": {
      "application/vnd.jupyter.widget-view+json": {
       "model_id": "08baefe0c7594db6bf0881584b325634",
       "version_major": 2,
       "version_minor": 0
      },
      "text/plain": [
       "  0%|          | 0/45 [00:00<?, ?it/s]"
      ]
     },
     "metadata": {},
     "output_type": "display_data"
    },
    {
     "name": "stdout",
     "output_type": "stream",
     "text": [
      "Validation/Test Epoch 51====> average CTC loss: 4.2512\n",
      "Test Epoch 51====> PER : 38.2378\n",
      "dev [2, 2, 2, 2, 2, 2, 2, 2, 2, 2]\n",
      "\u001b[91mEarlyStopping counter: 51 out of 7\u001b[0m\n",
      "\n"
     ]
    },
    {
     "data": {
      "application/vnd.jupyter.widget-view+json": {
       "model_id": "9b61b959f7f74f47968241b03215acbb",
       "version_major": 2,
       "version_minor": 0
      },
      "text/plain": [
       "  0%|          | 0/63 [00:00<?, ?it/s]"
      ]
     },
     "metadata": {},
     "output_type": "display_data"
    },
    {
     "name": "stdout",
     "output_type": "stream",
     "text": [
      "Train Epoch: 52 ====> Average CTC loss: 4.0018\n",
      "train [2, 2, 2, 2, 2, 2, 2, 2, 2, 2]\n"
     ]
    },
    {
     "data": {
      "application/vnd.jupyter.widget-view+json": {
       "model_id": "71223652de784ef6bd42a1f1f771e095",
       "version_major": 2,
       "version_minor": 0
      },
      "text/plain": [
       "  0%|          | 0/45 [00:00<?, ?it/s]"
      ]
     },
     "metadata": {},
     "output_type": "display_data"
    },
    {
     "name": "stdout",
     "output_type": "stream",
     "text": [
      "Validation/Test Epoch 52====> average CTC loss: 3.9496\n",
      "Test Epoch 52====> PER : 38.3167\n",
      "dev [2, 2, 2, 2, 2, 2, 2, 2, 2, 2]\n",
      "\u001b[91mEarlyStopping counter: 52 out of 7\u001b[0m\n",
      "\n"
     ]
    },
    {
     "data": {
      "application/vnd.jupyter.widget-view+json": {
       "model_id": "1858db01144f45c09ade46c6b113c62f",
       "version_major": 2,
       "version_minor": 0
      },
      "text/plain": [
       "  0%|          | 0/63 [00:00<?, ?it/s]"
      ]
     },
     "metadata": {},
     "output_type": "display_data"
    },
    {
     "name": "stdout",
     "output_type": "stream",
     "text": [
      "Train Epoch: 53 ====> Average CTC loss: 3.9249\n",
      "train [2, 2, 2, 2, 2, 2, 2, 2, 2, 2]\n"
     ]
    },
    {
     "data": {
      "application/vnd.jupyter.widget-view+json": {
       "model_id": "e4aae2066f5747ccb6f7fd5aa25c135b",
       "version_major": 2,
       "version_minor": 0
      },
      "text/plain": [
       "  0%|          | 0/45 [00:00<?, ?it/s]"
      ]
     },
     "metadata": {},
     "output_type": "display_data"
    },
    {
     "name": "stdout",
     "output_type": "stream",
     "text": [
      "Validation/Test Epoch 53====> average CTC loss: 4.0490\n",
      "Test Epoch 53====> PER : 38.4600\n",
      "dev [2, 2, 2, 2, 2, 2, 2, 2, 2, 2]\n",
      "\u001b[91mEarlyStopping counter: 53 out of 7\u001b[0m\n",
      "\n"
     ]
    },
    {
     "data": {
      "application/vnd.jupyter.widget-view+json": {
       "model_id": "d1e351a8ced94f2caa5f52a3906742c9",
       "version_major": 2,
       "version_minor": 0
      },
      "text/plain": [
       "  0%|          | 0/63 [00:00<?, ?it/s]"
      ]
     },
     "metadata": {},
     "output_type": "display_data"
    },
    {
     "name": "stdout",
     "output_type": "stream",
     "text": [
      "Train Epoch: 54 ====> Average CTC loss: 3.9713\n",
      "train [2, 2, 2, 2, 2, 2, 2, 2, 2, 2]\n"
     ]
    },
    {
     "data": {
      "application/vnd.jupyter.widget-view+json": {
       "model_id": "1923d2cf99924ea7940ecd274e5570fa",
       "version_major": 2,
       "version_minor": 0
      },
      "text/plain": [
       "  0%|          | 0/45 [00:00<?, ?it/s]"
      ]
     },
     "metadata": {},
     "output_type": "display_data"
    },
    {
     "name": "stdout",
     "output_type": "stream",
     "text": [
      "Validation/Test Epoch 54====> average CTC loss: 3.9182\n",
      "Test Epoch 54====> PER : 38.2778\n",
      "dev [2, 2, 2, 2, 2, 2, 2, 2, 2, 2]\n",
      "\u001b[91mEarlyStopping counter: 54 out of 7\u001b[0m\n",
      "\n"
     ]
    },
    {
     "data": {
      "application/vnd.jupyter.widget-view+json": {
       "model_id": "9641c87c09574f53acbdfe1a9e8410e6",
       "version_major": 2,
       "version_minor": 0
      },
      "text/plain": [
       "  0%|          | 0/63 [00:00<?, ?it/s]"
      ]
     },
     "metadata": {},
     "output_type": "display_data"
    },
    {
     "name": "stdout",
     "output_type": "stream",
     "text": [
      "Train Epoch: 55 ====> Average CTC loss: 3.9250\n",
      "train [2, 2, 2, 2, 2, 2, 2, 2, 2, 2]\n"
     ]
    },
    {
     "data": {
      "application/vnd.jupyter.widget-view+json": {
       "model_id": "2594ca4e0e8d4981aa8b15fec6d7f97c",
       "version_major": 2,
       "version_minor": 0
      },
      "text/plain": [
       "  0%|          | 0/45 [00:00<?, ?it/s]"
      ]
     },
     "metadata": {},
     "output_type": "display_data"
    },
    {
     "name": "stdout",
     "output_type": "stream",
     "text": [
      "Validation/Test Epoch 55====> average CTC loss: 3.9655\n",
      "Test Epoch 55====> PER : 38.2989\n",
      "dev [2, 2, 2, 2, 2, 2, 2, 2, 2, 2]\n",
      "\u001b[91mEarlyStopping counter: 55 out of 7\u001b[0m\n",
      "\n"
     ]
    },
    {
     "data": {
      "application/vnd.jupyter.widget-view+json": {
       "model_id": "e2d125d698134d45ba4985f937129331",
       "version_major": 2,
       "version_minor": 0
      },
      "text/plain": [
       "  0%|          | 0/63 [00:00<?, ?it/s]"
      ]
     },
     "metadata": {},
     "output_type": "display_data"
    },
    {
     "name": "stdout",
     "output_type": "stream",
     "text": [
      "Train Epoch: 56 ====> Average CTC loss: 3.9372\n",
      "train [2, 2, 2, 2, 2, 2, 2, 2, 2, 2]\n"
     ]
    },
    {
     "data": {
      "application/vnd.jupyter.widget-view+json": {
       "model_id": "c6b266957e0b480099388aad06ebbfcc",
       "version_major": 2,
       "version_minor": 0
      },
      "text/plain": [
       "  0%|          | 0/45 [00:00<?, ?it/s]"
      ]
     },
     "metadata": {},
     "output_type": "display_data"
    },
    {
     "name": "stdout",
     "output_type": "stream",
     "text": [
      "Validation/Test Epoch 56====> average CTC loss: 3.9715\n",
      "Test Epoch 56====> PER : 38.3178\n",
      "dev [2, 2, 2, 2, 2, 2, 2, 2, 2, 2]\n",
      "\u001b[91mEarlyStopping counter: 56 out of 7\u001b[0m\n",
      "\n"
     ]
    },
    {
     "data": {
      "application/vnd.jupyter.widget-view+json": {
       "model_id": "2f9b22c9332b447b8e004eb3938b20cf",
       "version_major": 2,
       "version_minor": 0
      },
      "text/plain": [
       "  0%|          | 0/63 [00:00<?, ?it/s]"
      ]
     },
     "metadata": {},
     "output_type": "display_data"
    },
    {
     "name": "stdout",
     "output_type": "stream",
     "text": [
      "Train Epoch: 57 ====> Average CTC loss: 4.0278\n",
      "train [2, 2, 2, 2, 2, 2, 2, 2, 2, 2]\n"
     ]
    },
    {
     "data": {
      "application/vnd.jupyter.widget-view+json": {
       "model_id": "a7f24bf0aaf74997b9df6a82f71eb9b0",
       "version_major": 2,
       "version_minor": 0
      },
      "text/plain": [
       "  0%|          | 0/45 [00:00<?, ?it/s]"
      ]
     },
     "metadata": {},
     "output_type": "display_data"
    },
    {
     "name": "stdout",
     "output_type": "stream",
     "text": [
      "Validation/Test Epoch 57====> average CTC loss: 3.9463\n",
      "Test Epoch 57====> PER : 38.2222\n",
      "dev [2, 2, 2, 2, 2, 2, 2, 2, 2, 2]\n",
      "\u001b[91mEarlyStopping counter: 57 out of 7\u001b[0m\n",
      "\n"
     ]
    },
    {
     "data": {
      "application/vnd.jupyter.widget-view+json": {
       "model_id": "bdf2fc587ded4a6f9bdb57b3655af296",
       "version_major": 2,
       "version_minor": 0
      },
      "text/plain": [
       "  0%|          | 0/63 [00:00<?, ?it/s]"
      ]
     },
     "metadata": {},
     "output_type": "display_data"
    },
    {
     "name": "stdout",
     "output_type": "stream",
     "text": [
      "Train Epoch: 58 ====> Average CTC loss: 3.9745\n",
      "train [2, 2, 2, 2, 2, 2, 2, 2, 2, 2]\n"
     ]
    },
    {
     "data": {
      "application/vnd.jupyter.widget-view+json": {
       "model_id": "82211bb4c9274eb1adb8c0709d6ae136",
       "version_major": 2,
       "version_minor": 0
      },
      "text/plain": [
       "  0%|          | 0/45 [00:00<?, ?it/s]"
      ]
     },
     "metadata": {},
     "output_type": "display_data"
    },
    {
     "name": "stdout",
     "output_type": "stream",
     "text": [
      "Validation/Test Epoch 58====> average CTC loss: 3.9565\n",
      "Test Epoch 58====> PER : 38.2600\n",
      "dev [2, 2, 2, 2, 2, 2, 2, 2, 2, 2]\n",
      "\u001b[91mEarlyStopping counter: 58 out of 7\u001b[0m\n",
      "\n"
     ]
    },
    {
     "data": {
      "application/vnd.jupyter.widget-view+json": {
       "model_id": "dfac4c6ee4744e74bb4195fbafae4c6f",
       "version_major": 2,
       "version_minor": 0
      },
      "text/plain": [
       "  0%|          | 0/63 [00:00<?, ?it/s]"
      ]
     },
     "metadata": {},
     "output_type": "display_data"
    },
    {
     "name": "stdout",
     "output_type": "stream",
     "text": [
      "Train Epoch: 59 ====> Average CTC loss: 3.9758\n",
      "train [2, 2, 2, 2, 2, 2, 2, 2, 2, 2]\n"
     ]
    },
    {
     "data": {
      "application/vnd.jupyter.widget-view+json": {
       "model_id": "015f86733e114186b32caa5c58c2f126",
       "version_major": 2,
       "version_minor": 0
      },
      "text/plain": [
       "  0%|          | 0/45 [00:00<?, ?it/s]"
      ]
     },
     "metadata": {},
     "output_type": "display_data"
    },
    {
     "name": "stdout",
     "output_type": "stream",
     "text": [
      "Validation/Test Epoch 59====> average CTC loss: 3.9589\n",
      "Test Epoch 59====> PER : 38.3022\n",
      "dev [2, 2, 2, 2, 2, 2, 2, 2, 2, 2]\n",
      "\u001b[91mEarlyStopping counter: 59 out of 7\u001b[0m\n",
      "\n"
     ]
    },
    {
     "data": {
      "application/vnd.jupyter.widget-view+json": {
       "model_id": "d1e80bd9a24345558f5ea3057cae5bcf",
       "version_major": 2,
       "version_minor": 0
      },
      "text/plain": [
       "  0%|          | 0/63 [00:00<?, ?it/s]"
      ]
     },
     "metadata": {},
     "output_type": "display_data"
    },
    {
     "name": "stdout",
     "output_type": "stream",
     "text": [
      "Train Epoch: 60 ====> Average CTC loss: 3.9751\n",
      "train [2, 2, 2, 2, 2, 2, 2, 2, 2, 2]\n"
     ]
    },
    {
     "data": {
      "application/vnd.jupyter.widget-view+json": {
       "model_id": "7ef7351c3c3347b8924376e1b2f54cd0",
       "version_major": 2,
       "version_minor": 0
      },
      "text/plain": [
       "  0%|          | 0/45 [00:00<?, ?it/s]"
      ]
     },
     "metadata": {},
     "output_type": "display_data"
    },
    {
     "name": "stdout",
     "output_type": "stream",
     "text": [
      "Validation/Test Epoch 60====> average CTC loss: 4.1847\n",
      "Test Epoch 60====> PER : 38.1633\n",
      "dev [2, 2, 2, 2, 2, 2, 2, 2, 2, 2]\n",
      "\u001b[91mEarlyStopping counter: 60 out of 7\u001b[0m\n",
      "\n"
     ]
    },
    {
     "data": {
      "application/vnd.jupyter.widget-view+json": {
       "model_id": "538026ae04534378b0de0eb8d7faa3c2",
       "version_major": 2,
       "version_minor": 0
      },
      "text/plain": [
       "  0%|          | 0/63 [00:00<?, ?it/s]"
      ]
     },
     "metadata": {},
     "output_type": "display_data"
    },
    {
     "name": "stdout",
     "output_type": "stream",
     "text": [
      "Train Epoch: 61 ====> Average CTC loss: 3.9576\n",
      "train [2, 2, 2, 2, 2, 2, 2, 2, 2, 2]\n"
     ]
    },
    {
     "data": {
      "application/vnd.jupyter.widget-view+json": {
       "model_id": "79bd3225edfc4c0590c0b3e775c8e6f1",
       "version_major": 2,
       "version_minor": 0
      },
      "text/plain": [
       "  0%|          | 0/45 [00:00<?, ?it/s]"
      ]
     },
     "metadata": {},
     "output_type": "display_data"
    },
    {
     "name": "stdout",
     "output_type": "stream",
     "text": [
      "Validation/Test Epoch 61====> average CTC loss: 4.0589\n",
      "Test Epoch 61====> PER : 38.2433\n",
      "dev [2, 2, 2, 2, 2, 2, 2, 2, 2, 2]\n",
      "\u001b[91mEarlyStopping counter: 61 out of 7\u001b[0m\n",
      "\n"
     ]
    },
    {
     "data": {
      "application/vnd.jupyter.widget-view+json": {
       "model_id": "8b82496f058d45dca8f4377f7d0e396a",
       "version_major": 2,
       "version_minor": 0
      },
      "text/plain": [
       "  0%|          | 0/63 [00:00<?, ?it/s]"
      ]
     },
     "metadata": {},
     "output_type": "display_data"
    },
    {
     "name": "stdout",
     "output_type": "stream",
     "text": [
      "Train Epoch: 62 ====> Average CTC loss: 4.0238\n",
      "train [2, 2, 2, 2, 2, 2, 2, 2, 2, 2]\n"
     ]
    },
    {
     "data": {
      "application/vnd.jupyter.widget-view+json": {
       "model_id": "8a2458c68d8e4365ac7d8b0c1dbfee2e",
       "version_major": 2,
       "version_minor": 0
      },
      "text/plain": [
       "  0%|          | 0/45 [00:00<?, ?it/s]"
      ]
     },
     "metadata": {},
     "output_type": "display_data"
    },
    {
     "name": "stdout",
     "output_type": "stream",
     "text": [
      "Validation/Test Epoch 62====> average CTC loss: 3.9418\n",
      "Test Epoch 62====> PER : 38.2567\n",
      "dev [2, 2, 2, 2, 2, 2, 2, 2, 2, 2]\n",
      "\u001b[91mEarlyStopping counter: 62 out of 7\u001b[0m\n",
      "\n"
     ]
    },
    {
     "data": {
      "application/vnd.jupyter.widget-view+json": {
       "model_id": "dbe569e3fc6e4f43835b6ce22a9d5dbf",
       "version_major": 2,
       "version_minor": 0
      },
      "text/plain": [
       "  0%|          | 0/63 [00:00<?, ?it/s]"
      ]
     },
     "metadata": {},
     "output_type": "display_data"
    },
    {
     "name": "stdout",
     "output_type": "stream",
     "text": [
      "Train Epoch: 63 ====> Average CTC loss: 3.9852\n",
      "train [2, 2, 2, 2, 2, 2, 2, 2, 2, 2]\n"
     ]
    },
    {
     "data": {
      "application/vnd.jupyter.widget-view+json": {
       "model_id": "12157553623d4a0c9788deb0070a7076",
       "version_major": 2,
       "version_minor": 0
      },
      "text/plain": [
       "  0%|          | 0/45 [00:00<?, ?it/s]"
      ]
     },
     "metadata": {},
     "output_type": "display_data"
    },
    {
     "name": "stdout",
     "output_type": "stream",
     "text": [
      "Validation/Test Epoch 63====> average CTC loss: 3.9681\n",
      "Test Epoch 63====> PER : 38.1911\n",
      "dev [2, 2, 2, 2, 2, 2, 2, 2, 2, 2]\n",
      "\u001b[91mEarlyStopping counter: 63 out of 7\u001b[0m\n",
      "\n"
     ]
    },
    {
     "data": {
      "application/vnd.jupyter.widget-view+json": {
       "model_id": "431402ccdda647a7ac65bfb673cc6dd5",
       "version_major": 2,
       "version_minor": 0
      },
      "text/plain": [
       "  0%|          | 0/63 [00:00<?, ?it/s]"
      ]
     },
     "metadata": {},
     "output_type": "display_data"
    },
    {
     "name": "stdout",
     "output_type": "stream",
     "text": [
      "Train Epoch: 64 ====> Average CTC loss: 3.9417\n",
      "train [2, 2, 2, 2, 2, 2, 2, 2, 2, 2]\n"
     ]
    },
    {
     "data": {
      "application/vnd.jupyter.widget-view+json": {
       "model_id": "33ae7f599b314d8c85603832bdec5cd4",
       "version_major": 2,
       "version_minor": 0
      },
      "text/plain": [
       "  0%|          | 0/45 [00:00<?, ?it/s]"
      ]
     },
     "metadata": {},
     "output_type": "display_data"
    },
    {
     "name": "stdout",
     "output_type": "stream",
     "text": [
      "Validation/Test Epoch 64====> average CTC loss: 3.9507\n",
      "Test Epoch 64====> PER : 38.2089\n",
      "dev [2, 2, 2, 2, 2, 2, 2, 2, 2, 2]\n",
      "\u001b[91mEarlyStopping counter: 64 out of 7\u001b[0m\n",
      "\n"
     ]
    },
    {
     "data": {
      "application/vnd.jupyter.widget-view+json": {
       "model_id": "7f8cbcba624346998ed148f8a6ac2182",
       "version_major": 2,
       "version_minor": 0
      },
      "text/plain": [
       "  0%|          | 0/63 [00:00<?, ?it/s]"
      ]
     },
     "metadata": {},
     "output_type": "display_data"
    },
    {
     "name": "stdout",
     "output_type": "stream",
     "text": [
      "Train Epoch: 65 ====> Average CTC loss: 3.9496\n",
      "train [2, 2, 2, 2, 2, 2, 2, 2, 2, 2]\n"
     ]
    },
    {
     "data": {
      "application/vnd.jupyter.widget-view+json": {
       "model_id": "dd7b68803d3847dc9188c1abd94d9b74",
       "version_major": 2,
       "version_minor": 0
      },
      "text/plain": [
       "  0%|          | 0/45 [00:00<?, ?it/s]"
      ]
     },
     "metadata": {},
     "output_type": "display_data"
    },
    {
     "name": "stdout",
     "output_type": "stream",
     "text": [
      "Validation/Test Epoch 65====> average CTC loss: 4.2477\n",
      "Test Epoch 65====> PER : 38.1544\n",
      "dev [2, 2, 2, 2, 2, 2, 2, 2, 2, 2]\n",
      "\u001b[91mEarlyStopping counter: 65 out of 7\u001b[0m\n",
      "\n"
     ]
    },
    {
     "data": {
      "application/vnd.jupyter.widget-view+json": {
       "model_id": "a2faa4f894784d74a15ade33215ef22c",
       "version_major": 2,
       "version_minor": 0
      },
      "text/plain": [
       "  0%|          | 0/63 [00:00<?, ?it/s]"
      ]
     },
     "metadata": {},
     "output_type": "display_data"
    },
    {
     "name": "stdout",
     "output_type": "stream",
     "text": [
      "Train Epoch: 66 ====> Average CTC loss: 3.9834\n",
      "train [2, 2, 2, 2, 2, 2, 2, 2, 2, 2]\n"
     ]
    },
    {
     "data": {
      "application/vnd.jupyter.widget-view+json": {
       "model_id": "1c9fa629acb84cedb7893b8b0dfac34e",
       "version_major": 2,
       "version_minor": 0
      },
      "text/plain": [
       "  0%|          | 0/45 [00:00<?, ?it/s]"
      ]
     },
     "metadata": {},
     "output_type": "display_data"
    },
    {
     "name": "stdout",
     "output_type": "stream",
     "text": [
      "Validation/Test Epoch 66====> average CTC loss: 3.9223\n",
      "Test Epoch 66====> PER : 38.2100\n",
      "dev [2, 2, 2, 2, 2, 2, 2, 2, 2, 2]\n",
      "\u001b[91mEarlyStopping counter: 66 out of 7\u001b[0m\n",
      "\n"
     ]
    },
    {
     "data": {
      "application/vnd.jupyter.widget-view+json": {
       "model_id": "a6a10e718901466e90a56b1d8b11608f",
       "version_major": 2,
       "version_minor": 0
      },
      "text/plain": [
       "  0%|          | 0/63 [00:00<?, ?it/s]"
      ]
     },
     "metadata": {},
     "output_type": "display_data"
    },
    {
     "name": "stdout",
     "output_type": "stream",
     "text": [
      "Train Epoch: 67 ====> Average CTC loss: 3.9497\n",
      "train [2, 2, 2, 2, 2, 2, 2, 2, 2, 2]\n"
     ]
    },
    {
     "data": {
      "application/vnd.jupyter.widget-view+json": {
       "model_id": "e4a8020a23474095b431c3c8d9d1fadf",
       "version_major": 2,
       "version_minor": 0
      },
      "text/plain": [
       "  0%|          | 0/45 [00:00<?, ?it/s]"
      ]
     },
     "metadata": {},
     "output_type": "display_data"
    },
    {
     "name": "stdout",
     "output_type": "stream",
     "text": [
      "Validation/Test Epoch 67====> average CTC loss: 3.9594\n",
      "Test Epoch 67====> PER : 38.1689\n",
      "dev [2, 2, 2, 2, 2, 2, 2, 2, 2, 2]\n",
      "\u001b[91mEarlyStopping counter: 67 out of 7\u001b[0m\n",
      "\n"
     ]
    },
    {
     "data": {
      "application/vnd.jupyter.widget-view+json": {
       "model_id": "83885c40f34444faa248a70dc516be6d",
       "version_major": 2,
       "version_minor": 0
      },
      "text/plain": [
       "  0%|          | 0/63 [00:00<?, ?it/s]"
      ]
     },
     "metadata": {},
     "output_type": "display_data"
    },
    {
     "name": "stdout",
     "output_type": "stream",
     "text": [
      "Train Epoch: 68 ====> Average CTC loss: 3.9206\n",
      "train [2, 2, 2, 2, 2, 2, 2, 2, 2, 2]\n"
     ]
    },
    {
     "data": {
      "application/vnd.jupyter.widget-view+json": {
       "model_id": "9209379036eb4505bd7cd640eea0d5b7",
       "version_major": 2,
       "version_minor": 0
      },
      "text/plain": [
       "  0%|          | 0/45 [00:00<?, ?it/s]"
      ]
     },
     "metadata": {},
     "output_type": "display_data"
    },
    {
     "name": "stdout",
     "output_type": "stream",
     "text": [
      "Validation/Test Epoch 68====> average CTC loss: 3.9760\n",
      "Test Epoch 68====> PER : 38.1922\n",
      "dev [2, 2, 2, 2, 2, 2, 2, 2, 2, 2]\n",
      "\u001b[91mEarlyStopping counter: 68 out of 7\u001b[0m\n",
      "\n"
     ]
    },
    {
     "data": {
      "application/vnd.jupyter.widget-view+json": {
       "model_id": "1398a9b0496a4d789b514e56dbe6aa18",
       "version_major": 2,
       "version_minor": 0
      },
      "text/plain": [
       "  0%|          | 0/63 [00:00<?, ?it/s]"
      ]
     },
     "metadata": {},
     "output_type": "display_data"
    },
    {
     "name": "stdout",
     "output_type": "stream",
     "text": [
      "Train Epoch: 69 ====> Average CTC loss: 3.9640\n",
      "train [2, 2, 2, 2, 2, 2, 2, 2, 2, 2]\n"
     ]
    },
    {
     "data": {
      "application/vnd.jupyter.widget-view+json": {
       "model_id": "7a7550d6946c40599d2e869bae439828",
       "version_major": 2,
       "version_minor": 0
      },
      "text/plain": [
       "  0%|          | 0/45 [00:00<?, ?it/s]"
      ]
     },
     "metadata": {},
     "output_type": "display_data"
    },
    {
     "name": "stdout",
     "output_type": "stream",
     "text": [
      "Validation/Test Epoch 69====> average CTC loss: 3.9310\n",
      "Test Epoch 69====> PER : 38.1822\n",
      "dev [2, 2, 2, 2, 2, 2, 2, 2, 2, 2]\n",
      "\u001b[91mEarlyStopping counter: 69 out of 7\u001b[0m\n",
      "\n"
     ]
    },
    {
     "data": {
      "application/vnd.jupyter.widget-view+json": {
       "model_id": "ae625d8ee99a4bfca30c9625e140fcd6",
       "version_major": 2,
       "version_minor": 0
      },
      "text/plain": [
       "  0%|          | 0/63 [00:00<?, ?it/s]"
      ]
     },
     "metadata": {},
     "output_type": "display_data"
    },
    {
     "name": "stdout",
     "output_type": "stream",
     "text": [
      "Train Epoch: 70 ====> Average CTC loss: 3.9542\n",
      "train [2, 2, 2, 2, 2, 2, 2, 2, 2, 2]\n"
     ]
    },
    {
     "data": {
      "application/vnd.jupyter.widget-view+json": {
       "model_id": "4eb25c27fdd34a499c72809cd35b510f",
       "version_major": 2,
       "version_minor": 0
      },
      "text/plain": [
       "  0%|          | 0/45 [00:00<?, ?it/s]"
      ]
     },
     "metadata": {},
     "output_type": "display_data"
    },
    {
     "name": "stdout",
     "output_type": "stream",
     "text": [
      "Validation/Test Epoch 70====> average CTC loss: 3.9160\n",
      "Test Epoch 70====> PER : 38.2344\n",
      "dev [2, 2, 2, 2, 2, 2, 2, 2, 2, 2]\n",
      "\u001b[91mEarlyStopping counter: 70 out of 7\u001b[0m\n",
      "\n"
     ]
    },
    {
     "data": {
      "application/vnd.jupyter.widget-view+json": {
       "model_id": "dfaf1168048a4aca81d1b6df21b8f0b0",
       "version_major": 2,
       "version_minor": 0
      },
      "text/plain": [
       "  0%|          | 0/63 [00:00<?, ?it/s]"
      ]
     },
     "metadata": {},
     "output_type": "display_data"
    },
    {
     "name": "stdout",
     "output_type": "stream",
     "text": [
      "Train Epoch: 71 ====> Average CTC loss: 3.9728\n",
      "train [2, 2, 2, 2, 2, 2, 2, 2, 2, 2]\n"
     ]
    },
    {
     "data": {
      "application/vnd.jupyter.widget-view+json": {
       "model_id": "925f4490585c4fd2af2b1e6ef7e66923",
       "version_major": 2,
       "version_minor": 0
      },
      "text/plain": [
       "  0%|          | 0/45 [00:00<?, ?it/s]"
      ]
     },
     "metadata": {},
     "output_type": "display_data"
    },
    {
     "name": "stdout",
     "output_type": "stream",
     "text": [
      "Validation/Test Epoch 71====> average CTC loss: 3.9329\n",
      "Test Epoch 71====> PER : 38.1778\n",
      "dev [2, 2, 2, 2, 2, 2, 2, 2, 2, 2]\n",
      "\u001b[91mEarlyStopping counter: 71 out of 7\u001b[0m\n",
      "\n"
     ]
    },
    {
     "data": {
      "application/vnd.jupyter.widget-view+json": {
       "model_id": "9bb9c0aad5394054ae680b601f7b6e7d",
       "version_major": 2,
       "version_minor": 0
      },
      "text/plain": [
       "  0%|          | 0/63 [00:00<?, ?it/s]"
      ]
     },
     "metadata": {},
     "output_type": "display_data"
    },
    {
     "name": "stdout",
     "output_type": "stream",
     "text": [
      "Train Epoch: 72 ====> Average CTC loss: 3.9449\n",
      "train [2, 2, 2, 2, 2, 2, 2, 2, 2, 2]\n"
     ]
    },
    {
     "data": {
      "application/vnd.jupyter.widget-view+json": {
       "model_id": "d78b1289b9b4429497b0ca9605e8a0cb",
       "version_major": 2,
       "version_minor": 0
      },
      "text/plain": [
       "  0%|          | 0/45 [00:00<?, ?it/s]"
      ]
     },
     "metadata": {},
     "output_type": "display_data"
    },
    {
     "name": "stdout",
     "output_type": "stream",
     "text": [
      "Validation/Test Epoch 72====> average CTC loss: 3.9315\n",
      "Test Epoch 72====> PER : 38.1544\n",
      "dev [2, 2, 2, 2, 2, 2, 2, 2, 2, 2]\n",
      "\u001b[91mEarlyStopping counter: 72 out of 7\u001b[0m\n",
      "\n"
     ]
    },
    {
     "data": {
      "application/vnd.jupyter.widget-view+json": {
       "model_id": "ada9934e4de946fe963af4a568dafb4c",
       "version_major": 2,
       "version_minor": 0
      },
      "text/plain": [
       "  0%|          | 0/63 [00:00<?, ?it/s]"
      ]
     },
     "metadata": {},
     "output_type": "display_data"
    },
    {
     "name": "stdout",
     "output_type": "stream",
     "text": [
      "Train Epoch: 73 ====> Average CTC loss: 3.9423\n",
      "train [2, 2, 2, 2, 2, 2, 2, 2, 2, 2]\n"
     ]
    },
    {
     "data": {
      "application/vnd.jupyter.widget-view+json": {
       "model_id": "1c4c7d3185df40028051a0586761d504",
       "version_major": 2,
       "version_minor": 0
      },
      "text/plain": [
       "  0%|          | 0/45 [00:00<?, ?it/s]"
      ]
     },
     "metadata": {},
     "output_type": "display_data"
    },
    {
     "name": "stdout",
     "output_type": "stream",
     "text": [
      "Validation/Test Epoch 73====> average CTC loss: 3.9923\n",
      "Test Epoch 73====> PER : 38.3000\n",
      "dev [2, 2, 2, 2, 2, 2, 2, 2, 2, 2]\n",
      "\u001b[91mEarlyStopping counter: 73 out of 7\u001b[0m\n",
      "\n"
     ]
    },
    {
     "data": {
      "application/vnd.jupyter.widget-view+json": {
       "model_id": "52263832339a478abfee1884badba5b9",
       "version_major": 2,
       "version_minor": 0
      },
      "text/plain": [
       "  0%|          | 0/63 [00:00<?, ?it/s]"
      ]
     },
     "metadata": {},
     "output_type": "display_data"
    },
    {
     "name": "stdout",
     "output_type": "stream",
     "text": [
      "Train Epoch: 74 ====> Average CTC loss: 3.9927\n",
      "train [2, 2, 2, 2, 2, 2, 2, 2, 2, 2]\n"
     ]
    },
    {
     "data": {
      "application/vnd.jupyter.widget-view+json": {
       "model_id": "171d3ed7f397452b99d865f962c8b712",
       "version_major": 2,
       "version_minor": 0
      },
      "text/plain": [
       "  0%|          | 0/45 [00:00<?, ?it/s]"
      ]
     },
     "metadata": {},
     "output_type": "display_data"
    },
    {
     "name": "stdout",
     "output_type": "stream",
     "text": [
      "Validation/Test Epoch 74====> average CTC loss: 4.0808\n",
      "Test Epoch 74====> PER : 38.1700\n",
      "dev [2, 2, 2, 2, 2, 2, 2, 2, 2, 2]\n",
      "\u001b[91mEarlyStopping counter: 74 out of 7\u001b[0m\n",
      "\n"
     ]
    },
    {
     "data": {
      "application/vnd.jupyter.widget-view+json": {
       "model_id": "0687986e43f3465bbfe923b029038f52",
       "version_major": 2,
       "version_minor": 0
      },
      "text/plain": [
       "  0%|          | 0/63 [00:00<?, ?it/s]"
      ]
     },
     "metadata": {},
     "output_type": "display_data"
    },
    {
     "name": "stdout",
     "output_type": "stream",
     "text": [
      "Train Epoch: 75 ====> Average CTC loss: 4.0218\n",
      "train [2, 2, 2, 2, 2, 2, 2, 2, 2, 2]\n"
     ]
    },
    {
     "data": {
      "application/vnd.jupyter.widget-view+json": {
       "model_id": "2b669993ca7e41788aa63777f7495721",
       "version_major": 2,
       "version_minor": 0
      },
      "text/plain": [
       "  0%|          | 0/45 [00:00<?, ?it/s]"
      ]
     },
     "metadata": {},
     "output_type": "display_data"
    },
    {
     "name": "stdout",
     "output_type": "stream",
     "text": [
      "Validation/Test Epoch 75====> average CTC loss: 4.0916\n",
      "Test Epoch 75====> PER : 38.4244\n",
      "dev [2, 2, 2, 2, 2, 2, 2, 2, 2, 2]\n",
      "\u001b[91mEarlyStopping counter: 75 out of 7\u001b[0m\n",
      "\n"
     ]
    },
    {
     "data": {
      "application/vnd.jupyter.widget-view+json": {
       "model_id": "bd7495a50a6e4b1d903adf3f531fe4d2",
       "version_major": 2,
       "version_minor": 0
      },
      "text/plain": [
       "  0%|          | 0/63 [00:00<?, ?it/s]"
      ]
     },
     "metadata": {},
     "output_type": "display_data"
    },
    {
     "name": "stdout",
     "output_type": "stream",
     "text": [
      "Train Epoch: 76 ====> Average CTC loss: 3.9632\n",
      "train [2, 2, 2, 2, 2, 2, 2, 2, 2, 2]\n"
     ]
    },
    {
     "data": {
      "application/vnd.jupyter.widget-view+json": {
       "model_id": "5893e046855a4d83bd19e6a9de83fd97",
       "version_major": 2,
       "version_minor": 0
      },
      "text/plain": [
       "  0%|          | 0/45 [00:00<?, ?it/s]"
      ]
     },
     "metadata": {},
     "output_type": "display_data"
    },
    {
     "name": "stdout",
     "output_type": "stream",
     "text": [
      "Validation/Test Epoch 76====> average CTC loss: 3.9307\n",
      "Test Epoch 76====> PER : 38.1578\n",
      "dev [2, 2, 2, 2, 2, 2, 2, 2, 2, 2]\n",
      "\u001b[91mEarlyStopping counter: 76 out of 7\u001b[0m\n",
      "\n"
     ]
    },
    {
     "data": {
      "application/vnd.jupyter.widget-view+json": {
       "model_id": "f1d84cca63684b1f923ccf58eb68be8e",
       "version_major": 2,
       "version_minor": 0
      },
      "text/plain": [
       "  0%|          | 0/63 [00:00<?, ?it/s]"
      ]
     },
     "metadata": {},
     "output_type": "display_data"
    },
    {
     "name": "stdout",
     "output_type": "stream",
     "text": [
      "Train Epoch: 77 ====> Average CTC loss: 3.9773\n",
      "train [2, 2, 2, 2, 2, 2, 2, 2, 2, 2]\n"
     ]
    },
    {
     "data": {
      "application/vnd.jupyter.widget-view+json": {
       "model_id": "f73cd7cbe1494d2eb54fdf9bc1b4fb6a",
       "version_major": 2,
       "version_minor": 0
      },
      "text/plain": [
       "  0%|          | 0/45 [00:00<?, ?it/s]"
      ]
     },
     "metadata": {},
     "output_type": "display_data"
    },
    {
     "name": "stdout",
     "output_type": "stream",
     "text": [
      "Validation/Test Epoch 77====> average CTC loss: 3.9795\n",
      "Test Epoch 77====> PER : 38.2344\n",
      "dev [2, 2, 2, 2, 2, 2, 2, 2, 2, 2]\n",
      "\u001b[91mEarlyStopping counter: 77 out of 7\u001b[0m\n",
      "\n"
     ]
    },
    {
     "data": {
      "application/vnd.jupyter.widget-view+json": {
       "model_id": "1ec24e39cc174599ae0c4ba6593256ca",
       "version_major": 2,
       "version_minor": 0
      },
      "text/plain": [
       "  0%|          | 0/63 [00:00<?, ?it/s]"
      ]
     },
     "metadata": {},
     "output_type": "display_data"
    },
    {
     "name": "stdout",
     "output_type": "stream",
     "text": [
      "Train Epoch: 78 ====> Average CTC loss: 3.9625\n",
      "train [2, 2, 2, 2, 2, 2, 2, 2, 2, 2]\n"
     ]
    },
    {
     "data": {
      "application/vnd.jupyter.widget-view+json": {
       "model_id": "f3541b0857724327bf19f5da8b29df2a",
       "version_major": 2,
       "version_minor": 0
      },
      "text/plain": [
       "  0%|          | 0/45 [00:00<?, ?it/s]"
      ]
     },
     "metadata": {},
     "output_type": "display_data"
    },
    {
     "name": "stdout",
     "output_type": "stream",
     "text": [
      "Validation/Test Epoch 78====> average CTC loss: 3.9406\n",
      "Test Epoch 78====> PER : 38.2211\n",
      "dev [2, 2, 2, 2, 2, 2, 2, 2, 2, 2]\n",
      "\u001b[91mEarlyStopping counter: 78 out of 7\u001b[0m\n",
      "\n"
     ]
    },
    {
     "data": {
      "application/vnd.jupyter.widget-view+json": {
       "model_id": "257536b11bce4f6c8c9a448747bd480f",
       "version_major": 2,
       "version_minor": 0
      },
      "text/plain": [
       "  0%|          | 0/63 [00:00<?, ?it/s]"
      ]
     },
     "metadata": {},
     "output_type": "display_data"
    },
    {
     "name": "stdout",
     "output_type": "stream",
     "text": [
      "Train Epoch: 79 ====> Average CTC loss: 3.9408\n",
      "train [2, 2, 2, 2, 2, 2, 2, 2, 2, 2]\n"
     ]
    },
    {
     "data": {
      "application/vnd.jupyter.widget-view+json": {
       "model_id": "bb94746899ca4424a39ba5a80f8b5a75",
       "version_major": 2,
       "version_minor": 0
      },
      "text/plain": [
       "  0%|          | 0/45 [00:00<?, ?it/s]"
      ]
     },
     "metadata": {},
     "output_type": "display_data"
    },
    {
     "name": "stdout",
     "output_type": "stream",
     "text": [
      "Validation/Test Epoch 79====> average CTC loss: 3.9577\n",
      "Test Epoch 79====> PER : 38.2089\n",
      "dev [2, 2, 2, 2, 2, 2, 2, 2, 2, 2]\n",
      "\u001b[91mEarlyStopping counter: 79 out of 7\u001b[0m\n",
      "\n"
     ]
    },
    {
     "data": {
      "application/vnd.jupyter.widget-view+json": {
       "model_id": "398fecbd017a4aa8bd1e100f58ef4501",
       "version_major": 2,
       "version_minor": 0
      },
      "text/plain": [
       "  0%|          | 0/63 [00:00<?, ?it/s]"
      ]
     },
     "metadata": {},
     "output_type": "display_data"
    },
    {
     "name": "stdout",
     "output_type": "stream",
     "text": [
      "Train Epoch: 80 ====> Average CTC loss: 3.9603\n",
      "train [2, 2, 2, 2, 2, 2, 2, 2, 2, 2]\n"
     ]
    },
    {
     "data": {
      "application/vnd.jupyter.widget-view+json": {
       "model_id": "bd5f0974e595490c874be96a43e02a37",
       "version_major": 2,
       "version_minor": 0
      },
      "text/plain": [
       "  0%|          | 0/45 [00:00<?, ?it/s]"
      ]
     },
     "metadata": {},
     "output_type": "display_data"
    },
    {
     "name": "stdout",
     "output_type": "stream",
     "text": [
      "Validation/Test Epoch 80====> average CTC loss: 3.9577\n",
      "Test Epoch 80====> PER : 38.1856\n",
      "dev [2, 2, 2, 2, 2, 2, 2, 2, 2, 2]\n",
      "\u001b[91mEarlyStopping counter: 80 out of 7\u001b[0m\n",
      "\n"
     ]
    },
    {
     "data": {
      "application/vnd.jupyter.widget-view+json": {
       "model_id": "6fd5db41016a455992f0404e0bb1a3dc",
       "version_major": 2,
       "version_minor": 0
      },
      "text/plain": [
       "  0%|          | 0/63 [00:00<?, ?it/s]"
      ]
     },
     "metadata": {},
     "output_type": "display_data"
    },
    {
     "name": "stdout",
     "output_type": "stream",
     "text": [
      "Train Epoch: 81 ====> Average CTC loss: 3.9412\n",
      "train [2, 2, 2, 2, 2, 2, 2, 2, 2, 2]\n"
     ]
    },
    {
     "data": {
      "application/vnd.jupyter.widget-view+json": {
       "model_id": "8c8cd753773348f28c7779a98da9b2ae",
       "version_major": 2,
       "version_minor": 0
      },
      "text/plain": [
       "  0%|          | 0/45 [00:00<?, ?it/s]"
      ]
     },
     "metadata": {},
     "output_type": "display_data"
    },
    {
     "name": "stdout",
     "output_type": "stream",
     "text": [
      "Validation/Test Epoch 81====> average CTC loss: 3.9843\n",
      "Test Epoch 81====> PER : 38.2533\n",
      "dev [2, 2, 2, 2, 2, 2, 2, 2, 2, 2]\n",
      "\u001b[91mEarlyStopping counter: 81 out of 7\u001b[0m\n",
      "\n"
     ]
    },
    {
     "data": {
      "application/vnd.jupyter.widget-view+json": {
       "model_id": "1433649f2b354329b83a01282f13f4dc",
       "version_major": 2,
       "version_minor": 0
      },
      "text/plain": [
       "  0%|          | 0/63 [00:00<?, ?it/s]"
      ]
     },
     "metadata": {},
     "output_type": "display_data"
    },
    {
     "name": "stdout",
     "output_type": "stream",
     "text": [
      "Train Epoch: 82 ====> Average CTC loss: 3.9775\n",
      "train [2, 2, 2, 2, 2, 2, 2, 2, 2, 2]\n"
     ]
    },
    {
     "data": {
      "application/vnd.jupyter.widget-view+json": {
       "model_id": "74de050ebb504e4190e7ec6cd2467e42",
       "version_major": 2,
       "version_minor": 0
      },
      "text/plain": [
       "  0%|          | 0/45 [00:00<?, ?it/s]"
      ]
     },
     "metadata": {},
     "output_type": "display_data"
    },
    {
     "name": "stdout",
     "output_type": "stream",
     "text": [
      "Validation/Test Epoch 82====> average CTC loss: 3.9421\n",
      "Test Epoch 82====> PER : 38.2633\n",
      "dev [2, 2, 2, 2, 2, 2, 2, 2, 2, 2]\n",
      "\u001b[91mEarlyStopping counter: 82 out of 7\u001b[0m\n",
      "\n"
     ]
    },
    {
     "data": {
      "application/vnd.jupyter.widget-view+json": {
       "model_id": "136d7b59bcf94986b2acddfeb45fa022",
       "version_major": 2,
       "version_minor": 0
      },
      "text/plain": [
       "  0%|          | 0/63 [00:00<?, ?it/s]"
      ]
     },
     "metadata": {},
     "output_type": "display_data"
    },
    {
     "name": "stdout",
     "output_type": "stream",
     "text": [
      "Train Epoch: 83 ====> Average CTC loss: 3.9786\n",
      "train [2, 2, 2, 2, 2, 2, 2, 2, 2, 2]\n"
     ]
    },
    {
     "data": {
      "application/vnd.jupyter.widget-view+json": {
       "model_id": "b4133072f2424ec0a4b0fe9251cc53ad",
       "version_major": 2,
       "version_minor": 0
      },
      "text/plain": [
       "  0%|          | 0/45 [00:00<?, ?it/s]"
      ]
     },
     "metadata": {},
     "output_type": "display_data"
    },
    {
     "name": "stdout",
     "output_type": "stream",
     "text": [
      "Validation/Test Epoch 83====> average CTC loss: 3.9415\n",
      "Test Epoch 83====> PER : 38.1367\n",
      "dev [2, 2, 2, 2, 2, 2, 2, 2, 2, 2]\n",
      "\u001b[91mEarlyStopping counter: 83 out of 7\u001b[0m\n",
      "\n"
     ]
    },
    {
     "data": {
      "application/vnd.jupyter.widget-view+json": {
       "model_id": "e5cee06a76224985b30cbc2128243ca1",
       "version_major": 2,
       "version_minor": 0
      },
      "text/plain": [
       "  0%|          | 0/63 [00:00<?, ?it/s]"
      ]
     },
     "metadata": {},
     "output_type": "display_data"
    },
    {
     "name": "stdout",
     "output_type": "stream",
     "text": [
      "Train Epoch: 84 ====> Average CTC loss: 3.9534\n",
      "train [2, 2, 2, 2, 2, 2, 2, 2, 2, 2]\n"
     ]
    },
    {
     "data": {
      "application/vnd.jupyter.widget-view+json": {
       "model_id": "067841048d6948d79dd9a7edf105868b",
       "version_major": 2,
       "version_minor": 0
      },
      "text/plain": [
       "  0%|          | 0/45 [00:00<?, ?it/s]"
      ]
     },
     "metadata": {},
     "output_type": "display_data"
    },
    {
     "name": "stdout",
     "output_type": "stream",
     "text": [
      "Validation/Test Epoch 84====> average CTC loss: 3.9202\n",
      "Test Epoch 84====> PER : 38.1767\n",
      "dev [2, 2, 2, 2, 2, 2, 2, 2, 2, 2]\n",
      "\u001b[91mEarlyStopping counter: 84 out of 7\u001b[0m\n",
      "\n"
     ]
    },
    {
     "data": {
      "application/vnd.jupyter.widget-view+json": {
       "model_id": "91fc2d4a79444702841b9005557d341d",
       "version_major": 2,
       "version_minor": 0
      },
      "text/plain": [
       "  0%|          | 0/63 [00:00<?, ?it/s]"
      ]
     },
     "metadata": {},
     "output_type": "display_data"
    },
    {
     "name": "stdout",
     "output_type": "stream",
     "text": [
      "Train Epoch: 85 ====> Average CTC loss: 3.9643\n",
      "train [2, 2, 2, 2, 2, 2, 2, 2, 2, 2]\n"
     ]
    },
    {
     "data": {
      "application/vnd.jupyter.widget-view+json": {
       "model_id": "57fda4e19dec4c65b1e2dac30766c270",
       "version_major": 2,
       "version_minor": 0
      },
      "text/plain": [
       "  0%|          | 0/45 [00:00<?, ?it/s]"
      ]
     },
     "metadata": {},
     "output_type": "display_data"
    },
    {
     "name": "stdout",
     "output_type": "stream",
     "text": [
      "Validation/Test Epoch 85====> average CTC loss: 4.0621\n",
      "Test Epoch 85====> PER : 38.1700\n",
      "dev [2, 2, 2, 2, 2, 2, 2, 2, 2, 2]\n",
      "\u001b[91mEarlyStopping counter: 85 out of 7\u001b[0m\n",
      "\n"
     ]
    },
    {
     "data": {
      "application/vnd.jupyter.widget-view+json": {
       "model_id": "493317b49d9c48d4b35dcbd37bcabc50",
       "version_major": 2,
       "version_minor": 0
      },
      "text/plain": [
       "  0%|          | 0/63 [00:00<?, ?it/s]"
      ]
     },
     "metadata": {},
     "output_type": "display_data"
    },
    {
     "name": "stdout",
     "output_type": "stream",
     "text": [
      "Train Epoch: 86 ====> Average CTC loss: 3.9592\n",
      "train [2, 2, 2, 2, 2, 2, 2, 2, 2, 2]\n"
     ]
    },
    {
     "data": {
      "application/vnd.jupyter.widget-view+json": {
       "model_id": "3721b4991a624efca6c13b4297bd8dd7",
       "version_major": 2,
       "version_minor": 0
      },
      "text/plain": [
       "  0%|          | 0/45 [00:00<?, ?it/s]"
      ]
     },
     "metadata": {},
     "output_type": "display_data"
    },
    {
     "name": "stdout",
     "output_type": "stream",
     "text": [
      "Validation/Test Epoch 86====> average CTC loss: 3.9339\n",
      "Test Epoch 86====> PER : 38.2511\n",
      "dev [2, 2, 2, 2, 2, 2, 2, 2, 2, 2]\n",
      "\u001b[91mEarlyStopping counter: 86 out of 7\u001b[0m\n",
      "\n"
     ]
    },
    {
     "data": {
      "application/vnd.jupyter.widget-view+json": {
       "model_id": "1481bd9c82624ccb81a1d490e40028f1",
       "version_major": 2,
       "version_minor": 0
      },
      "text/plain": [
       "  0%|          | 0/63 [00:00<?, ?it/s]"
      ]
     },
     "metadata": {},
     "output_type": "display_data"
    },
    {
     "name": "stdout",
     "output_type": "stream",
     "text": [
      "Train Epoch: 87 ====> Average CTC loss: 3.9310\n",
      "train [2, 2, 2, 2, 2, 2, 2, 2, 2, 2]\n"
     ]
    },
    {
     "data": {
      "application/vnd.jupyter.widget-view+json": {
       "model_id": "cbe8eab07a3b4669af252e8efb1ceaf9",
       "version_major": 2,
       "version_minor": 0
      },
      "text/plain": [
       "  0%|          | 0/45 [00:00<?, ?it/s]"
      ]
     },
     "metadata": {},
     "output_type": "display_data"
    },
    {
     "name": "stdout",
     "output_type": "stream",
     "text": [
      "Validation/Test Epoch 87====> average CTC loss: 3.9244\n",
      "Test Epoch 87====> PER : 38.1522\n",
      "dev [2, 2, 2, 2, 2, 2, 2, 2, 2, 2]\n",
      "\u001b[91mEarlyStopping counter: 87 out of 7\u001b[0m\n",
      "\n"
     ]
    },
    {
     "data": {
      "application/vnd.jupyter.widget-view+json": {
       "model_id": "a8eb3540868d41aabc3d4f51fabde47b",
       "version_major": 2,
       "version_minor": 0
      },
      "text/plain": [
       "  0%|          | 0/63 [00:00<?, ?it/s]"
      ]
     },
     "metadata": {},
     "output_type": "display_data"
    },
    {
     "name": "stdout",
     "output_type": "stream",
     "text": [
      "Train Epoch: 88 ====> Average CTC loss: 3.9476\n",
      "train [2, 2, 2, 2, 2, 2, 2, 2, 2, 2]\n"
     ]
    },
    {
     "data": {
      "application/vnd.jupyter.widget-view+json": {
       "model_id": "d3d0e4d16434405a9c81ac0096f23383",
       "version_major": 2,
       "version_minor": 0
      },
      "text/plain": [
       "  0%|          | 0/45 [00:00<?, ?it/s]"
      ]
     },
     "metadata": {},
     "output_type": "display_data"
    },
    {
     "name": "stdout",
     "output_type": "stream",
     "text": [
      "Validation/Test Epoch 88====> average CTC loss: 4.0764\n",
      "Test Epoch 88====> PER : 38.2067\n",
      "dev [2, 2, 2, 2, 2, 2, 2, 2, 2, 2]\n",
      "\u001b[91mEarlyStopping counter: 88 out of 7\u001b[0m\n",
      "\n"
     ]
    },
    {
     "data": {
      "application/vnd.jupyter.widget-view+json": {
       "model_id": "fe3ff5ec712943d3a7b382ff39b2233e",
       "version_major": 2,
       "version_minor": 0
      },
      "text/plain": [
       "  0%|          | 0/63 [00:00<?, ?it/s]"
      ]
     },
     "metadata": {},
     "output_type": "display_data"
    },
    {
     "name": "stdout",
     "output_type": "stream",
     "text": [
      "Train Epoch: 89 ====> Average CTC loss: 3.9631\n",
      "train [2, 2, 2, 2, 2, 2, 2, 2, 2, 2]\n"
     ]
    },
    {
     "data": {
      "application/vnd.jupyter.widget-view+json": {
       "model_id": "d9628f0ab02d41629c2444f35dfbfecf",
       "version_major": 2,
       "version_minor": 0
      },
      "text/plain": [
       "  0%|          | 0/45 [00:00<?, ?it/s]"
      ]
     },
     "metadata": {},
     "output_type": "display_data"
    },
    {
     "name": "stdout",
     "output_type": "stream",
     "text": [
      "Validation/Test Epoch 89====> average CTC loss: 4.0276\n",
      "Test Epoch 89====> PER : 38.1344\n",
      "dev [2, 2, 2, 2, 2, 2, 2, 2, 2, 2]\n",
      "\u001b[91mEarlyStopping counter: 89 out of 7\u001b[0m\n",
      "\n"
     ]
    },
    {
     "data": {
      "application/vnd.jupyter.widget-view+json": {
       "model_id": "0bdb500861414b98b10a80320e74bccc",
       "version_major": 2,
       "version_minor": 0
      },
      "text/plain": [
       "  0%|          | 0/63 [00:00<?, ?it/s]"
      ]
     },
     "metadata": {},
     "output_type": "display_data"
    },
    {
     "name": "stdout",
     "output_type": "stream",
     "text": [
      "Train Epoch: 90 ====> Average CTC loss: 3.9901\n",
      "train [2, 2, 2, 2, 2, 2, 2, 2, 2, 2]\n"
     ]
    },
    {
     "data": {
      "application/vnd.jupyter.widget-view+json": {
       "model_id": "e1b3357264c14d569afe30ddda2f1d7b",
       "version_major": 2,
       "version_minor": 0
      },
      "text/plain": [
       "  0%|          | 0/45 [00:00<?, ?it/s]"
      ]
     },
     "metadata": {},
     "output_type": "display_data"
    },
    {
     "name": "stdout",
     "output_type": "stream",
     "text": [
      "Validation/Test Epoch 90====> average CTC loss: 3.9660\n",
      "Test Epoch 90====> PER : 38.1289\n",
      "dev [2, 2, 2, 2, 2, 2, 2, 2, 2, 2]\n",
      "\u001b[91mEarlyStopping counter: 90 out of 7\u001b[0m\n",
      "\n"
     ]
    },
    {
     "data": {
      "application/vnd.jupyter.widget-view+json": {
       "model_id": "08b529235c3640518032d1d3c37acc73",
       "version_major": 2,
       "version_minor": 0
      },
      "text/plain": [
       "  0%|          | 0/63 [00:00<?, ?it/s]"
      ]
     },
     "metadata": {},
     "output_type": "display_data"
    },
    {
     "name": "stdout",
     "output_type": "stream",
     "text": [
      "Train Epoch: 91 ====> Average CTC loss: 3.9485\n",
      "train [2, 2, 2, 2, 2, 2, 2, 2, 2, 2]\n"
     ]
    },
    {
     "data": {
      "application/vnd.jupyter.widget-view+json": {
       "model_id": "fc6975ecb9ad4435ae565388bd443c49",
       "version_major": 2,
       "version_minor": 0
      },
      "text/plain": [
       "  0%|          | 0/45 [00:00<?, ?it/s]"
      ]
     },
     "metadata": {},
     "output_type": "display_data"
    },
    {
     "name": "stdout",
     "output_type": "stream",
     "text": [
      "Validation/Test Epoch 91====> average CTC loss: 3.9231\n",
      "Test Epoch 91====> PER : 38.1411\n",
      "dev [2, 2, 2, 2, 2, 2, 2, 2, 2, 2]\n",
      "\u001b[91mEarlyStopping counter: 91 out of 7\u001b[0m\n",
      "\n"
     ]
    },
    {
     "data": {
      "application/vnd.jupyter.widget-view+json": {
       "model_id": "6456f55604544262ac76850d029ef929",
       "version_major": 2,
       "version_minor": 0
      },
      "text/plain": [
       "  0%|          | 0/63 [00:00<?, ?it/s]"
      ]
     },
     "metadata": {},
     "output_type": "display_data"
    },
    {
     "name": "stdout",
     "output_type": "stream",
     "text": [
      "Train Epoch: 92 ====> Average CTC loss: 3.9246\n",
      "train [2, 2, 2, 2, 2, 2, 2, 2, 2, 2]\n"
     ]
    },
    {
     "data": {
      "application/vnd.jupyter.widget-view+json": {
       "model_id": "0b2a5fa568324d7e8abc78f31275b182",
       "version_major": 2,
       "version_minor": 0
      },
      "text/plain": [
       "  0%|          | 0/45 [00:00<?, ?it/s]"
      ]
     },
     "metadata": {},
     "output_type": "display_data"
    },
    {
     "name": "stdout",
     "output_type": "stream",
     "text": [
      "Validation/Test Epoch 92====> average CTC loss: 4.0533\n",
      "Test Epoch 92====> PER : 38.1356\n",
      "dev [2, 2, 2, 2, 2, 2, 2, 2, 2, 2]\n",
      "\u001b[91mEarlyStopping counter: 92 out of 7\u001b[0m\n",
      "\n"
     ]
    },
    {
     "data": {
      "application/vnd.jupyter.widget-view+json": {
       "model_id": "67fa102d6ed043aba5e39e9fa3e64a37",
       "version_major": 2,
       "version_minor": 0
      },
      "text/plain": [
       "  0%|          | 0/63 [00:00<?, ?it/s]"
      ]
     },
     "metadata": {},
     "output_type": "display_data"
    },
    {
     "name": "stdout",
     "output_type": "stream",
     "text": [
      "Train Epoch: 93 ====> Average CTC loss: 3.9411\n",
      "train [2, 2, 2, 2, 2, 2, 2, 2, 2, 2]\n"
     ]
    },
    {
     "data": {
      "application/vnd.jupyter.widget-view+json": {
       "model_id": "6e50e821c30e48d5a300be20dfb25969",
       "version_major": 2,
       "version_minor": 0
      },
      "text/plain": [
       "  0%|          | 0/45 [00:00<?, ?it/s]"
      ]
     },
     "metadata": {},
     "output_type": "display_data"
    },
    {
     "name": "stdout",
     "output_type": "stream",
     "text": [
      "Validation/Test Epoch 93====> average CTC loss: 4.0561\n",
      "Test Epoch 93====> PER : 38.1367\n",
      "dev [2, 2, 2, 2, 2, 2, 2, 2, 2, 2]\n",
      "\u001b[91mEarlyStopping counter: 93 out of 7\u001b[0m\n",
      "\n"
     ]
    },
    {
     "data": {
      "application/vnd.jupyter.widget-view+json": {
       "model_id": "eafb144d81194b238b6f736fa99201ff",
       "version_major": 2,
       "version_minor": 0
      },
      "text/plain": [
       "  0%|          | 0/63 [00:00<?, ?it/s]"
      ]
     },
     "metadata": {},
     "output_type": "display_data"
    },
    {
     "name": "stdout",
     "output_type": "stream",
     "text": [
      "Train Epoch: 94 ====> Average CTC loss: 3.9286\n",
      "train [2, 2, 2, 2, 2, 2, 2, 2, 2, 2]\n"
     ]
    },
    {
     "data": {
      "application/vnd.jupyter.widget-view+json": {
       "model_id": "4a90b8bdca744e5c88c72f5fe8828219",
       "version_major": 2,
       "version_minor": 0
      },
      "text/plain": [
       "  0%|          | 0/45 [00:00<?, ?it/s]"
      ]
     },
     "metadata": {},
     "output_type": "display_data"
    },
    {
     "name": "stdout",
     "output_type": "stream",
     "text": [
      "Validation/Test Epoch 94====> average CTC loss: 3.9406\n",
      "Test Epoch 94====> PER : 38.2011\n",
      "dev [2, 2, 2, 2, 2, 2, 2, 2, 2, 2]\n",
      "\u001b[91mEarlyStopping counter: 94 out of 7\u001b[0m\n",
      "\n"
     ]
    },
    {
     "data": {
      "application/vnd.jupyter.widget-view+json": {
       "model_id": "5a517661888140adb9856abdbb735b27",
       "version_major": 2,
       "version_minor": 0
      },
      "text/plain": [
       "  0%|          | 0/63 [00:00<?, ?it/s]"
      ]
     },
     "metadata": {},
     "output_type": "display_data"
    },
    {
     "name": "stdout",
     "output_type": "stream",
     "text": [
      "Train Epoch: 95 ====> Average CTC loss: 3.9720\n",
      "train [2, 2, 2, 2, 2, 2, 2, 2, 2, 2]\n"
     ]
    },
    {
     "data": {
      "application/vnd.jupyter.widget-view+json": {
       "model_id": "2bf74c9d0daa49dc925468e95b08e6c3",
       "version_major": 2,
       "version_minor": 0
      },
      "text/plain": [
       "  0%|          | 0/45 [00:00<?, ?it/s]"
      ]
     },
     "metadata": {},
     "output_type": "display_data"
    },
    {
     "name": "stdout",
     "output_type": "stream",
     "text": [
      "Validation/Test Epoch 95====> average CTC loss: 4.1191\n",
      "Test Epoch 95====> PER : 38.1578\n",
      "dev [2, 2, 2, 2, 2, 2, 2, 2, 2, 2]\n",
      "\u001b[91mEarlyStopping counter: 95 out of 7\u001b[0m\n",
      "\n"
     ]
    },
    {
     "data": {
      "application/vnd.jupyter.widget-view+json": {
       "model_id": "b53d64db0f5742bb9acb64f3b8ce6df1",
       "version_major": 2,
       "version_minor": 0
      },
      "text/plain": [
       "  0%|          | 0/63 [00:00<?, ?it/s]"
      ]
     },
     "metadata": {},
     "output_type": "display_data"
    },
    {
     "name": "stdout",
     "output_type": "stream",
     "text": [
      "Train Epoch: 96 ====> Average CTC loss: 3.9228\n",
      "train [2, 2, 2, 2, 2, 2, 2, 2, 2, 2]\n"
     ]
    },
    {
     "data": {
      "application/vnd.jupyter.widget-view+json": {
       "model_id": "dc91991adfa14756b039df58f8ca1ecd",
       "version_major": 2,
       "version_minor": 0
      },
      "text/plain": [
       "  0%|          | 0/45 [00:00<?, ?it/s]"
      ]
     },
     "metadata": {},
     "output_type": "display_data"
    },
    {
     "name": "stdout",
     "output_type": "stream",
     "text": [
      "Validation/Test Epoch 96====> average CTC loss: 3.9456\n",
      "Test Epoch 96====> PER : 38.1467\n",
      "dev [2, 2, 2, 2, 2, 2, 2, 2, 2, 2]\n",
      "\u001b[91mEarlyStopping counter: 96 out of 7\u001b[0m\n",
      "\n"
     ]
    },
    {
     "data": {
      "application/vnd.jupyter.widget-view+json": {
       "model_id": "66a41db7e78f4b9390e934c9692c6a49",
       "version_major": 2,
       "version_minor": 0
      },
      "text/plain": [
       "  0%|          | 0/63 [00:00<?, ?it/s]"
      ]
     },
     "metadata": {},
     "output_type": "display_data"
    },
    {
     "name": "stdout",
     "output_type": "stream",
     "text": [
      "Train Epoch: 97 ====> Average CTC loss: 3.9380\n",
      "train [2, 2, 2, 2, 2, 2, 2, 2, 2, 2]\n"
     ]
    },
    {
     "data": {
      "application/vnd.jupyter.widget-view+json": {
       "model_id": "3716329eb54b40f2a807cc8e08036a6c",
       "version_major": 2,
       "version_minor": 0
      },
      "text/plain": [
       "  0%|          | 0/45 [00:00<?, ?it/s]"
      ]
     },
     "metadata": {},
     "output_type": "display_data"
    },
    {
     "name": "stdout",
     "output_type": "stream",
     "text": [
      "Validation/Test Epoch 97====> average CTC loss: 3.9236\n",
      "Test Epoch 97====> PER : 38.1444\n",
      "dev [2, 2, 2, 2, 2, 2, 2, 2, 2, 2]\n",
      "\u001b[91mEarlyStopping counter: 97 out of 7\u001b[0m\n",
      "\n"
     ]
    },
    {
     "data": {
      "application/vnd.jupyter.widget-view+json": {
       "model_id": "07b04cd8965c4fa9bb5a0219da31ace9",
       "version_major": 2,
       "version_minor": 0
      },
      "text/plain": [
       "  0%|          | 0/63 [00:00<?, ?it/s]"
      ]
     },
     "metadata": {},
     "output_type": "display_data"
    },
    {
     "name": "stdout",
     "output_type": "stream",
     "text": [
      "Train Epoch: 98 ====> Average CTC loss: 3.9509\n",
      "train [2, 2, 2, 2, 2, 2, 2, 2, 2, 2]\n"
     ]
    },
    {
     "data": {
      "application/vnd.jupyter.widget-view+json": {
       "model_id": "2fcad0b2e857476da8d9232899af2275",
       "version_major": 2,
       "version_minor": 0
      },
      "text/plain": [
       "  0%|          | 0/45 [00:00<?, ?it/s]"
      ]
     },
     "metadata": {},
     "output_type": "display_data"
    },
    {
     "name": "stdout",
     "output_type": "stream",
     "text": [
      "Validation/Test Epoch 98====> average CTC loss: 4.1037\n",
      "Test Epoch 98====> PER : 38.1444\n",
      "dev [2, 2, 2, 2, 2, 2, 2, 2, 2, 2]\n",
      "\u001b[91mEarlyStopping counter: 98 out of 7\u001b[0m\n",
      "\n"
     ]
    },
    {
     "data": {
      "application/vnd.jupyter.widget-view+json": {
       "model_id": "8e2de8f58b7b415ba9ced17e9cc3edaf",
       "version_major": 2,
       "version_minor": 0
      },
      "text/plain": [
       "  0%|          | 0/63 [00:00<?, ?it/s]"
      ]
     },
     "metadata": {},
     "output_type": "display_data"
    },
    {
     "name": "stdout",
     "output_type": "stream",
     "text": [
      "Train Epoch: 99 ====> Average CTC loss: 3.9741\n",
      "train [2, 2, 2, 2, 2, 2, 2, 2, 2, 2]\n"
     ]
    },
    {
     "data": {
      "application/vnd.jupyter.widget-view+json": {
       "model_id": "6205bb711b1246799bce2ebabde51d3b",
       "version_major": 2,
       "version_minor": 0
      },
      "text/plain": [
       "  0%|          | 0/45 [00:00<?, ?it/s]"
      ]
     },
     "metadata": {},
     "output_type": "display_data"
    },
    {
     "name": "stdout",
     "output_type": "stream",
     "text": [
      "Validation/Test Epoch 99====> average CTC loss: 3.9389\n",
      "Test Epoch 99====> PER : 38.2000\n",
      "dev [2, 2, 2, 2, 2, 2, 2, 2, 2, 2]\n",
      "\u001b[91mEarlyStopping counter: 99 out of 7\u001b[0m\n",
      "\n"
     ]
    },
    {
     "data": {
      "application/vnd.jupyter.widget-view+json": {
       "model_id": "45b9675b82bb49f3bd9a506d1206a3a5",
       "version_major": 2,
       "version_minor": 0
      },
      "text/plain": [
       "  0%|          | 0/63 [00:00<?, ?it/s]"
      ]
     },
     "metadata": {},
     "output_type": "display_data"
    },
    {
     "name": "stdout",
     "output_type": "stream",
     "text": [
      "Train Epoch: 100 ====> Average CTC loss: 3.9115\n",
      "train [2, 2, 2, 2, 2, 2, 2, 2, 2, 2]\n"
     ]
    },
    {
     "data": {
      "application/vnd.jupyter.widget-view+json": {
       "model_id": "646f49f8e84f41b7a6fdad9aabc9965f",
       "version_major": 2,
       "version_minor": 0
      },
      "text/plain": [
       "  0%|          | 0/45 [00:00<?, ?it/s]"
      ]
     },
     "metadata": {},
     "output_type": "display_data"
    },
    {
     "name": "stdout",
     "output_type": "stream",
     "text": [
      "Validation/Test Epoch 100====> average CTC loss: 3.9361\n",
      "Test Epoch 100====> PER : 38.1422\n",
      "dev [2, 2, 2, 2, 2, 2, 2, 2, 2, 2]\n",
      "\u001b[91mEarlyStopping counter: 100 out of 7\u001b[0m\n",
      "\n"
     ]
    },
    {
     "data": {
      "application/vnd.jupyter.widget-view+json": {
       "model_id": "e4b13c8c372f4ccd81815c07740ea0ff",
       "version_major": 2,
       "version_minor": 0
      },
      "text/plain": [
       "  0%|          | 0/63 [00:00<?, ?it/s]"
      ]
     },
     "metadata": {},
     "output_type": "display_data"
    },
    {
     "name": "stdout",
     "output_type": "stream",
     "text": [
      "Train Epoch: 101 ====> Average CTC loss: 3.9167\n",
      "train [2, 2, 2, 2, 2, 2, 2, 2, 2, 2]\n"
     ]
    },
    {
     "data": {
      "application/vnd.jupyter.widget-view+json": {
       "model_id": "2e1f743f8198458792859345c9ecef28",
       "version_major": 2,
       "version_minor": 0
      },
      "text/plain": [
       "  0%|          | 0/45 [00:00<?, ?it/s]"
      ]
     },
     "metadata": {},
     "output_type": "display_data"
    },
    {
     "name": "stdout",
     "output_type": "stream",
     "text": [
      "Validation/Test Epoch 101====> average CTC loss: 3.9369\n",
      "Test Epoch 101====> PER : 38.1789\n",
      "dev [2, 2, 2, 2, 2, 2, 2, 2, 2, 2]\n",
      "\u001b[91mEarlyStopping counter: 101 out of 7\u001b[0m\n",
      "\n"
     ]
    },
    {
     "data": {
      "application/vnd.jupyter.widget-view+json": {
       "model_id": "f5638cf72dfb49d5a2c46609dc632ffc",
       "version_major": 2,
       "version_minor": 0
      },
      "text/plain": [
       "  0%|          | 0/63 [00:00<?, ?it/s]"
      ]
     },
     "metadata": {},
     "output_type": "display_data"
    },
    {
     "name": "stdout",
     "output_type": "stream",
     "text": [
      "Train Epoch: 102 ====> Average CTC loss: 3.9316\n",
      "train [2, 2, 2, 2, 2, 2, 2, 2, 2, 2]\n"
     ]
    },
    {
     "data": {
      "application/vnd.jupyter.widget-view+json": {
       "model_id": "9f060af7758a48c0bf7790ef22c29326",
       "version_major": 2,
       "version_minor": 0
      },
      "text/plain": [
       "  0%|          | 0/45 [00:00<?, ?it/s]"
      ]
     },
     "metadata": {},
     "output_type": "display_data"
    },
    {
     "name": "stdout",
     "output_type": "stream",
     "text": [
      "Validation/Test Epoch 102====> average CTC loss: 4.0391\n",
      "Test Epoch 102====> PER : 38.1389\n",
      "dev [2, 2, 2, 2, 2, 2, 2, 2, 2, 2]\n",
      "\u001b[91mEarlyStopping counter: 102 out of 7\u001b[0m\n",
      "\n"
     ]
    },
    {
     "data": {
      "application/vnd.jupyter.widget-view+json": {
       "model_id": "1e32ca22e35f46f2aeabdaf75b367415",
       "version_major": 2,
       "version_minor": 0
      },
      "text/plain": [
       "  0%|          | 0/63 [00:00<?, ?it/s]"
      ]
     },
     "metadata": {},
     "output_type": "display_data"
    },
    {
     "name": "stdout",
     "output_type": "stream",
     "text": [
      "Train Epoch: 103 ====> Average CTC loss: 3.9498\n",
      "train [2, 2, 2, 2, 2, 2, 2, 2, 2, 2]\n"
     ]
    },
    {
     "data": {
      "application/vnd.jupyter.widget-view+json": {
       "model_id": "3c75eb2de77847bfa291ae9597e96e3a",
       "version_major": 2,
       "version_minor": 0
      },
      "text/plain": [
       "  0%|          | 0/45 [00:00<?, ?it/s]"
      ]
     },
     "metadata": {},
     "output_type": "display_data"
    },
    {
     "name": "stdout",
     "output_type": "stream",
     "text": [
      "Validation/Test Epoch 103====> average CTC loss: 3.9314\n",
      "Test Epoch 103====> PER : 38.1422\n",
      "dev [2, 2, 2, 2, 2, 2, 2, 2, 2, 2]\n",
      "\u001b[91mEarlyStopping counter: 103 out of 7\u001b[0m\n",
      "\n"
     ]
    },
    {
     "data": {
      "application/vnd.jupyter.widget-view+json": {
       "model_id": "ae93739ac6ea4929b2b5a1117c556138",
       "version_major": 2,
       "version_minor": 0
      },
      "text/plain": [
       "  0%|          | 0/63 [00:00<?, ?it/s]"
      ]
     },
     "metadata": {},
     "output_type": "display_data"
    },
    {
     "name": "stdout",
     "output_type": "stream",
     "text": [
      "Train Epoch: 104 ====> Average CTC loss: 3.9308\n",
      "train [2, 2, 2, 2, 2, 2, 2, 2, 2, 2]\n"
     ]
    },
    {
     "data": {
      "application/vnd.jupyter.widget-view+json": {
       "model_id": "f924403751e24aa99e24b633a03d95b8",
       "version_major": 2,
       "version_minor": 0
      },
      "text/plain": [
       "  0%|          | 0/45 [00:00<?, ?it/s]"
      ]
     },
     "metadata": {},
     "output_type": "display_data"
    },
    {
     "name": "stdout",
     "output_type": "stream",
     "text": [
      "Validation/Test Epoch 104====> average CTC loss: 3.9817\n",
      "Test Epoch 104====> PER : 38.1522\n",
      "dev [2, 2, 2, 2, 2, 2, 2, 2, 2, 2]\n",
      "\u001b[91mEarlyStopping counter: 104 out of 7\u001b[0m\n",
      "\n"
     ]
    },
    {
     "data": {
      "application/vnd.jupyter.widget-view+json": {
       "model_id": "fbbcd48b9aef4cd0b9cb81652ff907f8",
       "version_major": 2,
       "version_minor": 0
      },
      "text/plain": [
       "  0%|          | 0/63 [00:00<?, ?it/s]"
      ]
     },
     "metadata": {},
     "output_type": "display_data"
    },
    {
     "name": "stdout",
     "output_type": "stream",
     "text": [
      "Train Epoch: 105 ====> Average CTC loss: 3.8896\n",
      "train [2, 2, 2, 2, 2, 2, 2, 2, 2, 2]\n"
     ]
    },
    {
     "data": {
      "application/vnd.jupyter.widget-view+json": {
       "model_id": "3f48e1ae7dc14ffa94597097eab2e547",
       "version_major": 2,
       "version_minor": 0
      },
      "text/plain": [
       "  0%|          | 0/45 [00:00<?, ?it/s]"
      ]
     },
     "metadata": {},
     "output_type": "display_data"
    },
    {
     "name": "stdout",
     "output_type": "stream",
     "text": [
      "Validation/Test Epoch 105====> average CTC loss: 3.9648\n",
      "Test Epoch 105====> PER : 38.1656\n",
      "dev [2, 2, 2, 2, 2, 2, 2, 2, 2, 2]\n",
      "\u001b[91mEarlyStopping counter: 105 out of 7\u001b[0m\n",
      "\n"
     ]
    },
    {
     "data": {
      "application/vnd.jupyter.widget-view+json": {
       "model_id": "052c781917204c3e8ae87ce01772623c",
       "version_major": 2,
       "version_minor": 0
      },
      "text/plain": [
       "  0%|          | 0/63 [00:00<?, ?it/s]"
      ]
     },
     "metadata": {},
     "output_type": "display_data"
    },
    {
     "name": "stdout",
     "output_type": "stream",
     "text": [
      "Train Epoch: 106 ====> Average CTC loss: 3.9077\n",
      "train [2, 2, 2, 2, 2, 2, 2, 2, 2, 2]\n"
     ]
    },
    {
     "data": {
      "application/vnd.jupyter.widget-view+json": {
       "model_id": "117b22117b284873a0f8953e0443d4a3",
       "version_major": 2,
       "version_minor": 0
      },
      "text/plain": [
       "  0%|          | 0/45 [00:00<?, ?it/s]"
      ]
     },
     "metadata": {},
     "output_type": "display_data"
    },
    {
     "name": "stdout",
     "output_type": "stream",
     "text": [
      "Validation/Test Epoch 106====> average CTC loss: 4.1229\n",
      "Test Epoch 106====> PER : 38.1500\n",
      "dev [2, 2, 2, 2, 2, 2, 2, 2, 2, 2]\n",
      "\u001b[91mEarlyStopping counter: 106 out of 7\u001b[0m\n",
      "\n"
     ]
    },
    {
     "data": {
      "application/vnd.jupyter.widget-view+json": {
       "model_id": "278f0a560a7c4b2da9c3f04dd31eb5b2",
       "version_major": 2,
       "version_minor": 0
      },
      "text/plain": [
       "  0%|          | 0/63 [00:00<?, ?it/s]"
      ]
     },
     "metadata": {},
     "output_type": "display_data"
    },
    {
     "name": "stdout",
     "output_type": "stream",
     "text": [
      "Train Epoch: 107 ====> Average CTC loss: 3.9235\n",
      "train [2, 2, 2, 2, 2, 2, 2, 2, 2, 2]\n"
     ]
    },
    {
     "data": {
      "application/vnd.jupyter.widget-view+json": {
       "model_id": "16a4e6c283b04eef934b2a63bfd487f7",
       "version_major": 2,
       "version_minor": 0
      },
      "text/plain": [
       "  0%|          | 0/45 [00:00<?, ?it/s]"
      ]
     },
     "metadata": {},
     "output_type": "display_data"
    },
    {
     "name": "stdout",
     "output_type": "stream",
     "text": [
      "Validation/Test Epoch 107====> average CTC loss: 3.9440\n",
      "Test Epoch 107====> PER : 38.1344\n",
      "dev [2, 2, 2, 2, 2, 2, 2, 2, 2, 2]\n",
      "\u001b[91mEarlyStopping counter: 107 out of 7\u001b[0m\n",
      "\n"
     ]
    },
    {
     "data": {
      "application/vnd.jupyter.widget-view+json": {
       "model_id": "003af30d7178454e934560cd868d9a0a",
       "version_major": 2,
       "version_minor": 0
      },
      "text/plain": [
       "  0%|          | 0/63 [00:00<?, ?it/s]"
      ]
     },
     "metadata": {},
     "output_type": "display_data"
    },
    {
     "name": "stdout",
     "output_type": "stream",
     "text": [
      "Train Epoch: 108 ====> Average CTC loss: 3.9158\n",
      "train [2, 2, 2, 2, 2, 2, 2, 2, 2, 2]\n"
     ]
    },
    {
     "data": {
      "application/vnd.jupyter.widget-view+json": {
       "model_id": "64f3274ddbb440e0a79ee0a4aad63419",
       "version_major": 2,
       "version_minor": 0
      },
      "text/plain": [
       "  0%|          | 0/45 [00:00<?, ?it/s]"
      ]
     },
     "metadata": {},
     "output_type": "display_data"
    },
    {
     "name": "stdout",
     "output_type": "stream",
     "text": [
      "Validation/Test Epoch 108====> average CTC loss: 4.0477\n",
      "Test Epoch 108====> PER : 38.1300\n",
      "dev [2, 2, 2, 2, 2, 2, 2, 2, 2, 2]\n",
      "\u001b[91mEarlyStopping counter: 108 out of 7\u001b[0m\n",
      "\n"
     ]
    },
    {
     "data": {
      "application/vnd.jupyter.widget-view+json": {
       "model_id": "412df18748a74d41825754ea43b48a7d",
       "version_major": 2,
       "version_minor": 0
      },
      "text/plain": [
       "  0%|          | 0/63 [00:00<?, ?it/s]"
      ]
     },
     "metadata": {},
     "output_type": "display_data"
    },
    {
     "name": "stdout",
     "output_type": "stream",
     "text": [
      "Train Epoch: 109 ====> Average CTC loss: 3.8789\n",
      "train [2, 2, 2, 2, 2, 2, 2, 2, 2, 2]\n"
     ]
    },
    {
     "data": {
      "application/vnd.jupyter.widget-view+json": {
       "model_id": "2f9d2780b9a54167867a90becad41220",
       "version_major": 2,
       "version_minor": 0
      },
      "text/plain": [
       "  0%|          | 0/45 [00:00<?, ?it/s]"
      ]
     },
     "metadata": {},
     "output_type": "display_data"
    },
    {
     "name": "stdout",
     "output_type": "stream",
     "text": [
      "Validation/Test Epoch 109====> average CTC loss: 3.9309\n",
      "Test Epoch 109====> PER : 38.1700\n",
      "dev [2, 2, 2, 2, 2, 2, 2, 2, 2, 2]\n",
      "\u001b[91mEarlyStopping counter: 109 out of 7\u001b[0m\n",
      "\n"
     ]
    },
    {
     "data": {
      "application/vnd.jupyter.widget-view+json": {
       "model_id": "6d8e88d43fa3411cb3338e11faae8721",
       "version_major": 2,
       "version_minor": 0
      },
      "text/plain": [
       "  0%|          | 0/63 [00:00<?, ?it/s]"
      ]
     },
     "metadata": {},
     "output_type": "display_data"
    },
    {
     "name": "stdout",
     "output_type": "stream",
     "text": [
      "Train Epoch: 110 ====> Average CTC loss: 3.9046\n",
      "train [2, 2, 2, 2, 2, 2, 2, 2, 2, 2]\n"
     ]
    },
    {
     "data": {
      "application/vnd.jupyter.widget-view+json": {
       "model_id": "0207e021e1e247d58f43a960faa23d4a",
       "version_major": 2,
       "version_minor": 0
      },
      "text/plain": [
       "  0%|          | 0/45 [00:00<?, ?it/s]"
      ]
     },
     "metadata": {},
     "output_type": "display_data"
    },
    {
     "name": "stdout",
     "output_type": "stream",
     "text": [
      "Validation/Test Epoch 110====> average CTC loss: 3.9217\n",
      "Test Epoch 110====> PER : 38.1322\n",
      "dev [2, 2, 2, 2, 2, 2, 2, 2, 2, 2]\n",
      "\u001b[91mEarlyStopping counter: 110 out of 7\u001b[0m\n",
      "\n"
     ]
    },
    {
     "data": {
      "application/vnd.jupyter.widget-view+json": {
       "model_id": "492764c7515f459b91cd86067aefd170",
       "version_major": 2,
       "version_minor": 0
      },
      "text/plain": [
       "  0%|          | 0/63 [00:00<?, ?it/s]"
      ]
     },
     "metadata": {},
     "output_type": "display_data"
    },
    {
     "name": "stdout",
     "output_type": "stream",
     "text": [
      "Train Epoch: 111 ====> Average CTC loss: 3.9172\n",
      "train [2, 2, 2, 2, 2, 2, 2, 2, 2, 2]\n"
     ]
    },
    {
     "data": {
      "application/vnd.jupyter.widget-view+json": {
       "model_id": "cb6a194dfaf943efa210c84f414ae376",
       "version_major": 2,
       "version_minor": 0
      },
      "text/plain": [
       "  0%|          | 0/45 [00:00<?, ?it/s]"
      ]
     },
     "metadata": {},
     "output_type": "display_data"
    },
    {
     "name": "stdout",
     "output_type": "stream",
     "text": [
      "Validation/Test Epoch 111====> average CTC loss: 3.9647\n",
      "Test Epoch 111====> PER : 38.1600\n",
      "dev [2, 2, 2, 2, 2, 2, 2, 2, 2, 2]\n",
      "\u001b[91mEarlyStopping counter: 111 out of 7\u001b[0m\n",
      "\n"
     ]
    },
    {
     "data": {
      "application/vnd.jupyter.widget-view+json": {
       "model_id": "15e41d9b517245599a90e44a7223bb06",
       "version_major": 2,
       "version_minor": 0
      },
      "text/plain": [
       "  0%|          | 0/63 [00:00<?, ?it/s]"
      ]
     },
     "metadata": {},
     "output_type": "display_data"
    },
    {
     "name": "stdout",
     "output_type": "stream",
     "text": [
      "Train Epoch: 112 ====> Average CTC loss: 3.8943\n",
      "train [2, 2, 2, 2, 2, 2, 2, 2, 2, 2]\n"
     ]
    },
    {
     "data": {
      "application/vnd.jupyter.widget-view+json": {
       "model_id": "ee061e07ed7a40188eddd29c84f52d71",
       "version_major": 2,
       "version_minor": 0
      },
      "text/plain": [
       "  0%|          | 0/45 [00:00<?, ?it/s]"
      ]
     },
     "metadata": {},
     "output_type": "display_data"
    },
    {
     "name": "stdout",
     "output_type": "stream",
     "text": [
      "Validation/Test Epoch 112====> average CTC loss: 3.9399\n",
      "Test Epoch 112====> PER : 38.1456\n",
      "dev [2, 2, 2, 2, 2, 2, 2, 2, 2, 2]\n",
      "\u001b[91mEarlyStopping counter: 112 out of 7\u001b[0m\n",
      "\n"
     ]
    },
    {
     "data": {
      "application/vnd.jupyter.widget-view+json": {
       "model_id": "6f6287ad96374a0bb69ecd524b173141",
       "version_major": 2,
       "version_minor": 0
      },
      "text/plain": [
       "  0%|          | 0/63 [00:00<?, ?it/s]"
      ]
     },
     "metadata": {},
     "output_type": "display_data"
    },
    {
     "name": "stdout",
     "output_type": "stream",
     "text": [
      "Train Epoch: 113 ====> Average CTC loss: 3.9114\n",
      "train [2, 2, 2, 2, 2, 2, 2, 2, 2, 2]\n"
     ]
    },
    {
     "data": {
      "application/vnd.jupyter.widget-view+json": {
       "model_id": "a5e7e6b873c447f089a4b6b8befa00b7",
       "version_major": 2,
       "version_minor": 0
      },
      "text/plain": [
       "  0%|          | 0/45 [00:00<?, ?it/s]"
      ]
     },
     "metadata": {},
     "output_type": "display_data"
    },
    {
     "name": "stdout",
     "output_type": "stream",
     "text": [
      "Validation/Test Epoch 113====> average CTC loss: 3.9166\n",
      "Test Epoch 113====> PER : 38.1289\n",
      "dev [2, 2, 2, 2, 2, 2, 2, 2, 2, 2]\n",
      "\u001b[91mEarlyStopping counter: 113 out of 7\u001b[0m\n",
      "\n"
     ]
    },
    {
     "data": {
      "application/vnd.jupyter.widget-view+json": {
       "model_id": "a375299f076945fe98013c6217dd2956",
       "version_major": 2,
       "version_minor": 0
      },
      "text/plain": [
       "  0%|          | 0/63 [00:00<?, ?it/s]"
      ]
     },
     "metadata": {},
     "output_type": "display_data"
    },
    {
     "name": "stdout",
     "output_type": "stream",
     "text": [
      "Train Epoch: 114 ====> Average CTC loss: 3.8850\n",
      "train [2, 2, 2, 2, 2, 2, 2, 2, 2, 2]\n"
     ]
    },
    {
     "data": {
      "application/vnd.jupyter.widget-view+json": {
       "model_id": "90fa4debe7b641b195396aa7dcfba2e5",
       "version_major": 2,
       "version_minor": 0
      },
      "text/plain": [
       "  0%|          | 0/45 [00:00<?, ?it/s]"
      ]
     },
     "metadata": {},
     "output_type": "display_data"
    },
    {
     "name": "stdout",
     "output_type": "stream",
     "text": [
      "Validation/Test Epoch 114====> average CTC loss: 3.9352\n",
      "Test Epoch 114====> PER : 38.1767\n",
      "dev [2, 2, 2, 2, 2, 2, 2, 2, 2, 2]\n",
      "\u001b[91mEarlyStopping counter: 114 out of 7\u001b[0m\n",
      "\n"
     ]
    },
    {
     "data": {
      "application/vnd.jupyter.widget-view+json": {
       "model_id": "c3f91e3854ae4f1ca45bf2de19ae1031",
       "version_major": 2,
       "version_minor": 0
      },
      "text/plain": [
       "  0%|          | 0/63 [00:00<?, ?it/s]"
      ]
     },
     "metadata": {},
     "output_type": "display_data"
    },
    {
     "name": "stdout",
     "output_type": "stream",
     "text": [
      "Train Epoch: 115 ====> Average CTC loss: 3.8790\n",
      "train [2, 2, 2, 2, 2, 2, 2, 2, 2, 2]\n"
     ]
    },
    {
     "data": {
      "application/vnd.jupyter.widget-view+json": {
       "model_id": "eeefe8e9833341a8a3d491cbe09bb68f",
       "version_major": 2,
       "version_minor": 0
      },
      "text/plain": [
       "  0%|          | 0/45 [00:00<?, ?it/s]"
      ]
     },
     "metadata": {},
     "output_type": "display_data"
    },
    {
     "name": "stdout",
     "output_type": "stream",
     "text": [
      "Validation/Test Epoch 115====> average CTC loss: 3.9387\n",
      "Test Epoch 115====> PER : 38.1633\n",
      "dev [2, 2, 2, 2, 2, 2, 2, 2, 2, 2]\n",
      "\u001b[91mEarlyStopping counter: 115 out of 7\u001b[0m\n",
      "\n"
     ]
    },
    {
     "data": {
      "application/vnd.jupyter.widget-view+json": {
       "model_id": "39de1d627dce4cbc8cd3021582a99e23",
       "version_major": 2,
       "version_minor": 0
      },
      "text/plain": [
       "  0%|          | 0/63 [00:00<?, ?it/s]"
      ]
     },
     "metadata": {},
     "output_type": "display_data"
    },
    {
     "name": "stdout",
     "output_type": "stream",
     "text": [
      "Train Epoch: 116 ====> Average CTC loss: 3.8702\n",
      "train [2, 2, 2, 2, 2, 2, 2, 2, 2, 2]\n"
     ]
    },
    {
     "data": {
      "application/vnd.jupyter.widget-view+json": {
       "model_id": "768c8de804e544df8e56c79be41e0cb0",
       "version_major": 2,
       "version_minor": 0
      },
      "text/plain": [
       "  0%|          | 0/45 [00:00<?, ?it/s]"
      ]
     },
     "metadata": {},
     "output_type": "display_data"
    },
    {
     "name": "stdout",
     "output_type": "stream",
     "text": [
      "Validation/Test Epoch 116====> average CTC loss: 3.9889\n",
      "Test Epoch 116====> PER : 38.1322\n",
      "dev [2, 2, 2, 2, 2, 2, 2, 2, 2, 2]\n",
      "\u001b[91mEarlyStopping counter: 116 out of 7\u001b[0m\n",
      "\n"
     ]
    },
    {
     "data": {
      "application/vnd.jupyter.widget-view+json": {
       "model_id": "cbef3a77df5946f890efeb33251a02c1",
       "version_major": 2,
       "version_minor": 0
      },
      "text/plain": [
       "  0%|          | 0/63 [00:00<?, ?it/s]"
      ]
     },
     "metadata": {},
     "output_type": "display_data"
    },
    {
     "name": "stdout",
     "output_type": "stream",
     "text": [
      "Train Epoch: 117 ====> Average CTC loss: 3.9080\n",
      "train [2, 2, 2, 2, 2, 2, 2, 2, 2, 2]\n"
     ]
    },
    {
     "data": {
      "application/vnd.jupyter.widget-view+json": {
       "model_id": "a57886205072479db4443100dd218776",
       "version_major": 2,
       "version_minor": 0
      },
      "text/plain": [
       "  0%|          | 0/45 [00:00<?, ?it/s]"
      ]
     },
     "metadata": {},
     "output_type": "display_data"
    },
    {
     "name": "stdout",
     "output_type": "stream",
     "text": [
      "Validation/Test Epoch 117====> average CTC loss: 4.0437\n",
      "Test Epoch 117====> PER : 38.1556\n",
      "dev [2, 2, 2, 2, 2, 2, 2, 2, 2, 2]\n",
      "\u001b[91mEarlyStopping counter: 117 out of 7\u001b[0m\n",
      "\n"
     ]
    },
    {
     "data": {
      "application/vnd.jupyter.widget-view+json": {
       "model_id": "441e34dc6fbd438c88be0b122f65e329",
       "version_major": 2,
       "version_minor": 0
      },
      "text/plain": [
       "  0%|          | 0/63 [00:00<?, ?it/s]"
      ]
     },
     "metadata": {},
     "output_type": "display_data"
    },
    {
     "name": "stdout",
     "output_type": "stream",
     "text": [
      "Train Epoch: 118 ====> Average CTC loss: 3.9062\n",
      "train [2, 2, 2, 2, 2, 2, 2, 2, 2, 2]\n"
     ]
    },
    {
     "data": {
      "application/vnd.jupyter.widget-view+json": {
       "model_id": "1a2ed1daae444d7aac4054fec27828b4",
       "version_major": 2,
       "version_minor": 0
      },
      "text/plain": [
       "  0%|          | 0/45 [00:00<?, ?it/s]"
      ]
     },
     "metadata": {},
     "output_type": "display_data"
    },
    {
     "name": "stdout",
     "output_type": "stream",
     "text": [
      "Validation/Test Epoch 118====> average CTC loss: 4.0006\n",
      "Test Epoch 118====> PER : 38.1300\n",
      "dev [2, 2, 2, 2, 2, 2, 2, 2, 2, 2]\n",
      "\u001b[91mEarlyStopping counter: 118 out of 7\u001b[0m\n",
      "\n"
     ]
    },
    {
     "data": {
      "application/vnd.jupyter.widget-view+json": {
       "model_id": "7daeafabbe5d497e8e99946d268d629c",
       "version_major": 2,
       "version_minor": 0
      },
      "text/plain": [
       "  0%|          | 0/63 [00:00<?, ?it/s]"
      ]
     },
     "metadata": {},
     "output_type": "display_data"
    },
    {
     "name": "stdout",
     "output_type": "stream",
     "text": [
      "Train Epoch: 119 ====> Average CTC loss: 3.8670\n",
      "train [2, 2, 2, 2, 2, 2, 2, 2, 2, 2]\n"
     ]
    },
    {
     "data": {
      "application/vnd.jupyter.widget-view+json": {
       "model_id": "d726dc5f36204979945c94389a262c74",
       "version_major": 2,
       "version_minor": 0
      },
      "text/plain": [
       "  0%|          | 0/45 [00:00<?, ?it/s]"
      ]
     },
     "metadata": {},
     "output_type": "display_data"
    },
    {
     "name": "stdout",
     "output_type": "stream",
     "text": [
      "Validation/Test Epoch 119====> average CTC loss: 3.9608\n",
      "Test Epoch 119====> PER : 38.1389\n",
      "dev [2, 2, 2, 2, 2, 2, 2, 2, 2, 2]\n",
      "\u001b[91mEarlyStopping counter: 119 out of 7\u001b[0m\n",
      "\n"
     ]
    },
    {
     "data": {
      "application/vnd.jupyter.widget-view+json": {
       "model_id": "3e643a6d38b04bc7b2868fdd3f0d909c",
       "version_major": 2,
       "version_minor": 0
      },
      "text/plain": [
       "  0%|          | 0/63 [00:00<?, ?it/s]"
      ]
     },
     "metadata": {},
     "output_type": "display_data"
    },
    {
     "name": "stdout",
     "output_type": "stream",
     "text": [
      "Train Epoch: 120 ====> Average CTC loss: 3.9013\n",
      "train [2, 2, 2, 2, 2, 2, 2, 2, 2, 2]\n"
     ]
    },
    {
     "data": {
      "application/vnd.jupyter.widget-view+json": {
       "model_id": "cf96983b3efb4646ac6c89f55d335502",
       "version_major": 2,
       "version_minor": 0
      },
      "text/plain": [
       "  0%|          | 0/45 [00:00<?, ?it/s]"
      ]
     },
     "metadata": {},
     "output_type": "display_data"
    },
    {
     "name": "stdout",
     "output_type": "stream",
     "text": [
      "Validation/Test Epoch 120====> average CTC loss: 3.9119\n",
      "Test Epoch 120====> PER : 38.1522\n",
      "dev [2, 2, 2, 2, 2, 2, 2, 2, 2, 2]\n",
      "\u001b[91mEarlyStopping counter: 120 out of 7\u001b[0m\n",
      "\n"
     ]
    },
    {
     "data": {
      "application/vnd.jupyter.widget-view+json": {
       "model_id": "13022a08914d46dca4e36bff1fdfb3c3",
       "version_major": 2,
       "version_minor": 0
      },
      "text/plain": [
       "  0%|          | 0/63 [00:00<?, ?it/s]"
      ]
     },
     "metadata": {},
     "output_type": "display_data"
    },
    {
     "name": "stdout",
     "output_type": "stream",
     "text": [
      "Train Epoch: 121 ====> Average CTC loss: 3.8719\n",
      "train [2, 2, 2, 2, 2, 2, 2, 2, 2, 2]\n"
     ]
    },
    {
     "data": {
      "application/vnd.jupyter.widget-view+json": {
       "model_id": "7b9c192e84cf41a182d1ebb249edccc4",
       "version_major": 2,
       "version_minor": 0
      },
      "text/plain": [
       "  0%|          | 0/45 [00:00<?, ?it/s]"
      ]
     },
     "metadata": {},
     "output_type": "display_data"
    },
    {
     "name": "stdout",
     "output_type": "stream",
     "text": [
      "Validation/Test Epoch 121====> average CTC loss: 3.9053\n",
      "Test Epoch 121====> PER : 38.1311\n",
      "dev [2, 2, 2, 2, 2, 2, 2, 2, 2, 2]\n",
      "\u001b[91mEarlyStopping counter: 121 out of 7\u001b[0m\n",
      "\n"
     ]
    },
    {
     "data": {
      "application/vnd.jupyter.widget-view+json": {
       "model_id": "aa400e4e59ab445f84ec0bed713f7722",
       "version_major": 2,
       "version_minor": 0
      },
      "text/plain": [
       "  0%|          | 0/63 [00:00<?, ?it/s]"
      ]
     },
     "metadata": {},
     "output_type": "display_data"
    },
    {
     "name": "stdout",
     "output_type": "stream",
     "text": [
      "Train Epoch: 122 ====> Average CTC loss: 3.8615\n",
      "train [2, 2, 2, 2, 2, 2, 2, 2, 2, 2]\n"
     ]
    },
    {
     "data": {
      "application/vnd.jupyter.widget-view+json": {
       "model_id": "a6ee2c3aa4af49359386925c3efcf795",
       "version_major": 2,
       "version_minor": 0
      },
      "text/plain": [
       "  0%|          | 0/45 [00:00<?, ?it/s]"
      ]
     },
     "metadata": {},
     "output_type": "display_data"
    },
    {
     "name": "stdout",
     "output_type": "stream",
     "text": [
      "Validation/Test Epoch 122====> average CTC loss: 4.0481\n",
      "Test Epoch 122====> PER : 38.1567\n",
      "dev [2, 2, 2, 2, 2, 2, 2, 2, 2, 2]\n",
      "\u001b[91mEarlyStopping counter: 122 out of 7\u001b[0m\n",
      "\n"
     ]
    },
    {
     "data": {
      "application/vnd.jupyter.widget-view+json": {
       "model_id": "96b1948e2c2247e28ea7a6ffe33a8f93",
       "version_major": 2,
       "version_minor": 0
      },
      "text/plain": [
       "  0%|          | 0/63 [00:00<?, ?it/s]"
      ]
     },
     "metadata": {},
     "output_type": "display_data"
    },
    {
     "name": "stdout",
     "output_type": "stream",
     "text": [
      "Train Epoch: 123 ====> Average CTC loss: 3.8775\n",
      "train [2, 2, 2, 2, 2, 2, 2, 2, 2, 2]\n"
     ]
    },
    {
     "data": {
      "application/vnd.jupyter.widget-view+json": {
       "model_id": "f97c2a4334bc46e193d39234da2a4c93",
       "version_major": 2,
       "version_minor": 0
      },
      "text/plain": [
       "  0%|          | 0/45 [00:00<?, ?it/s]"
      ]
     },
     "metadata": {},
     "output_type": "display_data"
    },
    {
     "name": "stdout",
     "output_type": "stream",
     "text": [
      "Validation/Test Epoch 123====> average CTC loss: 3.9124\n",
      "Test Epoch 123====> PER : 38.1289\n",
      "dev [2, 2, 2, 2, 2, 2, 2, 2, 2, 2]\n",
      "\u001b[91mEarlyStopping counter: 123 out of 7\u001b[0m\n",
      "\n"
     ]
    },
    {
     "data": {
      "application/vnd.jupyter.widget-view+json": {
       "model_id": "e50f67ed3cb54d47bdaae5966e815d3c",
       "version_major": 2,
       "version_minor": 0
      },
      "text/plain": [
       "  0%|          | 0/63 [00:00<?, ?it/s]"
      ]
     },
     "metadata": {},
     "output_type": "display_data"
    },
    {
     "name": "stdout",
     "output_type": "stream",
     "text": [
      "Train Epoch: 124 ====> Average CTC loss: 3.8710\n",
      "train [2, 2, 2, 2, 2, 2, 2, 2, 2, 2]\n"
     ]
    },
    {
     "data": {
      "application/vnd.jupyter.widget-view+json": {
       "model_id": "127e296892f24b80bacc2eba96c52208",
       "version_major": 2,
       "version_minor": 0
      },
      "text/plain": [
       "  0%|          | 0/45 [00:00<?, ?it/s]"
      ]
     },
     "metadata": {},
     "output_type": "display_data"
    },
    {
     "name": "stdout",
     "output_type": "stream",
     "text": [
      "Validation/Test Epoch 124====> average CTC loss: 3.8916\n",
      "Test Epoch 124====> PER : 38.1444\n",
      "dev [2, 2, 2, 2, 2, 2, 2, 2, 2, 2]\n",
      "\u001b[91mEarlyStopping counter: 124 out of 7\u001b[0m\n",
      "\n"
     ]
    },
    {
     "data": {
      "application/vnd.jupyter.widget-view+json": {
       "model_id": "d4f2f129b48e4c49a84141bca93b00d3",
       "version_major": 2,
       "version_minor": 0
      },
      "text/plain": [
       "  0%|          | 0/63 [00:00<?, ?it/s]"
      ]
     },
     "metadata": {},
     "output_type": "display_data"
    },
    {
     "name": "stdout",
     "output_type": "stream",
     "text": [
      "Train Epoch: 125 ====> Average CTC loss: 3.8621\n",
      "train [2, 2, 2, 2, 2, 2, 2, 2, 2, 2]\n"
     ]
    },
    {
     "data": {
      "application/vnd.jupyter.widget-view+json": {
       "model_id": "d6f75465d9224ed295619ff2425debc1",
       "version_major": 2,
       "version_minor": 0
      },
      "text/plain": [
       "  0%|          | 0/45 [00:00<?, ?it/s]"
      ]
     },
     "metadata": {},
     "output_type": "display_data"
    },
    {
     "name": "stdout",
     "output_type": "stream",
     "text": [
      "Validation/Test Epoch 125====> average CTC loss: 3.9424\n",
      "Test Epoch 125====> PER : 38.1478\n",
      "dev [2, 2, 2, 2, 2, 2, 2, 2, 2, 2]\n",
      "\u001b[91mEarlyStopping counter: 125 out of 7\u001b[0m\n",
      "\n"
     ]
    },
    {
     "data": {
      "application/vnd.jupyter.widget-view+json": {
       "model_id": "853bd06e4fb0493c9f5e76398eb5c907",
       "version_major": 2,
       "version_minor": 0
      },
      "text/plain": [
       "  0%|          | 0/63 [00:00<?, ?it/s]"
      ]
     },
     "metadata": {},
     "output_type": "display_data"
    }
   ],
   "source": [
    "args.batch_size=16\n",
    "args.epochs=1000\n",
    "bucketSampler_train = BucketSampler(mozilla_dataset_train, batch_size = args.batch_size)\n",
    "bucketSampler_dev = BucketSampler(mozilla_dataset_dev, batch_size = 20)\n",
    "bucketSampler_test_trainingLang = BucketSampler(mozilla_dataset_test_trainingLangs, batch_size = 20)\n",
    "bucketSampler_test_noTrainingLang = BucketSampler(mozilla_dataset_test_nonTrainingLangs, batch_size = 20)\n",
    "bucketSampler_ucla_test = BucketSampler(ucla_dataset_test, batch_size = 20)\n",
    "\n",
    "train_dataloader = DataLoader(mozilla_dataset_train, batch_sampler = bucketSampler_train, collate_fn=collate_fn)#, num_workers=4)\n",
    "dev_dataloader = DataLoader(mozilla_dataset_dev, batch_sampler = bucketSampler_dev, collate_fn=collate_fn)#, num_workers=4)\n",
    "test_dataloader_trainingLang = DataLoader(mozilla_dataset_test_trainingLangs, batch_sampler = bucketSampler_test_trainingLang, collate_fn=collate_fn)#, num_workers=4)\n",
    "test_dataloader_nonTrainingLang = DataLoader(mozilla_dataset_test_nonTrainingLangs, batch_sampler = bucketSampler_test_noTrainingLang, collate_fn=collate_fn)#, num_workers=4)\n",
    "ucla_test_dataloader = DataLoader(ucla_dataset_test, batch_sampler = bucketSampler_ucla_test, collate_fn=collate_fn)#, num_workers=4)\n",
    "\n",
    "basefilename=f\"newnew_relu_adamw_{args.model_name}_nl{model.encoder.bi_LSTM.num_layers}_hd{model.encoder.bi_LSTM.hidden_size}_lr{args.lr}_bs{args.batch_size}_trainSig{args.train_sigmatrix}\"\n",
    "print(\"MODEL SAVE NAME---\",basefilename)\n",
    "\n",
    "model_filename=f\"allosrs/model/{basefilename}.pt\"\n",
    "# model_filename=f\"allosrs/model/dummy-allo-dummy-withper-relu-adamw.pt\"\n",
    "\n",
    "log_filename=f\"allosrs/log/{basefilename}.log\"\n",
    "# log_filename=f\"allosrs/log/dummy-allo-dummy-withper-relu-adamw.log\"\n",
    "with open(log_filename,mode=\"w\") as wfile:\n",
    "    print(\"\",end=\"\",file=wfile)\n",
    "\n",
    "# _,pe_info_test_tl,overall_per_test_tl=evaluate(1-1,test_dataloader_trainingLang,log_filename,mess=\"test\")\n",
    "# _,pe_info_test_ntl,overall_per_test_ntl=evaluate(1-1,test_dataloader_nonTrainingLang,log_filename,mess=\"test\")\n",
    "# _,pe_info_test_ucla,overall_per_test_ucla=evaluate(1-1,ucla_test_dataloader,log_filename,mess=\"test\")\n",
    "\n",
    "es=EarlyStopping(log_file=log_filename,verbose=True,path=model_filename)\n",
    "for epoch in range(1, args.epochs + 1):\n",
    "# for epoch in range(1, 5+ 1):\n",
    "    dev_loss,_,overall_per=evaluate(epoch-1,dev_dataloader,log_filename,mess=\"test\")\n",
    "    print(\"dev\",model.unique_values)\n",
    "    with open(log_filename,mode=\"a\") as wfile:\n",
    "        print(\"dev\",model.unique_values,end=\"\",file=wfile)\n",
    "    # dev_loss=(epoch-5)**2\n",
    "    # es(dev_loss,model)\n",
    "    es(overall_per,model)\n",
    "    # if es.early_stop==True:\n",
    "    #     break\n",
    "    train_loss,signal=train(epoch,train_dataloader,log_filename)\n",
    "    print(\"train\",model.unique_values)\n",
    "    with open(log_filename,mode=\"a\") as wfile:\n",
    "        print(\"train\",model.unique_values,end=\"\",file=wfile)\n",
    "    if signal==True: break\n",
    "    \n"
   ]
  },
  {
   "cell_type": "code",
   "execution_count": 38,
   "metadata": {},
   "outputs": [
    {
     "name": "stdout",
     "output_type": "stream",
     "text": [
      "MODEL SAVE NAME--- newnew_relu_adamw_Heirarch_nl6_hd64_lr0.001_bs16_trainSigTrue\n"
     ]
    },
    {
     "data": {
      "application/vnd.jupyter.widget-view+json": {
       "model_id": "1f1d96eba8de41729e41736d5963f875",
       "version_major": 2,
       "version_minor": 0
      },
      "text/plain": [
       "  0%|          | 0/446 [00:00<?, ?it/s]"
      ]
     },
     "metadata": {},
     "output_type": "display_data"
    },
    {
     "ename": "KeyboardInterrupt",
     "evalue": "",
     "output_type": "error",
     "traceback": [
      "\u001b[0;31m---------------------------------------------------------------------------\u001b[0m",
      "\u001b[0;31mKeyboardInterrupt\u001b[0m                         Traceback (most recent call last)",
      "\u001b[0;32m/tmp/ipykernel_14213/1091602859.py\u001b[0m in \u001b[0;36m<module>\u001b[0;34m\u001b[0m\n\u001b[1;32m     18\u001b[0m \u001b[0mucla_test_dataloader\u001b[0m \u001b[0;34m=\u001b[0m \u001b[0mDataLoader\u001b[0m\u001b[0;34m(\u001b[0m\u001b[0mucla_dataset_test\u001b[0m\u001b[0;34m,\u001b[0m \u001b[0mbatch_sampler\u001b[0m \u001b[0;34m=\u001b[0m \u001b[0mbucketSampler_ucla_test\u001b[0m\u001b[0;34m,\u001b[0m \u001b[0mcollate_fn\u001b[0m\u001b[0;34m=\u001b[0m\u001b[0mcollate_fn\u001b[0m\u001b[0;34m)\u001b[0m\u001b[0;31m#, num_workers=4)\u001b[0m\u001b[0;34m\u001b[0m\u001b[0m\n\u001b[1;32m     19\u001b[0m \u001b[0;34m\u001b[0m\u001b[0m\n\u001b[0;32m---> 20\u001b[0;31m \u001b[0m_\u001b[0m\u001b[0;34m,\u001b[0m\u001b[0mpe_info_test_tl\u001b[0m\u001b[0;34m,\u001b[0m\u001b[0moverall_per_test_tl\u001b[0m\u001b[0;34m=\u001b[0m\u001b[0mevaluate\u001b[0m\u001b[0;34m(\u001b[0m\u001b[0;36m1\u001b[0m\u001b[0;34m-\u001b[0m\u001b[0;36m1\u001b[0m\u001b[0;34m,\u001b[0m\u001b[0mtest_dataloader_trainingLang\u001b[0m\u001b[0;34m,\u001b[0m\u001b[0mlog_filename\u001b[0m\u001b[0;34m,\u001b[0m\u001b[0mmess\u001b[0m\u001b[0;34m=\u001b[0m\u001b[0;34m\"test\"\u001b[0m\u001b[0;34m)\u001b[0m\u001b[0;34m\u001b[0m\u001b[0m\n\u001b[0m\u001b[1;32m     21\u001b[0m \u001b[0m_\u001b[0m\u001b[0;34m,\u001b[0m\u001b[0mpe_info_test_ntl\u001b[0m\u001b[0;34m,\u001b[0m\u001b[0moverall_per_test_ntl\u001b[0m\u001b[0;34m=\u001b[0m\u001b[0mevaluate\u001b[0m\u001b[0;34m(\u001b[0m\u001b[0;36m1\u001b[0m\u001b[0;34m-\u001b[0m\u001b[0;36m1\u001b[0m\u001b[0;34m,\u001b[0m\u001b[0mtest_dataloader_nonTrainingLang\u001b[0m\u001b[0;34m,\u001b[0m\u001b[0mlog_filename\u001b[0m\u001b[0;34m,\u001b[0m\u001b[0mmess\u001b[0m\u001b[0;34m=\u001b[0m\u001b[0;34m\"test\"\u001b[0m\u001b[0;34m)\u001b[0m\u001b[0;34m\u001b[0m\u001b[0m\n\u001b[1;32m     22\u001b[0m \u001b[0m_\u001b[0m\u001b[0;34m,\u001b[0m\u001b[0mpe_info_test_ucla\u001b[0m\u001b[0;34m,\u001b[0m\u001b[0moverall_per_test_ucla\u001b[0m\u001b[0;34m=\u001b[0m\u001b[0mevaluate\u001b[0m\u001b[0;34m(\u001b[0m\u001b[0;36m1\u001b[0m\u001b[0;34m-\u001b[0m\u001b[0;36m1\u001b[0m\u001b[0;34m,\u001b[0m\u001b[0mucla_test_dataloader\u001b[0m\u001b[0;34m,\u001b[0m\u001b[0mlog_filename\u001b[0m\u001b[0;34m,\u001b[0m\u001b[0mmess\u001b[0m\u001b[0;34m=\u001b[0m\u001b[0;34m\"test\"\u001b[0m\u001b[0;34m)\u001b[0m\u001b[0;34m\u001b[0m\u001b[0m\n",
      "\u001b[0;32m/tmp/ipykernel_14213/3101699989.py\u001b[0m in \u001b[0;36mevaluate\u001b[0;34m(epoch, dl, log_file, mess)\u001b[0m\n\u001b[1;32m     21\u001b[0m             \u001b[0mphm_seq_lengths\u001b[0m \u001b[0;34m=\u001b[0m \u001b[0mdata\u001b[0m\u001b[0;34m[\u001b[0m\u001b[0;34m\"phm_seq_lengths\"\u001b[0m\u001b[0;34m]\u001b[0m\u001b[0;34m\u001b[0m\u001b[0m\n\u001b[1;32m     22\u001b[0m             \u001b[0mbatch_size\u001b[0m\u001b[0;34m=\u001b[0m\u001b[0mlen\u001b[0m\u001b[0;34m(\u001b[0m\u001b[0mlang\u001b[0m\u001b[0;34m)\u001b[0m\u001b[0;34m\u001b[0m\u001b[0m\n\u001b[0;32m---> 23\u001b[0;31m             \u001b[0my_predicted\u001b[0m\u001b[0;34m,\u001b[0m\u001b[0m_\u001b[0m \u001b[0;34m=\u001b[0m \u001b[0mmodel\u001b[0m\u001b[0;34m(\u001b[0m\u001b[0mX_mfcc\u001b[0m\u001b[0;34m.\u001b[0m\u001b[0mto\u001b[0m\u001b[0;34m(\u001b[0m\u001b[0mdevice\u001b[0m\u001b[0;34m)\u001b[0m\u001b[0;34m,\u001b[0m \u001b[0mlang\u001b[0m\u001b[0;34m[\u001b[0m\u001b[0;36m0\u001b[0m\u001b[0;34m]\u001b[0m\u001b[0;34m)\u001b[0m\u001b[0;34m\u001b[0m\u001b[0m\n\u001b[0m\u001b[1;32m     24\u001b[0m             loss_a,loss_b, pe_list = model.loss(phm_seq.to(device), y_predicted, \n\u001b[1;32m     25\u001b[0m                                                 \u001b[0mx_mfcc_lengths\u001b[0m\u001b[0;34m.\u001b[0m\u001b[0mto\u001b[0m\u001b[0;34m(\u001b[0m\u001b[0mdevice\u001b[0m\u001b[0;34m)\u001b[0m\u001b[0;34m,\u001b[0m\u001b[0;34m\u001b[0m\u001b[0m\n",
      "\u001b[0;32m/data/cg46773/miniconda3/envs/base3.7/lib/python3.7/site-packages/torch/nn/modules/module.py\u001b[0m in \u001b[0;36m_call_impl\u001b[0;34m(self, *input, **kwargs)\u001b[0m\n\u001b[1;32m   1100\u001b[0m         if not (self._backward_hooks or self._forward_hooks or self._forward_pre_hooks or _global_backward_hooks\n\u001b[1;32m   1101\u001b[0m                 or _global_forward_hooks or _global_forward_pre_hooks):\n\u001b[0;32m-> 1102\u001b[0;31m             \u001b[0;32mreturn\u001b[0m \u001b[0mforward_call\u001b[0m\u001b[0;34m(\u001b[0m\u001b[0;34m*\u001b[0m\u001b[0minput\u001b[0m\u001b[0;34m,\u001b[0m \u001b[0;34m**\u001b[0m\u001b[0mkwargs\u001b[0m\u001b[0;34m)\u001b[0m\u001b[0;34m\u001b[0m\u001b[0m\n\u001b[0m\u001b[1;32m   1103\u001b[0m         \u001b[0;31m# Do not call functions when jit is used\u001b[0m\u001b[0;34m\u001b[0m\u001b[0;34m\u001b[0m\u001b[0m\n\u001b[1;32m   1104\u001b[0m         \u001b[0mfull_backward_hooks\u001b[0m\u001b[0;34m,\u001b[0m \u001b[0mnon_full_backward_hooks\u001b[0m \u001b[0;34m=\u001b[0m \u001b[0;34m[\u001b[0m\u001b[0;34m]\u001b[0m\u001b[0;34m,\u001b[0m \u001b[0;34m[\u001b[0m\u001b[0;34m]\u001b[0m\u001b[0;34m\u001b[0m\u001b[0m\n",
      "\u001b[0;32m/tmp/ipykernel_14213/1331193302.py\u001b[0m in \u001b[0;36mforward\u001b[0;34m(self, X_mfcc, lang_id, phone_attrs)\u001b[0m\n\u001b[1;32m     60\u001b[0m             \u001b[0mphone_attrs\u001b[0m \u001b[0;34m-\u001b[0m\u001b[0;34m-\u001b[0m\u001b[0;34m-\u001b[0m \u001b[0;34m(\u001b[0m\u001b[0mPhm\u001b[0m \u001b[0mx\u001b[0m \u001b[0mA\u001b[0m\u001b[0;34m)\u001b[0m\u001b[0;34m\u001b[0m\u001b[0m\n\u001b[1;32m     61\u001b[0m         '''\n\u001b[0;32m---> 62\u001b[0;31m         \u001b[0mpacked_padded_sequence_output\u001b[0m\u001b[0;34m,\u001b[0m \u001b[0;34m(\u001b[0m\u001b[0mh_n\u001b[0m\u001b[0;34m,\u001b[0m \u001b[0mc_n\u001b[0m\u001b[0;34m)\u001b[0m \u001b[0;34m=\u001b[0m \u001b[0mself\u001b[0m\u001b[0;34m.\u001b[0m\u001b[0mencoder\u001b[0m\u001b[0;34m(\u001b[0m\u001b[0mX_mfcc\u001b[0m\u001b[0;34m)\u001b[0m \u001b[0;31m# returns (B x T x h)\u001b[0m\u001b[0;34m\u001b[0m\u001b[0m\n\u001b[0m\u001b[1;32m     63\u001b[0m         \u001b[0mseq_unpacked\u001b[0m\u001b[0;34m,\u001b[0m \u001b[0mlens_unpacked\u001b[0m \u001b[0;34m=\u001b[0m \u001b[0mpad_packed_sequence\u001b[0m\u001b[0;34m(\u001b[0m\u001b[0mpacked_padded_sequence_output\u001b[0m\u001b[0;34m,\u001b[0m \u001b[0mbatch_first\u001b[0m\u001b[0;34m=\u001b[0m\u001b[0;32mTrue\u001b[0m\u001b[0;34m)\u001b[0m\u001b[0;34m\u001b[0m\u001b[0m\n\u001b[1;32m     64\u001b[0m         \u001b[0;31m# the hidden space is times 2 because it is bidirectional\u001b[0m\u001b[0;34m\u001b[0m\u001b[0;34m\u001b[0m\u001b[0m\n",
      "\u001b[0;32m/data/cg46773/miniconda3/envs/base3.7/lib/python3.7/site-packages/torch/nn/modules/module.py\u001b[0m in \u001b[0;36m_call_impl\u001b[0;34m(self, *input, **kwargs)\u001b[0m\n\u001b[1;32m   1100\u001b[0m         if not (self._backward_hooks or self._forward_hooks or self._forward_pre_hooks or _global_backward_hooks\n\u001b[1;32m   1101\u001b[0m                 or _global_forward_hooks or _global_forward_pre_hooks):\n\u001b[0;32m-> 1102\u001b[0;31m             \u001b[0;32mreturn\u001b[0m \u001b[0mforward_call\u001b[0m\u001b[0;34m(\u001b[0m\u001b[0;34m*\u001b[0m\u001b[0minput\u001b[0m\u001b[0;34m,\u001b[0m \u001b[0;34m**\u001b[0m\u001b[0mkwargs\u001b[0m\u001b[0;34m)\u001b[0m\u001b[0;34m\u001b[0m\u001b[0m\n\u001b[0m\u001b[1;32m   1103\u001b[0m         \u001b[0;31m# Do not call functions when jit is used\u001b[0m\u001b[0;34m\u001b[0m\u001b[0;34m\u001b[0m\u001b[0m\n\u001b[1;32m   1104\u001b[0m         \u001b[0mfull_backward_hooks\u001b[0m\u001b[0;34m,\u001b[0m \u001b[0mnon_full_backward_hooks\u001b[0m \u001b[0;34m=\u001b[0m \u001b[0;34m[\u001b[0m\u001b[0;34m]\u001b[0m\u001b[0;34m,\u001b[0m \u001b[0;34m[\u001b[0m\u001b[0;34m]\u001b[0m\u001b[0;34m\u001b[0m\u001b[0m\n",
      "\u001b[0;32m/tmp/ipykernel_14213/1331193302.py\u001b[0m in \u001b[0;36mforward\u001b[0;34m(self, x)\u001b[0m\n\u001b[1;32m    137\u001b[0m     \u001b[0;32mdef\u001b[0m \u001b[0mforward\u001b[0m\u001b[0;34m(\u001b[0m\u001b[0mself\u001b[0m\u001b[0;34m,\u001b[0m \u001b[0mx\u001b[0m\u001b[0;34m)\u001b[0m\u001b[0;34m:\u001b[0m\u001b[0;34m\u001b[0m\u001b[0m\n\u001b[1;32m    138\u001b[0m         \u001b[0;31m# x is (B x T x F=40), output (B x T x lstm_hidden_size)\u001b[0m\u001b[0;34m\u001b[0m\u001b[0;34m\u001b[0m\u001b[0m\n\u001b[0;32m--> 139\u001b[0;31m         \u001b[0;32mreturn\u001b[0m \u001b[0mself\u001b[0m\u001b[0;34m.\u001b[0m\u001b[0mbi_LSTM\u001b[0m\u001b[0;34m(\u001b[0m\u001b[0mx\u001b[0m\u001b[0;34m)\u001b[0m\u001b[0;34m\u001b[0m\u001b[0m\n\u001b[0m\u001b[1;32m    140\u001b[0m \u001b[0margs\u001b[0m\u001b[0;34m.\u001b[0m\u001b[0mbatch_size\u001b[0m\u001b[0;34m=\u001b[0m\u001b[0;36m64\u001b[0m\u001b[0;34m\u001b[0m\u001b[0m\n\u001b[1;32m    141\u001b[0m \u001b[0;34m\u001b[0m\u001b[0m\n",
      "\u001b[0;32m/data/cg46773/miniconda3/envs/base3.7/lib/python3.7/site-packages/torch/nn/modules/module.py\u001b[0m in \u001b[0;36m_call_impl\u001b[0;34m(self, *input, **kwargs)\u001b[0m\n\u001b[1;32m   1100\u001b[0m         if not (self._backward_hooks or self._forward_hooks or self._forward_pre_hooks or _global_backward_hooks\n\u001b[1;32m   1101\u001b[0m                 or _global_forward_hooks or _global_forward_pre_hooks):\n\u001b[0;32m-> 1102\u001b[0;31m             \u001b[0;32mreturn\u001b[0m \u001b[0mforward_call\u001b[0m\u001b[0;34m(\u001b[0m\u001b[0;34m*\u001b[0m\u001b[0minput\u001b[0m\u001b[0;34m,\u001b[0m \u001b[0;34m**\u001b[0m\u001b[0mkwargs\u001b[0m\u001b[0;34m)\u001b[0m\u001b[0;34m\u001b[0m\u001b[0m\n\u001b[0m\u001b[1;32m   1103\u001b[0m         \u001b[0;31m# Do not call functions when jit is used\u001b[0m\u001b[0;34m\u001b[0m\u001b[0;34m\u001b[0m\u001b[0m\n\u001b[1;32m   1104\u001b[0m         \u001b[0mfull_backward_hooks\u001b[0m\u001b[0;34m,\u001b[0m \u001b[0mnon_full_backward_hooks\u001b[0m \u001b[0;34m=\u001b[0m \u001b[0;34m[\u001b[0m\u001b[0;34m]\u001b[0m\u001b[0;34m,\u001b[0m \u001b[0;34m[\u001b[0m\u001b[0;34m]\u001b[0m\u001b[0;34m\u001b[0m\u001b[0m\n",
      "\u001b[0;32m/data/cg46773/miniconda3/envs/base3.7/lib/python3.7/site-packages/torch/nn/modules/rnn.py\u001b[0m in \u001b[0;36mforward\u001b[0;34m(self, input, hx)\u001b[0m\n\u001b[1;32m    693\u001b[0m         \u001b[0;32melse\u001b[0m\u001b[0;34m:\u001b[0m\u001b[0;34m\u001b[0m\u001b[0m\n\u001b[1;32m    694\u001b[0m             result = _VF.lstm(input, batch_sizes, hx, self._flat_weights, self.bias,\n\u001b[0;32m--> 695\u001b[0;31m                               self.num_layers, self.dropout, self.training, self.bidirectional)\n\u001b[0m\u001b[1;32m    696\u001b[0m         \u001b[0moutput\u001b[0m \u001b[0;34m=\u001b[0m \u001b[0mresult\u001b[0m\u001b[0;34m[\u001b[0m\u001b[0;36m0\u001b[0m\u001b[0;34m]\u001b[0m\u001b[0;34m\u001b[0m\u001b[0m\n\u001b[1;32m    697\u001b[0m         \u001b[0mhidden\u001b[0m \u001b[0;34m=\u001b[0m \u001b[0mresult\u001b[0m\u001b[0;34m[\u001b[0m\u001b[0;36m1\u001b[0m\u001b[0;34m:\u001b[0m\u001b[0;34m]\u001b[0m\u001b[0;34m\u001b[0m\u001b[0m\n",
      "\u001b[0;31mKeyboardInterrupt\u001b[0m: "
     ]
    }
   ],
   "source": [
    "args.batch_size=16\n",
    "\n",
    "basefilename=f\"newnew_relu_adamw_{args.model_name}_nl{model.encoder.bi_LSTM.num_layers}_hd{model.encoder.bi_LSTM.hidden_size}_lr{args.lr}_bs{args.batch_size}_trainSig{args.train_sigmatrix}\"\n",
    "print(\"MODEL SAVE NAME---\",basefilename)\n",
    "\n",
    "model_filename=f\"allosrs/model/{basefilename}.pt\"\n",
    "# model_filename=f\"allosrs/model/dummy-allo-dummy-withper-relu-adamw.pt\"\n",
    "\n",
    "log_filename=f\"allosrs/log/{basefilename}.log\"\n",
    "bucketSampler_test_trainingLang = BucketSampler(mozilla_dataset_test_trainingLangs, batch_size = 20)\n",
    "bucketSampler_test_noTrainingLang = BucketSampler(mozilla_dataset_test_nonTrainingLangs, batch_size = 20)\n",
    "test_dataloader_trainingLang = DataLoader(mozilla_dataset_test_trainingLangs, batch_sampler = bucketSampler_test_trainingLang, collate_fn=collate_fn)#, num_workers=4)\n",
    "test_dataloader_nonTrainingLang = DataLoader(mozilla_dataset_test_nonTrainingLangs, batch_sampler = bucketSampler_test_noTrainingLang, collate_fn=collate_fn)#, num_workers=4)\n",
    "\n",
    "model.load_state_dict(torch.load(model_filename))\n",
    "model.eval()\n",
    "bucketSampler_ucla_test = BucketSampler(ucla_dataset_test, batch_size = 20)\n",
    "ucla_test_dataloader = DataLoader(ucla_dataset_test, batch_sampler = bucketSampler_ucla_test, collate_fn=collate_fn)#, num_workers=4)\n",
    "\n",
    "_,pe_info_test_tl,overall_per_test_tl=evaluate(1-1,test_dataloader_trainingLang,log_filename,mess=\"test\")\n",
    "_,pe_info_test_ntl,overall_per_test_ntl=evaluate(1-1,test_dataloader_nonTrainingLang,log_filename,mess=\"test\")\n",
    "_,pe_info_test_ucla,overall_per_test_ucla=evaluate(1-1,ucla_test_dataloader,log_filename,mess=\"test\")\n"
   ]
  },
  {
   "cell_type": "code",
   "execution_count": null,
   "metadata": {},
   "outputs": [],
   "source": [
    "print(basefilename,log_filename)\n",
    "print(\"Training lang average PER\",overall_per_test_tl)\n",
    "print(\"NOn-Training lang TEST average PER\",overall_per_test_ntl)\n",
    "print(\"UCLA Test lang average PER\",overall_per_test_ucla)\n"
   ]
  },
  {
   "cell_type": "code",
   "execution_count": 40,
   "metadata": {},
   "outputs": [
    {
     "name": "stderr",
     "output_type": "stream",
     "text": [
      "/data/cg46773/miniconda3/envs/base3.7/lib/python3.7/site-packages/sklearn/manifold/_t_sne.py:783: FutureWarning: The default initialization in TSNE will change from 'random' to 'pca' in 1.2.\n",
      "  FutureWarning,\n",
      "/data/cg46773/miniconda3/envs/base3.7/lib/python3.7/site-packages/sklearn/manifold/_t_sne.py:793: FutureWarning: The default learning rate in TSNE will change from 200.0 to 'auto' in 1.2.\n",
      "  FutureWarning,\n",
      "/data/cg46773/miniconda3/envs/base3.7/lib/python3.7/site-packages/seaborn/_decorators.py:43: FutureWarning: Pass the following variables as keyword args: x, y. From version 0.12, the only valid positional argument will be `data`, and passing other arguments without an explicit keyword will result in an error or misinterpretation.\n",
      "  FutureWarning\n",
      "/data/cg46773/miniconda3/envs/base3.7/lib/python3.7/site-packages/seaborn/regression.py:581: UserWarning: The `size` parameter has been renamed to `height`; please update your code.\n",
      "  warnings.warn(msg, UserWarning)\n"
     ]
    },
    {
     "data": {
      "image/png": "[encoded data removed]",
      "text/plain": [
       "<Figure size 216x216 with 1 Axes>"
      ]
     },
     "metadata": {
      "needs_background": "light"
     },
     "output_type": "display_data"
    }
   ],
   "source": [
    "# TSNE\n",
    "# Picking the top 1000 points as TSNE\n",
    "# takes a lot of time for 15K points\n",
    "from sklearn.manifold import TSNE\n",
    "from sklearn.preprocessing import StandardScaler\n",
    "import seaborn as sn\n",
    "import matplotlib.pyplot as plt\n",
    "lang_code=\"eng\"\n",
    "lang_id=locale_to_id[lang_code]\n",
    "# phones_to_choose=[\"k\",\"p\",\"tʰ\",\"pʰ\",\"s\",\"ɪ\",\"m\",\"b\",\"t\",\"s\",\"a\",\"e\",\"i\",\"o\",\n",
    "                 # \"n\",\"ŋ\",\"ɭ\",\"θ\",\"f\"]\n",
    "# phones_ids=[lang_to_phone_to_ids[lang_code][i] for i in phones_to_choose]\n",
    "phones_ids=list(range(2,49))\n",
    "phones_to_choose=[lang_to_ids_to_phone[lang_code][i] for i in phones_ids]\n",
    "data_1000 = model.attr_embeds(lang_to_phoneId_to_attrib_array[lang_id][phones_ids]).detach().cpu().numpy()\n",
    "# labels_1000 = [lang_to_ids_to_phone[lang_code][i] for i in range(len(lang_to_ids_to_phone[lang_code]))]\n",
    "labels_1000 = phones_to_choose\n",
    "\n",
    "model_tsne = TSNE(n_components = 2, random_state = 0)\n",
    "# configuring the parameters\n",
    "# the number of components = 2\n",
    "# default perplexity = 30\n",
    "# default learning rate = 200\n",
    "# default Maximum number of iterations\n",
    "# for the optimization = 1000\n",
    "\n",
    "tsne_data = model_tsne.fit_transform(data_1000)\n",
    "\n",
    "# creating a new data frame which\n",
    "# help us in plotting the result data\n",
    "tsne_data = np.vstack((tsne_data.T, labels_1000)).T\n",
    "tsne_df = pd.DataFrame(data = tsne_data,\n",
    "\tcolumns =(\"Dim_1\", \"Dim_2\", \"label\"))\n",
    "tsne_df.Dim_1=pd.to_numeric(tsne_df.Dim_1)\n",
    "tsne_df.Dim_2=pd.to_numeric(tsne_df.Dim_2)\n",
    "# tsne_df.Dim_2=tsne_df.Dim_2.to_numeric()\n",
    "\n",
    "# fig, ax = plt.subplots(1)\n",
    "# sn.scatterplot(x='Dim_1', y='Dim_2', hue='label', data=tsne_df, ax=ax,s=120, legend=phones_to_choose)\n",
    "# lim = (tsne_data.min()-50, tsne_data.max()+50)\n",
    "# ax.set_xlim(lim)\n",
    "# ax.set_ylim(lim)\n",
    "# ax.set_aspect('equal')\n",
    "# # ax.legend(bbox_to_anchor=(1.05, 1), loc=2, borderaxespad=0.0)\n",
    "# ax.legend()\n",
    "\n",
    "ax = sn.lmplot('Dim_1', # Horizontal axis\n",
    "           'Dim_2', # Vertical axis\n",
    "           data=tsne_df, # Data source\n",
    "           fit_reg=False, # Don't fix a regression line\n",
    "           size = 3,\n",
    "           aspect =1) # size and dimension\n",
    "\n",
    "plt.title('t-SNE projection of Phone embeddings')\n",
    "# Set x-axis label\n",
    "plt.xlabel('Dim 1')\n",
    "# Set y-axis label\n",
    "plt.ylabel('Dim 2')\n",
    "\n",
    "\n",
    "def label_point(ax):\n",
    "    for i, point in tsne_df.iterrows():\n",
    "        # print(type(point['x']))\n",
    "        ax.text(point['Dim_1']+.02, point['Dim_2'], str(point['label']),size=13)\n",
    "\n",
    "label_point(plt.gca())  \n"
   ]
  },
  {
   "cell_type": "code",
   "execution_count": 101,
   "metadata": {},
   "outputs": [
    {
     "data": {
      "text/plain": [
       "Parameter containing:\n",
       "tensor([[ 9.9985e-01, -1.0000e-08, -9.9841e-09,  ..., -1.0019e-08,\n",
       "          1.6943e-03, -1.0000e-08],\n",
       "        [-9.9991e-09,  1.0013e+00,  1.4200e-04,  ..., -1.0001e-08,\n",
       "         -9.9991e-09, -9.9998e-09],\n",
       "        [-9.9991e-09, -1.0003e-08,  1.0029e+00,  ..., -9.9991e-09,\n",
       "         -9.9991e-09, -9.9991e-09],\n",
       "        ...,\n",
       "        [-9.9991e-09,  5.8687e-06, -1.0073e-09,  ..., -1.0085e-08,\n",
       "         -1.0001e-08, -1.1462e-08],\n",
       "        [-9.9991e-09, -1.0011e-08, -1.5448e-05,  ..., -3.5731e-04,\n",
       "          1.6974e-03, -1.7604e-04],\n",
       "        [-9.9991e-09, -9.5259e-06,  1.0069e-03,  ..., -9.9991e-09,\n",
       "         -9.9991e-09, -9.9991e-09]], device='cuda:0', requires_grad=True)"
      ]
     },
     "execution_count": 101,
     "metadata": {},
     "output_type": "execute_result"
    }
   ],
   "source": [
    "model.allosaurus_layer_matrix[0]"
   ]
  },
  {
   "cell_type": "code",
   "execution_count": 177,
   "metadata": {},
   "outputs": [
    {
     "ename": "SyntaxError",
     "evalue": "invalid syntax (1642992257.py, line 2)",
     "output_type": "error",
     "traceback": [
      "\u001b[0;36m  File \u001b[0;32m\"/tmp/ipykernel_16629/1642992257.py\"\u001b[0;36m, line \u001b[0;32m2\u001b[0m\n\u001b[0;31m    (x@x.T)ctc_loss\u001b[0m\n\u001b[0m                  ^\u001b[0m\n\u001b[0;31mSyntaxError\u001b[0m\u001b[0;31m:\u001b[0m invalid syntax\n"
     ]
    }
   ],
   "source": [
    "x=model.phone_distribution_transf_matrix.weight.detach()\n",
    "(x@x.T)ctc_loss"
   ]
  },
  {
   "cell_type": "code",
   "execution_count": 75,
   "metadata": {
    "collapsed": true,
    "jupyter": {
     "outputs_hidden": true
    },
    "tags": []
   },
   "outputs": [
    {
     "data": {
      "text/plain": [
       "tensor([[6.2980e+00, 6.5567e-01, 0.0000e+00,  ..., 1.1314e-03, 0.0000e+00,\n",
       "         0.0000e+00],\n",
       "        [6.2886e+00, 6.5413e-01, 0.0000e+00,  ..., 1.6784e-03, 0.0000e+00,\n",
       "         0.0000e+00],\n",
       "        [6.2717e+00, 6.5207e-01, 0.0000e+00,  ..., 2.1031e-03, 0.0000e+00,\n",
       "         0.0000e+00],\n",
       "        ...,\n",
       "        [6.3358e+00, 6.6066e-01, 0.0000e+00,  ..., 0.0000e+00, 0.0000e+00,\n",
       "         0.0000e+00],\n",
       "        [6.3370e+00, 6.6051e-01, 0.0000e+00,  ..., 0.0000e+00, 0.0000e+00,\n",
       "         0.0000e+00],\n",
       "        [6.3361e+00, 6.5987e-01, 0.0000e+00,  ..., 0.0000e+00, 0.0000e+00,\n",
       "         0.0000e+00]])"
      ]
     },
     "execution_count": 75,
     "metadata": {},
     "output_type": "execute_result"
    }
   ],
   "source": [
    "# torch.nn.functional.log_softmax(\n",
    "torch.amax(scores[-10],dim=-1)"
   ]
  },
  {
   "cell_type": "code",
   "execution_count": null,
   "metadata": {},
   "outputs": [],
   "source": [
    "model.allosaurus_layer_matrix.keys()"
   ]
  },
  {
   "cell_type": "code",
   "execution_count": 45,
   "metadata": {},
   "outputs": [
    {
     "data": {
      "text/plain": [
       "4"
      ]
     },
     "execution_count": 45,
     "metadata": {},
     "output_type": "execute_result"
    }
   ],
   "source": [
    "import editdistance\n",
    "editdistance.eval('banana', 'nbn')\n"
   ]
  },
  {
   "cell_type": "code",
   "execution_count": null,
   "metadata": {},
   "outputs": [],
   "source": [
    "a=torch.nn.Parameter(torch.zeros(3,3))\n",
    "torch.linalg.matrix_norm(a-a+1)"
   ]
  },
  {
   "cell_type": "code",
   "execution_count": null,
   "metadata": {},
   "outputs": [],
   "source": [
    "\n",
    "set(mozilla_dataset_train.lang)"
   ]
  },
  {
   "cell_type": "code",
   "execution_count": null,
   "metadata": {},
   "outputs": [],
   "source": [
    "signature_matrix"
   ]
  },
  {
   "cell_type": "code",
   "execution_count": null,
   "metadata": {},
   "outputs": [],
   "source": []
  },
  {
   "cell_type": "code",
   "execution_count": null,
   "metadata": {},
   "outputs": [],
   "source": []
  },
  {
   "cell_type": "code",
   "execution_count": null,
   "metadata": {},
   "outputs": [],
   "source": []
  }
 ],
 "metadata": {
  "kernelspec": {
   "display_name": "Python 3 (ipykernel)",
   "language": "python",
   "name": "python3"
  },
  "language_info": {
   "codemirror_mode": {
    "name": "ipython",
    "version": 3
   },
   "file_extension": ".py",
   "mimetype": "text/x-python",
   "name": "python",
   "nbconvert_exporter": "python",
   "pygments_lexer": "ipython3",
   "version": "3.7.0"
  },
  "vscode": {
   "interpreter": {
    "hash": "5e6617ec83aa391bede3392ef2e6ceb28ce1b7bd91d34d663fce0e811022229b"
   }
  }
 },
 "nbformat": 4,
 "nbformat_minor": 4
}
